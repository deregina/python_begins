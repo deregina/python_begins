{
 "cells": [
  {
   "cell_type": "code",
   "execution_count": 28,
   "metadata": {},
   "outputs": [],
   "source": [
    "a = [ 7, 8, 1 ]"
   ]
  },
  {
   "cell_type": "code",
   "execution_count": 6,
   "metadata": {},
   "outputs": [],
   "source": [
    "b = [ 1, 9, 7, 9, 8, 10, 2, 3 ]"
   ]
  },
  {
   "cell_type": "code",
   "execution_count": 7,
   "metadata": {},
   "outputs": [
    {
     "data": {
      "text/plain": [
       "1"
      ]
     },
     "execution_count": 7,
     "metadata": {},
     "output_type": "execute_result"
    }
   ],
   "source": [
    "a[0]"
   ]
  },
  {
   "cell_type": "code",
   "execution_count": null,
   "metadata": {},
   "outputs": [],
   "source": []
  },
  {
   "cell_type": "code",
   "execution_count": 35,
   "metadata": {},
   "outputs": [
    {
     "name": "stdout",
     "output_type": "stream",
     "text": [
      "Yes\n"
     ]
    }
   ],
   "source": [
    "i = 0\n",
    "\n",
    "for i in range(len(a)):\n",
    "    if len(a) > len(b):\n",
    "        print(\"No\")\n",
    "        break\n",
    "    elif a[i] in b:\n",
    "        i += 1\n",
    "        pass\n",
    "    else:\n",
    "        i += 1\n",
    "        print(\"No\")\n",
    "        break\n",
    "print(\"Yes\")"
   ]
  },
  {
   "cell_type": "code",
   "execution_count": 31,
   "metadata": {},
   "outputs": [
    {
     "name": "stdout",
     "output_type": "stream",
     "text": [
      "No\n"
     ]
    }
   ],
   "source": []
  },
  {
   "cell_type": "code",
   "execution_count": 33,
   "metadata": {},
   "outputs": [
    {
     "data": {
      "text/plain": [
       "[1, 7, 8, 9, 9, 10]"
      ]
     },
     "execution_count": 33,
     "metadata": {},
     "output_type": "execute_result"
    }
   ],
   "source": [
    "b"
   ]
  },
  {
   "cell_type": "code",
   "execution_count": null,
   "metadata": {},
   "outputs": [],
   "source": [
    "fibo(0) = 1\n",
    "fibo(1) = 1\n",
    "fibo(2) = 1+1 = 2\n",
    "fibo(3) = 1+2 = 3\n",
    "fibo(4) = 2+3 = 5"
   ]
  },
  {
   "cell_type": "code",
   "execution_count": 36,
   "metadata": {},
   "outputs": [],
   "source": [
    "  \n",
    "def fibo(num) :\n",
    "    if num == 0 or num == 1:\n",
    "        return 1\n",
    "    else : \n",
    "        return fibo(num-1) + fibo(num-2)"
   ]
  },
  {
   "cell_type": "code",
   "execution_count": 61,
   "metadata": {},
   "outputs": [
    {
     "name": "stdout",
     "output_type": "stream",
     "text": [
      "165580141\n"
     ]
    }
   ],
   "source": [
    "first_num = 1\n",
    "second_num = 1\n",
    "cnt = 0\n",
    "n = 40\n",
    "i = 0\n",
    "\n",
    "for i in range(n-1):\n",
    "    temp_num = first_num + second_num\n",
    "    first_num = second_num\n",
    "    second_num = temp_num\n",
    "    i += 1\n",
    "print(second_num)"
   ]
  },
  {
   "cell_type": "code",
   "execution_count": null,
   "metadata": {},
   "outputs": [],
   "source": [
    "1. 처음에는 무조건 왼쪽으로 간다\n",
    "2. 막다른 길에 오면 가장 최근 분기점으로 돌아가서 하나씩 오른쪽으로 바꿔본다"
   ]
  }
 ],
 "metadata": {
  "kernelspec": {
   "display_name": "Python 3",
   "language": "python",
   "name": "python3"
  },
  "language_info": {
   "codemirror_mode": {
    "name": "ipython",
    "version": 3
   },
   "file_extension": ".py",
   "mimetype": "text/x-python",
   "name": "python",
   "nbconvert_exporter": "python",
   "pygments_lexer": "ipython3",
   "version": "3.7.3"
  }
 },
 "nbformat": 4,
 "nbformat_minor": 2
}
