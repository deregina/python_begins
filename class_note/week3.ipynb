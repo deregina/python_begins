{
 "cells": [
  {
   "cell_type": "markdown",
   "metadata": {},
   "source": [
    "저번시간 복습/ 과제에서 질문\n",
    "1. http://icpc.me/10809 .find()\n",
    "2. http://icpc.me/1157 .lower(), .upper()\n",
    "3. http://icpc.me/2908"
   ]
  },
  {
   "cell_type": "markdown",
   "metadata": {},
   "source": [
    "BOJ에 대하여\n",
    "1. 작동 원리\n",
    "    - 예제 형식 그대로의 입/출력을 비교한다.\n",
    "    - 각 줄의 맨 끝 공백 NO!\n",
    "    - 출력의 맨 끝의 줄바꿈 NO!\n",
    "    - 테스트케이스마다 출력하되 순서만 지키면 된다.\n",
    "2. 결과\n",
    "    - 맞았습니다\n",
    "    - 틀렸습니다\n",
    "    - 시간 초과 : 시간은 테스트 파일마다 측정, 무한루프 의심\n",
    "    - 컴파일 에러: 채점 현황의 링크를 클릭하면 이유를 확인할 수 있다.\n",
    "    - 런타임 에러: segmentation fault/ 인덱스 확인, 함수 호출 등 \n",
    "    - 출력 초과\n",
    "    - 출력 형식이~ : 답은 맞지만 문제의 출력 형식과 달라서.\n",
    "    - 메모리 초과\n",
    "3. Python 자주 틀리는 이유\n",
    "    - 외장모듈 지원X\n",
    "    - is와 ==은 다르다.\n",
    "    - queue를 사용하고 싶을 땐 collections.deque\n",
    "    - int(a/b) 보다는 a//b\n",
    "\n",
    "출처: BOJ홈페이지 [BOJ101](https://www.acmicpc.net/blog/view/55), \n",
    "[자주 틀리는 요인](https://www.acmicpc.net/blog/view/70)"
   ]
  },
  {
   "cell_type": "markdown",
   "metadata": {},
   "source": [
    "# 조건문"
   ]
  },
  {
   "cell_type": "markdown",
   "metadata": {},
   "source": [
    "<BOJ 단계별로 풀어보기>\n",
    "- [1330 두 수 비교하기](https://www.acmicpc.net/problem/1330)\n",
    "- [9498 시험 성적](https://www.acmicpc.net/problem/9498)\n",
    "- [2753 윤년](https://www.acmicpc.net/problem/2753) : 기본 중의 기본 문제"
   ]
  },
  {
   "cell_type": "markdown",
   "metadata": {},
   "source": [
    "# 반복문"
   ]
  },
  {
   "cell_type": "code",
   "execution_count": null,
   "metadata": {},
   "outputs": [],
   "source": [
    "for 글자 in \"세정\":\n",
    "    print(글자)"
   ]
  },
  {
   "cell_type": "code",
   "execution_count": null,
   "metadata": {},
   "outputs": [],
   "source": [
    "#for i in range(start=0, stop, step)\n",
    "for i in range(10):\n",
    "    print(i)\n",
    "    if i==5:\n",
    "        print(\"나는 보우야\")\n",
    "        continue\n",
    "    if i > 3:\n",
    "        print(\"세정아 안녕\")\n",
    "        "
   ]
  },
  {
   "cell_type": "code",
   "execution_count": null,
   "metadata": {},
   "outputs": [],
   "source": [
    "i=0\n",
    "while True :\n",
    "    print(i)\n",
    "    i += 1\n",
    "    if (i==10):\n",
    "        print(\"그만\")\n",
    "        break\n"
   ]
  },
  {
   "cell_type": "markdown",
   "metadata": {},
   "source": [
    "로그인 함수 만들기:\n",
    "1. only with password\n",
    "2. with id (중첩 for문)"
   ]
  },
  {
   "cell_type": "code",
   "execution_count": null,
   "metadata": {},
   "outputs": [],
   "source": [
    "_id = 'deregina'\n",
    "_pw = '12345'"
   ]
  },
  {
   "cell_type": "code",
   "execution_count": null,
   "metadata": {
    "scrolled": true
   },
   "outputs": [],
   "source": [
    "_input=\"\"\n",
    "while(_input != _pw):\n",
    "    _input= input(\"input pw: \".capitalize())\n",
    "print('login success'.capitalize())"
   ]
  },
  {
   "cell_type": "markdown",
   "metadata": {},
   "source": [
    "# Python3 built-in types\n",
    "[official documentation](https://docs.python.org/3/library/stdtypes.html#built-in-types)"
   ]
  },
  {
   "cell_type": "markdown",
   "metadata": {},
   "source": [
    "1. numeric types\n",
    "\n",
    "2. sequence types\n",
    "    - str\n",
    "    - list(드디어!)"
   ]
  },
  {
   "cell_type": "code",
   "execution_count": null,
   "metadata": {},
   "outputs": [],
   "source": [
    "a = \"Hello\"\n",
    "b = list(\"Hello\") # b = list(a)"
   ]
  },
  {
   "cell_type": "code",
   "execution_count": null,
   "metadata": {
    "scrolled": true
   },
   "outputs": [],
   "source": [
    "print(type(a), a)\n",
    "print(type(b), b)"
   ]
  },
  {
   "cell_type": "code",
   "execution_count": null,
   "metadata": {},
   "outputs": [],
   "source": [
    "a[3]"
   ]
  },
  {
   "cell_type": "code",
   "execution_count": null,
   "metadata": {
    "scrolled": true
   },
   "outputs": [],
   "source": [
    "a[3] = 3"
   ]
  },
  {
   "cell_type": "code",
   "execution_count": null,
   "metadata": {},
   "outputs": [],
   "source": [
    "b[3]"
   ]
  },
  {
   "cell_type": "code",
   "execution_count": null,
   "metadata": {},
   "outputs": [],
   "source": [
    "b[3] = 3"
   ]
  },
  {
   "cell_type": "code",
   "execution_count": null,
   "metadata": {},
   "outputs": [],
   "source": [
    "b"
   ]
  },
  {
   "cell_type": "markdown",
   "metadata": {},
   "source": [
    "연산과 메소드(특정 자료형이 딸려오는 함수)\n",
    "\n",
    "- in. not in \n",
    "- +, *\n",
    "- [i], [i:j], [i:j:k] (k는 간격)\n",
    "- len(), min(), max()\n",
    "- .index(), .count()"
   ]
  },
  {
   "cell_type": "code",
   "execution_count": null,
   "metadata": {},
   "outputs": [],
   "source": [
    "a"
   ]
  },
  {
   "cell_type": "code",
   "execution_count": null,
   "metadata": {},
   "outputs": [],
   "source": [
    "a = [1, 2]\n",
    "b = [3, 4]"
   ]
  },
  {
   "cell_type": "code",
   "execution_count": null,
   "metadata": {},
   "outputs": [],
   "source": [
    "a.append(b) # a.append(b.copy())"
   ]
  },
  {
   "cell_type": "code",
   "execution_count": null,
   "metadata": {},
   "outputs": [],
   "source": [
    "print(a, b, sep='\\n')"
   ]
  },
  {
   "cell_type": "code",
   "execution_count": null,
   "metadata": {},
   "outputs": [],
   "source": [
    "b.append(5)"
   ]
  },
  {
   "cell_type": "code",
   "execution_count": null,
   "metadata": {
    "scrolled": false
   },
   "outputs": [],
   "source": [
    "print(a, b)"
   ]
  },
  {
   "cell_type": "markdown",
   "metadata": {},
   "source": [
    "## list methods\n",
    "\n",
    "- append(x), extend(L), insert(i, x), remove(x), reverse(x), sort()\n",
    "- .sort(), .pop([i])\n",
    "- .count(), .index(x)"
   ]
  },
  {
   "cell_type": "code",
   "execution_count": 13,
   "metadata": {
    "scrolled": true
   },
   "outputs": [
    {
     "data": {
      "text/plain": [
       "['__add__',\n",
       " '__class__',\n",
       " '__contains__',\n",
       " '__delattr__',\n",
       " '__delitem__',\n",
       " '__dir__',\n",
       " '__doc__',\n",
       " '__eq__',\n",
       " '__format__',\n",
       " '__ge__',\n",
       " '__getattribute__',\n",
       " '__getitem__',\n",
       " '__gt__',\n",
       " '__hash__',\n",
       " '__iadd__',\n",
       " '__imul__',\n",
       " '__init__',\n",
       " '__init_subclass__',\n",
       " '__iter__',\n",
       " '__le__',\n",
       " '__len__',\n",
       " '__lt__',\n",
       " '__mul__',\n",
       " '__ne__',\n",
       " '__new__',\n",
       " '__reduce__',\n",
       " '__reduce_ex__',\n",
       " '__repr__',\n",
       " '__reversed__',\n",
       " '__rmul__',\n",
       " '__setattr__',\n",
       " '__setitem__',\n",
       " '__sizeof__',\n",
       " '__str__',\n",
       " '__subclasshook__',\n",
       " 'append',\n",
       " 'clear',\n",
       " 'copy',\n",
       " 'count',\n",
       " 'extend',\n",
       " 'index',\n",
       " 'insert',\n",
       " 'pop',\n",
       " 'remove',\n",
       " 'reverse',\n",
       " 'sort']"
      ]
     },
     "execution_count": 13,
     "metadata": {},
     "output_type": "execute_result"
    }
   ],
   "source": [
    "dir(list)"
   ]
  },
  {
   "cell_type": "code",
   "execution_count": 11,
   "metadata": {},
   "outputs": [],
   "source": [
    "a = [1, 2]\n",
    "b = a.append(3)"
   ]
  },
  {
   "cell_type": "code",
   "execution_count": 12,
   "metadata": {},
   "outputs": [
    {
     "name": "stdout",
     "output_type": "stream",
     "text": [
      "[1, 2, 3]\n",
      "None\n"
     ]
    }
   ],
   "source": [
    "print(a, b, sep='\\n')"
   ]
  },
  {
   "cell_type": "markdown",
   "metadata": {},
   "source": [
    "# 풀어보세요 ! 화이팅!"
   ]
  },
  {
   "cell_type": "markdown",
   "metadata": {},
   "source": [
    "\n",
    "- [10817 세 수](https://www.acmicpc.net/problem/10817) : 기본 solution: 중첩 if (그치만 안쓰고도 풀 수 있다)\n",
    "- [2884 알람 시계](https://www.acmicpc.net/problem/2884) : 아주 조금의 응용: 정말로 중첩 if"
   ]
  },
  {
   "cell_type": "markdown",
   "metadata": {},
   "source": [
    "- [2908 상수](http://icpc.me/2908): idea of [::-1]/ 글자 뒤집기"
   ]
  },
  {
   "cell_type": "markdown",
   "metadata": {},
   "source": [
    "- [BOJ 14405번: 피카츄](https://www.acmicpc.net/problem/14405)"
   ]
  },
  {
   "cell_type": "code",
   "execution_count": null,
   "metadata": {},
   "outputs": [],
   "source": [
    "name_list = ['세정', '도원', '보우', '지웅', '예은']"
   ]
  },
  {
   "cell_type": "code",
   "execution_count": null,
   "metadata": {},
   "outputs": [],
   "source": [
    "for name in name_list:\n",
    "    print(\"{}은(는) 국제팀 직원이다.\".format(name))"
   ]
  }
 ],
 "metadata": {
  "kernelspec": {
   "display_name": "Python 3",
   "language": "python",
   "name": "python3"
  },
  "language_info": {
   "codemirror_mode": {
    "name": "ipython",
    "version": 3
   },
   "file_extension": ".py",
   "mimetype": "text/x-python",
   "name": "python",
   "nbconvert_exporter": "python",
   "pygments_lexer": "ipython3",
   "version": "3.7.3"
  }
 },
 "nbformat": 4,
 "nbformat_minor": 2
}
