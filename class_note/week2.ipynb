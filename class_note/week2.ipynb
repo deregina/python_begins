{
 "cells": [
  {
   "cell_type": "markdown",
   "metadata": {},
   "source": [
    "저번시간 복습/ 과제에서 질문\n",
    "1. 'from math import *'에서 *은 무슨 뜻인가요?\n",
    "2. float 함수는 항상 한 개씩만 대입할 수 있나요?\n",
    "3. 왜 map을 입력안하면 x가 두 개 숫자가 들어있는 list가 될까\n",
    "4. map의 기능은 무엇인가"
   ]
  },
  {
   "cell_type": "markdown",
   "metadata": {},
   "source": [
    "# print 연습과 문자열 다루기"
   ]
  },
  {
   "cell_type": "markdown",
   "metadata": {},
   "source": [
    "1. formatting, https://docs.python.org/3/library/string.html#formatspec\n",
    "2. 특수문자 출력하기"
   ]
  },
  {
   "cell_type": "code",
   "execution_count": 1,
   "metadata": {},
   "outputs": [],
   "source": [
    "import math as m\n",
    "h=10\n",
    "x=5\n",
    "result = 2*m.pi*x*h + 2*m.pi*x**2"
   ]
  },
  {
   "cell_type": "code",
   "execution_count": 2,
   "metadata": {},
   "outputs": [],
   "source": [
    "msg = \"높이가 \"+str(h)+\"이고 반지름이 \"+str(x)+\"인 원기둥의 겉넓이는 \"+str(result)+\"입니다.\""
   ]
  },
  {
   "cell_type": "code",
   "execution_count": 3,
   "metadata": {},
   "outputs": [
    {
     "name": "stdout",
     "output_type": "stream",
     "text": [
      "높이가 10이고 반지름이 5인 원기둥의 겉넓이는 471.23889803846896입니다.\n"
     ]
    }
   ],
   "source": [
    "print(msg)"
   ]
  },
  {
   "cell_type": "code",
   "execution_count": 4,
   "metadata": {
    "scrolled": false
   },
   "outputs": [
    {
     "name": "stdout",
     "output_type": "stream",
     "text": [
      "높이가 10 이고 반지름이 5 인 원기둥의 겉넓이는 471.23889803846896 입니다.\n"
     ]
    }
   ],
   "source": [
    "print(\"높이가\",h, \"이고 반지름이\",x, \"인 원기둥의 겉넓이는\",result, \"입니다.\")"
   ]
  },
  {
   "cell_type": "markdown",
   "metadata": {},
   "source": [
    "https://docs.python.org/3/library/functions.html#print <br>\n",
    "**print(*objects, sep=' ', end='\\n', file=sys.stdout, flush=False)**"
   ]
  },
  {
   "cell_type": "code",
   "execution_count": 5,
   "metadata": {},
   "outputs": [
    {
     "name": "stdout",
     "output_type": "stream",
     "text": [
      "높이가\n",
      "10\n",
      "이고 반지름이\n",
      "5\n",
      "인 원기둥의 겉넓이는\n",
      "471.23889803846896\n",
      "입니다.\n"
     ]
    }
   ],
   "source": [
    "print(\"높이가\", h, \"이고 반지름이\", x, \"인 원기둥의 겉넓이는\",result, \"입니다.\", sep='\\n')"
   ]
  },
  {
   "cell_type": "code",
   "execution_count": 6,
   "metadata": {},
   "outputs": [
    {
     "name": "stdout",
     "output_type": "stream",
     "text": [
      "높이가 10 이고 반지름이 5 인 원기둥의 겉넓이는 471.23889803846896 입니다..."
     ]
    }
   ],
   "source": [
    "print(\"높이가\", h, \"이고 반지름이\", x, \"인 원기둥의 겉넓이는\",result, \"입니다.\", end='..')"
   ]
  },
  {
   "cell_type": "markdown",
   "metadata": {},
   "source": [
    "##### formatting\n",
    "- {:<}, {:^}, {:>}\n",
    "- {:a.2f}\n",
    "- {:,}"
   ]
  },
  {
   "cell_type": "code",
   "execution_count": 7,
   "metadata": {},
   "outputs": [
    {
     "name": "stdout",
     "output_type": "stream",
     "text": [
      "높이가 10.00이고 반지름이  5.00인 원기둥의 겉넓이는 471.2389입니다.\n",
      "높이가 A이고 '반지름이  5.00'인 원기둥의 겉넓이는 471.2389입니다.\n"
     ]
    }
   ],
   "source": [
    "# printf type\n",
    "print(\"높이가 %5.2f이고 반지름이 %5.2f인 원기둥의 겉넓이는 %7.4f입니다.\" % (h, x, result))\n",
    "\n",
    "# python formatting\n",
    "print('높이가 {:X}이고 \\'반지름이 {:5.2f}\\'인 원기둥의 겉넓이는 {:7.4f}입니다.'.format(h, x, result))"
   ]
  },
  {
   "cell_type": "code",
   "execution_count": 8,
   "metadata": {},
   "outputs": [
    {
     "name": "stdout",
     "output_type": "stream",
     "text": [
      "높이가 A이고 \n",
      "반지름이 5.00인 \n",
      "원기둥의 겉넓이는 471.2389입니다.\n"
     ]
    }
   ],
   "source": [
    "# python formatting\n",
    "print(\"\\\n",
    "높이가 {:X}이고 \\n\\\n",
    "반지름이 {:.2f}인 \\n\\\n",
    "원기둥의 겉넓이는 {:7.4f}입니다.\".format(h, x, result))"
   ]
  },
  {
   "cell_type": "code",
   "execution_count": null,
   "metadata": {},
   "outputs": [],
   "source": [
    "# python formatting\n",
    "\"\"\"\n",
    "주석을\n",
    "여러줄\n",
    "만세!\n",
    "\"\"\"\n",
    "\n",
    "print(\"\"\"\n",
    "높이가 {:X}이고\n",
    "반지름이 {:.2f}인\n",
    "원기둥의 겉넓이는 {:7.4f}입니다.\n",
    "\"\"\".format(h, x, result))"
   ]
  },
  {
   "cell_type": "markdown",
   "metadata": {},
   "source": [
    "#### 특수문자 다루기\n",
    "- use \\' to escape the single quote\n",
    "- or use double quotes instead\n",
    "- \\n means newline: but without print(), \\n is included in the output"
   ]
  },
  {
   "cell_type": "markdown",
   "metadata": {},
   "source": [
    "- 여러 줄 출력, \\ 다루기:  https://www.acmicpc.net/problem/10172"
   ]
  },
  {
   "cell_type": "code",
   "execution_count": null,
   "metadata": {},
   "outputs": [],
   "source": [
    "print(\"\"\"\n",
    "|\\_/|\n",
    "|q p|   /}\n",
    "( 0 )\\\"\"\"\\\\\n",
    "|\"^\"`    |\n",
    "||_/=\\\\\\__|\n",
    "\"\"\")"
   ]
  },
  {
   "cell_type": "markdown",
   "metadata": {},
   "source": [
    "- (이것은 반복문 배우고 나서) 그대로 출력하기 https://www.acmicpc.net/problem/11718"
   ]
  },
  {
   "cell_type": "markdown",
   "metadata": {},
   "source": [
    "# 문자열 다루기\n",
    "- https://docs.python.org/3/library/string.html#module-string\n",
    "- 더하기 연산\n",
    "- indexing / 음수 index / IndexError: string index out of range\n",
    "\n",
    "\n",
    "- 다양한 메서드 https://docs.python.org/3.7/library/stdtypes.html#string-methods"
   ]
  },
  {
   "cell_type": "code",
   "execution_count": null,
   "metadata": {},
   "outputs": [],
   "source": [
    "_str = \"Hello Python!\""
   ]
  },
  {
   "cell_type": "code",
   "execution_count": null,
   "metadata": {},
   "outputs": [],
   "source": [
    "_str[-4]"
   ]
  },
  {
   "cell_type": "code",
   "execution_count": null,
   "metadata": {},
   "outputs": [],
   "source": [
    "_str[5]"
   ]
  },
  {
   "cell_type": "code",
   "execution_count": null,
   "metadata": {},
   "outputs": [],
   "source": [
    "_str[5:-4]"
   ]
  },
  {
   "cell_type": "code",
   "execution_count": 9,
   "metadata": {},
   "outputs": [
    {
     "name": "stdout",
     "output_type": "stream",
     "text": [
      "        Hello Python!         \n",
      "                 Hello Python!\n",
      "Hello Python!                 \n",
      "00000000000000000Hello Python!\n",
      "Hello python!\n",
      "HELLO PYTHON!\n"
     ]
    }
   ],
   "source": [
    "print('Hello Python!'.center(30))\n",
    "print('Hello Python!'.rjust(30))\n",
    "print('Hello Python!'.ljust(30))\n",
    "print('Hello Python!'.zfill(30))\n",
    "print('hello python!'.capitalize())\n",
    "print('hello python!'.upper())"
   ]
  },
  {
   "cell_type": "markdown",
   "metadata": {},
   "source": [
    "응용: 글자 수 세기"
   ]
  }
 ],
 "metadata": {
  "kernelspec": {
   "display_name": "Python 3",
   "language": "python",
   "name": "python3"
  },
  "language_info": {
   "codemirror_mode": {
    "name": "ipython",
    "version": 3
   },
   "file_extension": ".py",
   "mimetype": "text/x-python",
   "name": "python",
   "nbconvert_exporter": "python",
   "pygments_lexer": "ipython3",
   "version": "3.7.3"
  }
 },
 "nbformat": 4,
 "nbformat_minor": 2
}
