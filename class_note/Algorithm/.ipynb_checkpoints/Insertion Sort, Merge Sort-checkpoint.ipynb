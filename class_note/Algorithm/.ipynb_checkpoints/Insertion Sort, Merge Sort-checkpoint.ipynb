{
 "cells": [
  {
   "cell_type": "markdown",
   "metadata": {},
   "source": [
    "# Insertion Sort"
   ]
  },
  {
   "cell_type": "code",
   "execution_count": 1,
   "metadata": {},
   "outputs": [],
   "source": [
    "import random\n",
    "import time"
   ]
  },
  {
   "cell_type": "code",
   "execution_count": 2,
   "metadata": {},
   "outputs": [],
   "source": [
    "def insertion_sort1(_list) :\n",
    "    for i in range(len(_list) - 1) :\n",
    "        if _list[i] <= _list[i + 1] :\n",
    "            pass\n",
    "        else :\n",
    "            _list[i], _list[i + 1] = _list[i + 1], _list[i]\n",
    "            while i > 0 :\n",
    "                if _list[i] >= _list[i - 1] :\n",
    "                    i -= 1\n",
    "                else :\n",
    "                    _list[i], _list[i - 1] = _list[i - 1], _list[i]\n",
    "                    i -= 1"
   ]
  },
  {
   "cell_type": "code",
   "execution_count": null,
   "metadata": {},
   "outputs": [],
   "source": [
    "def insertion_sort(_list) :\n",
    "    for i in range(len(_list) - 1) :\n",
    "        if _list[i] <= _list[i + 1] :\n",
    "            pass\n",
    "        else :\n",
    "            _list[i], _list[i + 1] = _list[i + 1], _list[i]\n",
    "            for j in range(1, i) :\n",
    "                num = i - j\n",
    "                if _list[num] >= _list[num - 1] :\n",
    "                    pass\n",
    "                else :\n",
    "                    _list[num], _list[num - 1] = _list[num - 1], _list[num]"
   ]
  },
  {
   "cell_type": "code",
   "execution_count": null,
   "metadata": {},
   "outputs": [],
   "source": [
    "random_list = []\n",
    "for i in range(10000) :\n",
    "    random_list.append(random.randint(1, 10000))"
   ]
  },
  {
   "cell_type": "code",
   "execution_count": null,
   "metadata": {},
   "outputs": [],
   "source": [
    "start = time.time()\n",
    "insertion_sort(random_list)\n",
    "howlong = time.time() - start\n",
    "print(howlong)"
   ]
  },
  {
   "cell_type": "markdown",
   "metadata": {},
   "source": [
    "# Merge Sort"
   ]
  },
  {
   "cell_type": "code",
   "execution_count": null,
   "metadata": {},
   "outputs": [],
   "source": [
    "def merge_sort(_list) :\n",
    "    length = len(_list)\n",
    "    left = _list[:1]\n",
    "    right = _list[1:2]\n",
    "    sorted_list = []\n",
    "    while len(left) and len(right) != 0 :\n",
    "        if len(left) = 0 :\n",
    "            sorted_list.append(right[0])\n",
    "            right = right[1:]\n",
    "        elif len(right) = 0 :\n",
    "            sorted_list.append(left[0])\n",
    "            left = left[1:]\n",
    "        elif left[0] <= right[0] :\n",
    "            sorted_list.append(left[0])\n",
    "            left = left[1:]\n",
    "        else :\n",
    "            sorted_list.append(right[0])\n",
    "            right = right[1:]"
   ]
  },
  {
   "cell_type": "code",
   "execution_count": null,
   "metadata": {},
   "outputs": [],
   "source": [
    "length = len(_list)\n",
    "min_len = length\n",
    "while min_len > 4 :\n",
    "    min_len = min_len // 2 + min_len % 2\n",
    "min_len"
   ]
  },
  {
   "cell_type": "code",
   "execution_count": 1,
   "metadata": {},
   "outputs": [
    {
     "ename": "IndexError",
     "evalue": "list index out of range",
     "output_type": "error",
     "traceback": [
      "\u001b[1;31m---------------------------------------------------------------------------\u001b[0m",
      "\u001b[1;31mIndexError\u001b[0m                                Traceback (most recent call last)",
      "\u001b[1;32m<ipython-input-1-25a0131b9bc2>\u001b[0m in \u001b[0;36m<module>\u001b[1;34m\u001b[0m\n\u001b[0;32m      1\u001b[0m \u001b[0mb\u001b[0m \u001b[1;33m=\u001b[0m \u001b[1;33m[\u001b[0m\u001b[1;33m]\u001b[0m\u001b[1;33m\u001b[0m\u001b[1;33m\u001b[0m\u001b[0m\n\u001b[1;32m----> 2\u001b[1;33m \u001b[0mb\u001b[0m\u001b[1;33m[\u001b[0m\u001b[1;36m0\u001b[0m\u001b[1;33m]\u001b[0m\u001b[1;33m\u001b[0m\u001b[1;33m\u001b[0m\u001b[0m\n\u001b[0m",
      "\u001b[1;31mIndexError\u001b[0m: list index out of range"
     ]
    }
   ],
   "source": [
    "b = []\n",
    "b[0]"
   ]
  },
  {
   "cell_type": "code",
   "execution_count": null,
   "metadata": {},
   "outputs": [],
   "source": [
    "b"
   ]
  },
  {
   "cell_type": "code",
   "execution_count": null,
   "metadata": {},
   "outputs": [],
   "source": [
    "[1, 3, 5] + [2,7,6] + [9,0,5]"
   ]
  },
  {
   "cell_type": "markdown",
   "metadata": {},
   "source": [
    "# Quick Sort"
   ]
  },
  {
   "cell_type": "code",
   "execution_count": 4,
   "metadata": {},
   "outputs": [],
   "source": [
    "def sort(_list) :\n",
    "    smaller_list = []\n",
    "    bigger_list = []\n",
    "    for i in range(1, len(_list)) :\n",
    "        if _list[i] <= _list[0]:\n",
    "            smaller_list.append(_list[i])\n",
    "        else : \n",
    "            bigger_list.append(_list[i])\n",
    "    return smaller_list, bigger_list"
   ]
  },
  {
   "cell_type": "code",
   "execution_count": 9,
   "metadata": {},
   "outputs": [],
   "source": [
    "def quick_sort(_list) :\n",
    "    smaller_list = []\n",
    "    bigger_list = []\n",
    "    for i in range(1, len(_list)) :\n",
    "        if _list[i] <= _list[0]:\n",
    "            smaller_list.append(_list[i])\n",
    "        else : \n",
    "            bigger_list.append(_list[i])\n",
    "    while len(smaller_list) >= 2 :\n",
    "        quick_sort(smaller_list)\n",
    "    while len(bigger_list) >= 2 :\n",
    "        quick_sort(bigger_list)\n",
    "    return smaller_list + [_list[0]] + bigger_list"
   ]
  },
  {
   "cell_type": "code",
   "execution_count": 11,
   "metadata": {},
   "outputs": [
    {
     "ename": "NameError",
     "evalue": "name 'smaller_list' is not defined",
     "output_type": "error",
     "traceback": [
      "\u001b[1;31m---------------------------------------------------------------------------\u001b[0m",
      "\u001b[1;31mNameError\u001b[0m                                 Traceback (most recent call last)",
      "\u001b[1;32m<ipython-input-11-f4d1e9b720f2>\u001b[0m in \u001b[0;36m<module>\u001b[1;34m\u001b[0m\n\u001b[1;32m----> 1\u001b[1;33m \u001b[0mquick_sort\u001b[0m\u001b[1;33m(\u001b[0m\u001b[1;33m[\u001b[0m\u001b[1;36m5\u001b[0m\u001b[1;33m,\u001b[0m \u001b[1;36m6\u001b[0m\u001b[1;33m,\u001b[0m \u001b[1;36m8\u001b[0m\u001b[1;33m,\u001b[0m \u001b[1;36m4\u001b[0m\u001b[1;33m,\u001b[0m \u001b[1;36m6\u001b[0m\u001b[1;33m,\u001b[0m \u001b[1;36m4\u001b[0m\u001b[1;33m,\u001b[0m \u001b[1;36m54\u001b[0m\u001b[1;33m,\u001b[0m \u001b[1;36m6\u001b[0m\u001b[1;33m,\u001b[0m \u001b[1;36m958\u001b[0m\u001b[1;33m,\u001b[0m \u001b[1;36m57\u001b[0m\u001b[1;33m]\u001b[0m\u001b[1;33m)\u001b[0m\u001b[1;33m\u001b[0m\u001b[1;33m\u001b[0m\u001b[0m\n\u001b[0m",
      "\u001b[1;32m<ipython-input-9-45d48bba8a3e>\u001b[0m in \u001b[0;36mquick_sort\u001b[1;34m(_list)\u001b[0m\n\u001b[0;32m     10\u001b[0m         \u001b[1;32mreturn\u001b[0m \u001b[0msmaller_list\u001b[0m\u001b[1;33m,\u001b[0m \u001b[0mbigger_list\u001b[0m\u001b[1;33m\u001b[0m\u001b[1;33m\u001b[0m\u001b[0m\n\u001b[0;32m     11\u001b[0m     \u001b[0msort\u001b[0m\u001b[1;33m(\u001b[0m\u001b[0m_list\u001b[0m\u001b[1;33m)\u001b[0m\u001b[1;33m\u001b[0m\u001b[1;33m\u001b[0m\u001b[0m\n\u001b[1;32m---> 12\u001b[1;33m     \u001b[1;32mwhile\u001b[0m \u001b[0mlen\u001b[0m\u001b[1;33m(\u001b[0m\u001b[0msmaller_list\u001b[0m\u001b[1;33m)\u001b[0m \u001b[1;33m>=\u001b[0m \u001b[1;36m2\u001b[0m \u001b[1;33m:\u001b[0m\u001b[1;33m\u001b[0m\u001b[1;33m\u001b[0m\u001b[0m\n\u001b[0m\u001b[0;32m     13\u001b[0m         \u001b[0mquick_sort\u001b[0m\u001b[1;33m(\u001b[0m\u001b[0msmaller_list\u001b[0m\u001b[1;33m)\u001b[0m\u001b[1;33m\u001b[0m\u001b[1;33m\u001b[0m\u001b[0m\n\u001b[0;32m     14\u001b[0m     \u001b[1;32mwhile\u001b[0m \u001b[0mlen\u001b[0m\u001b[1;33m(\u001b[0m\u001b[0mbigger_list\u001b[0m\u001b[1;33m)\u001b[0m \u001b[1;33m>=\u001b[0m \u001b[1;36m2\u001b[0m \u001b[1;33m:\u001b[0m\u001b[1;33m\u001b[0m\u001b[1;33m\u001b[0m\u001b[0m\n",
      "\u001b[1;31mNameError\u001b[0m: name 'smaller_list' is not defined"
     ]
    }
   ],
   "source": [
    "quick_sort([5, 6, 8, 4, 6, 4, 54, 6, 958, 57])"
   ]
  },
  {
   "cell_type": "code",
   "execution_count": null,
   "metadata": {},
   "outputs": [],
   "source": [
    "smaller_list = []\n",
    "bigger_list = []\n",
    "for i in range(1, len(_list)) :\n",
    "    if _list[i] <= _list[0]:\n",
    "        smaller_list.append(_list[i])\n",
    "    else : \n",
    "        bigger_list.append(_list[i])"
   ]
  },
  {
   "cell_type": "code",
   "execution_count": null,
   "metadata": {},
   "outputs": [],
   "source": []
  }
 ],
 "metadata": {
  "kernelspec": {
   "display_name": "Python 3",
   "language": "python",
   "name": "python3"
  },
  "language_info": {
   "codemirror_mode": {
    "name": "ipython",
    "version": 3
   },
   "file_extension": ".py",
   "mimetype": "text/x-python",
   "name": "python",
   "nbconvert_exporter": "python",
   "pygments_lexer": "ipython3",
   "version": "3.7.3"
  }
 },
 "nbformat": 4,
 "nbformat_minor": 2
}
