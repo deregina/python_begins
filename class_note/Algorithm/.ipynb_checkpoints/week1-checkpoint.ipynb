{
 "cells": [
  {
   "cell_type": "markdown",
   "metadata": {},
   "source": [
    "1. 재귀 호출로 1-20 출력하기\n",
    "2. 재귀 호출로 n부터 1까지 출력하기\n",
    "3. 숫자 뒤집기 (for문으로 / **while문으로**)"
   ]
  },
  {
   "cell_type": "markdown",
   "metadata": {},
   "source": [
    "1. 알고리즘이란?\n",
    "    - 알고리즘 정의; 우리는 이미 알고 있다! a set of instruction\n",
    "    - big-O notation\n",
    "        - 얼마나 효율적인가? (최악의 성능 측정)\n",
    "        - N: size of input\n",
    "        - 1, logN, N, NlogN, N^2, N^3, 2^N\n",
    "    - 여러가지 자료구조: 리스트, 배열, 스택, 큐, 해시 테이블, 힙, 이진 탐색 트리"
   ]
  },
  {
   "cell_type": "markdown",
   "metadata": {},
   "source": [
    "과제\n",
    "- 1. time complexity, big-O-notation [Khan academy Asymptotic notation](https://www.khanacademy.org/computing/computer-science/algorithms/asymptotic-notation/a/asymptotic-notation)\n",
    "- [Sorting Algorithms Animations](https://www.toptal.com/developers/sorting-algorithms)\n",
    "- 하나하나 천천히 보기:[Comparison Sorting Algorithms](https://www.cs.usfca.edu/~galles/visualization/ComparisonSort.html)\n",
    "\n",
    "\n",
    "- [채점 결과 FAQ](https://www.acmicpc.net/board/view/42061)\n",
    "- [BOJ 101](https://www.acmicpc.net/blog/view/55)\n",
    "- [3blue1brown Tower of Hanoi](https://youtu.be/2SUvWfNJSsM) : 이진수 주의, recursion 개념에 유의!"
   ]
  },
  {
   "cell_type": "markdown",
   "metadata": {},
   "source": [
    "icpc.me\n",
    "1. \n",
    "2753\n",
    "2033\n",
    "2748\n",
    "1110\n",
    "1292\n",
    "1834\n",
    "2480"
   ]
  },
  {
   "cell_type": "markdown",
   "metadata": {},
   "source": [
    "2. 2010\n",
    "1929\n",
    "11655\n",
    "1673\n",
    "1004\n",
    "5618\n",
    "11653\n",
    "10801\n",
    "1094"
   ]
  },
  {
   "cell_type": "code",
   "execution_count": null,
   "metadata": {},
   "outputs": [],
   "source": []
  }
 ],
 "metadata": {
  "kernelspec": {
   "display_name": "Python 3",
   "language": "python",
   "name": "python3"
  },
  "language_info": {
   "codemirror_mode": {
    "name": "ipython",
    "version": 3
   },
   "file_extension": ".py",
   "mimetype": "text/x-python",
   "name": "python",
   "nbconvert_exporter": "python",
   "pygments_lexer": "ipython3",
   "version": "3.7.3"
  }
 },
 "nbformat": 4,
 "nbformat_minor": 2
}
