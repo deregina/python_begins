{
 "cells": [
  {
   "cell_type": "markdown",
   "metadata": {},
   "source": [
    "1. 재귀 호출로 1-20 출력하기\n",
    "2. 재귀 호출로 n부터 1까지 출력하기\n",
    "3. 숫자 뒤집기"
   ]
  },
  {
   "cell_type": "markdown",
   "metadata": {},
   "source": [
    "1. 알고리즘이란?\n",
    "    - 알고리즘 정의; 우리는 이미 알고 있다! a set of instruction\n",
    "    - big-O notation\n",
    "        - 얼마나 효율적인가? (최악의 성능 측정)\n",
    "        - N: size of input\n",
    "        - 1, logN, N, NlogN, N^2, N^3, 2^N\n",
    "    - 여러가지 자료구조: 리스트, 배열, 스택, 큐, 해시 테이블, 힙, 이진 탐색 트리"
   ]
  },
  {
   "cell_type": "markdown",
   "metadata": {},
   "source": [
    "2. 정렬: 배열, 리스트, 연결 리스트\n",
    "    - bubble sort\n",
    "    - selection sort\n",
    "    - insertion sort"
   ]
  },
  {
   "cell_type": "markdown",
   "metadata": {},
   "source": [
    "복습용으로:\n",
    "- [Khan academy Asymptotic notation](https://www.khanacademy.org/computing/computer-science/algorithms/asymptotic-notation/a/asymptotic-notation)\n",
    "- [Sorting Algorithms Animations](https://www.toptal.com/developers/sorting-algorithms)\n",
    "- 하나하나 천천히 보기:[Comparison Sorting Algorithms](https://www.cs.usfca.edu/~galles/visualization/ComparisonSort.html)\n",
    "- [채점 결과 FAQ](https://www.acmicpc.net/board/view/42061)\n",
    "- [BOJ 101](https://www.acmicpc.net/blog/view/55)\n",
    "- [3blue1brown Tower of Hanoi](https://youtu.be/2SUvWfNJSsM) : 이진수 주의, recursion 개념에 유의!"
   ]
  },
  {
   "cell_type": "code",
   "execution_count": null,
   "metadata": {},
   "outputs": [],
   "source": [
    "# 몸풀기 1 : swap"
   ]
  },
  {
   "cell_type": "code",
   "execution_count": 6,
   "metadata": {},
   "outputs": [],
   "source": [
    "a, b = 1, 2"
   ]
  },
  {
   "cell_type": "code",
   "execution_count": 2,
   "metadata": {},
   "outputs": [],
   "source": [
    "tmp = a\n",
    "a = b\n",
    "b = tmp"
   ]
  },
  {
   "cell_type": "code",
   "execution_count": 3,
   "metadata": {},
   "outputs": [
    {
     "name": "stdout",
     "output_type": "stream",
     "text": [
      "2 1\n"
     ]
    }
   ],
   "source": [
    "print(a, b)"
   ]
  },
  {
   "cell_type": "code",
   "execution_count": 4,
   "metadata": {},
   "outputs": [],
   "source": [
    "a, b = b, a"
   ]
  },
  {
   "cell_type": "code",
   "execution_count": 5,
   "metadata": {},
   "outputs": [
    {
     "name": "stdout",
     "output_type": "stream",
     "text": [
      "1 2\n"
     ]
    }
   ],
   "source": [
    "print(a, b)"
   ]
  },
  {
   "cell_type": "code",
   "execution_count": null,
   "metadata": {},
   "outputs": [],
   "source": [
    "# 몸풀기 2: 어떤 list가 주어졌을 때 저장되어 있는 원소들이 순서대로 정렬되었는지 여부 확인하는 함수"
   ]
  },
  {
   "cell_type": "code",
   "execution_count": 7,
   "metadata": {},
   "outputs": [],
   "source": [
    "def isSorted1(_list):\n",
    "    for i in range(len(_list) - 1) :\n",
    "        if _list[i] <= _list[i+1] :\n",
    "            pass\n",
    "        else :\n",
    "            return False\n",
    "    return True       "
   ]
  },
  {
   "cell_type": "code",
   "execution_count": 24,
   "metadata": {},
   "outputs": [],
   "source": [
    "def isSorted2(_list):\n",
    "    _listsorted  = _list.copy()\n",
    "    _listsorted.sort()\n",
    "    return _list == _listsorted"
   ]
  },
  {
   "cell_type": "code",
   "execution_count": null,
   "metadata": {},
   "outputs": [],
   "source": [
    "# 몸풀기 2: 어떤 list가 주어졌을 때 저장되어 있는 원소들이 순서대로 정렬되었는지 여부 확인하는 함수\n",
    "def isSorted(_list):\n",
    "    return sorted(_list) == _list"
   ]
  },
  {
   "cell_type": "code",
   "execution_count": null,
   "metadata": {},
   "outputs": [],
   "source": [
    "_list = [64, 34, 25, 12, 22, 11, 90]\n",
    "_list = [11, 12, 22, 25, 34, 64, 90]\n",
    "print(isSorted(_list=_list))"
   ]
  },
  {
   "cell_type": "code",
   "execution_count": null,
   "metadata": {},
   "outputs": [],
   "source": []
  },
  {
   "cell_type": "markdown",
   "metadata": {},
   "source": [
    "### bubble sort"
   ]
  },
  {
   "cell_type": "code",
   "execution_count": null,
   "metadata": {},
   "outputs": [],
   "source": [
    "def bubbleSort(_list):\n",
    "    n = len(_list)\n",
    "\n",
    "    for i in range(n):\n",
    "        for j in range(0, n-i-1): # Last i elements are already in place\n",
    "            # Swap if the element found is greater than the next element\n",
    "            if _list[j] > _list[j+1] :\n",
    "                _list[j], _list[j+1] = _list[j+1], _list[j]\n",
    "\n",
    "\n",
    "_list = [64, 34, 25, 12, 22, 11, 90]\n",
    "bubbleSort(_list)\n",
    "print (\"Sorted array is:\", _list)"
   ]
  },
  {
   "cell_type": "markdown",
   "metadata": {},
   "source": [
    "### selection sort"
   ]
  },
  {
   "cell_type": "code",
   "execution_count": null,
   "metadata": {},
   "outputs": [],
   "source": [
    "def selectionSort(_list):\n",
    "    for i in range(len(_list)): \n",
    "        # Find the minimum element in remaining unsorted array \n",
    "        min_idx = i \n",
    "        for j in range(i+1, len(_list)): \n",
    "            if _list[min_idx] > _list[j]: \n",
    "                min_idx = j \n",
    "\n",
    "        # Swap the found minimum element with the i-th element\n",
    "        _list[i], _list[min_idx] = _list[min_idx], _list[i] \n",
    "\n",
    "_list = [64, 34, 25, 12, 22, 11, 90]\n",
    "selectionSort(_list)\n",
    "print(\"Sorted array is:\", _list)"
   ]
  },
  {
   "cell_type": "markdown",
   "metadata": {},
   "source": [
    "### insertion sort"
   ]
  },
  {
   "cell_type": "code",
   "execution_count": null,
   "metadata": {},
   "outputs": [],
   "source": [
    "def insertionSort(_list):  \n",
    "    # 예쁜 코드로 짜보기"
   ]
  },
  {
   "cell_type": "code",
   "execution_count": null,
   "metadata": {},
   "outputs": [],
   "source": [
    "def insertionSort(_list):  \n",
    "    for i in range(1, len(_list)): \n",
    "        key = _list[i] \n",
    "        # Move elements of arr[0..i-1], that are greater than key, \n",
    "        # to one position ahead of their current position \n",
    "        j = i-1\n",
    "        while j >=0 and key < _list[j]:\n",
    "            _list[j+1], _list[j] = _list[j], key\n",
    "            j -=1\n",
    "\n",
    "\n",
    "_list = [64, 34, 25, 12, 22, 11, 90]\n",
    "insertionSort(_list) \n",
    "print (\"Sorted array is:\", _list)"
   ]
  },
  {
   "cell_type": "markdown",
   "metadata": {},
   "source": [
    "### merge sort"
   ]
  },
  {
   "cell_type": "code",
   "execution_count": null,
   "metadata": {},
   "outputs": [],
   "source": [
    "def merge(left, right):\n",
    "    result = []\n",
    "    while len(left) > 0 or len(right) > 0:\n",
    "        if len(left) > 0 and len(right) > 0:\n",
    "            if left[0] <= right[0]:\n",
    "                result.append(left[0])\n",
    "                left = left[1:]\n",
    "            else:\n",
    "                result.append(right[0])\n",
    "                right = right[1:]\n",
    "        elif len(left) > 0:\n",
    "            result.append(left[0])\n",
    "            left = left[1:]\n",
    "        elif len(right) > 0:\n",
    "            result.append(right[0])\n",
    "            right = right[1:]\n",
    "    return result"
   ]
  },
  {
   "cell_type": "code",
   "execution_count": null,
   "metadata": {},
   "outputs": [],
   "source": [
    "def merge_sort(_list):\n",
    "    if len(_list) <= 1:\n",
    "        return _list\n",
    "    \n",
    "    mid = len(_list) // 2\n",
    "    leftList = _list[:mid]\n",
    "    rightList = _list[mid:]\n",
    "    leftList = merge_sort(leftList)\n",
    "    rightList = merge_sort(rightList)\n",
    "    \n",
    "    return merge(leftList, rightList)            \n",
    "\n",
    "_list = [64, 34, 25, 12, 22, 11, 90]\n",
    "sorted_list = merge_sort(_list=_list) \n",
    "print (\"Sorted array is:\", sorted_list)"
   ]
  },
  {
   "cell_type": "markdown",
   "metadata": {},
   "source": [
    "### quick sort\n",
    "- worst case: (처음 고른 x가 min or max)"
   ]
  },
  {
   "cell_type": "code",
   "execution_count": null,
   "metadata": {},
   "outputs": [],
   "source": [
    "# 이건 수도pseudo코드임\n",
    "def quicksort(list):\n",
    "    if (len(list)<2):\n",
    "        return list\n",
    "    else:\n",
    "        x = pickPivot(list) # 세정이 마음대로야\n",
    "        list1 = [y in list where y<x]\n",
    "        list2 = [x]\n",
    "        list3 = [y in list where y>x]\n",
    "        quicksort(list1)\n",
    "        quicksort(list3)\n",
    "        return concatenate(list1, list2, list3)"
   ]
  },
  {
   "cell_type": "markdown",
   "metadata": {},
   "source": [
    "항상 \"이게 최선일까?\" 질문하기"
   ]
  },
  {
   "cell_type": "markdown",
   "metadata": {},
   "source": [
    "### 실험장"
   ]
  },
  {
   "cell_type": "code",
   "execution_count": 50,
   "metadata": {},
   "outputs": [],
   "source": [
    "import time\n",
    "import random"
   ]
  },
  {
   "cell_type": "code",
   "execution_count": 60,
   "metadata": {},
   "outputs": [],
   "source": [
    "_list = [i for i in range(1000000)] # 리스트 내용; 길이, 이미 소팅된 여부 등을 다르게 해볼 수 있겠죠\n",
    "random_list = random.shuffle(_list)"
   ]
  },
  {
   "cell_type": "code",
   "execution_count": 49,
   "metadata": {},
   "outputs": [
    {
     "name": "stdout",
     "output_type": "stream",
     "text": [
      "Hello world!\n",
      "0.0008401870727539062\n"
     ]
    }
   ],
   "source": [
    "start = time.time()\n",
    "\n",
    "quicksort(random_list) # 1. quicksort 코드를 짜야하고 2. pivot을 고르는 방법을 서로 다르게 해서 \n",
    "\n",
    "print(time.time()-start) # 걸리는 시간을 측정, 비교해볼 수 있습니다."
   ]
  },
  {
   "cell_type": "code",
   "execution_count": null,
   "metadata": {},
   "outputs": [],
   "source": []
  }
 ],
 "metadata": {
  "kernelspec": {
   "display_name": "Python 3",
   "language": "python",
   "name": "python3"
  },
  "language_info": {
   "codemirror_mode": {
    "name": "ipython",
    "version": 3
   },
   "file_extension": ".py",
   "mimetype": "text/x-python",
   "name": "python",
   "nbconvert_exporter": "python",
   "pygments_lexer": "ipython3",
   "version": "3.7.3"
  }
 },
 "nbformat": 4,
 "nbformat_minor": 2
}
