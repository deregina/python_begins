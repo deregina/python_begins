{
 "cells": [
  {
   "cell_type": "markdown",
   "metadata": {},
   "source": [
    "객체지향언어의 특성\n",
    "\n",
    "Polymorphism : 다형성\n",
    "Encapsulation : 은닉화\n",
    "        "
   ]
  },
  {
   "cell_type": "code",
   "execution_count": 1,
   "metadata": {},
   "outputs": [],
   "source": [
    "class Diary :\n",
    "    def __init__(self, when, weather, done) :\n",
    "        self.when = when\n",
    "        self.weather = weather\n",
    "        self.done = done    \n",
    "        \n",
    "    def when(self, when) :\n",
    "        self.when = when\n",
    "        \n",
    "    def weather(self, weather) :\n",
    "        self.weather = weather\n",
    "        \n",
    "    def done(self, done) :\n",
    "        self.done = done\n",
    "        \n",
    "    def document(self) :\n",
    "        print(self.when)\n",
    "        print(self.weather)\n",
    "        print(self.done)"
   ]
  },
  {
   "cell_type": "code",
   "execution_count": 2,
   "metadata": {},
   "outputs": [],
   "source": [
    "class Diet_diary :\n",
    "    def __init__(self, calorie, exercise) :\n",
    "        self.calorie = calorie\n",
    "        self.exercise = exercise\n",
    "        \n",
    "    def eat(self, calorie) :\n",
    "        self.calorie += calorie\n",
    "        \n",
    "    def exer(self, exer) :\n",
    "        self.exercise += exer\n",
    "        \n",
    "    def status(self) :\n",
    "        print(\"Calorie : \", self.calorie)\n",
    "        print(\"Exercise : \", self.exercise)\n",
    "        print(\"Total : \", self.calorie - self.exercise)\n",
    "        "
   ]
  },
  {
   "cell_type": "code",
   "execution_count": 3,
   "metadata": {
    "scrolled": true
   },
   "outputs": [],
   "source": [
    "d = Diet_diary(0, 0)"
   ]
  },
  {
   "cell_type": "code",
   "execution_count": 4,
   "metadata": {},
   "outputs": [],
   "source": [
    "d.eat(300)"
   ]
  },
  {
   "cell_type": "code",
   "execution_count": 5,
   "metadata": {},
   "outputs": [],
   "source": [
    "d.exer(200)"
   ]
  },
  {
   "cell_type": "code",
   "execution_count": 6,
   "metadata": {},
   "outputs": [
    {
     "name": "stdout",
     "output_type": "stream",
     "text": [
      "Calorie :  300\n",
      "Exercise :  200\n",
      "Total :  100\n"
     ]
    }
   ],
   "source": [
    "d.status()"
   ]
  },
  {
   "cell_type": "code",
   "execution_count": 7,
   "metadata": {},
   "outputs": [],
   "source": [
    "fourth_October = Diary(\"4th_October\", \"Rainy\", \"Studied Python\" )"
   ]
  },
  {
   "cell_type": "code",
   "execution_count": 8,
   "metadata": {},
   "outputs": [
    {
     "name": "stdout",
     "output_type": "stream",
     "text": [
      "4th_October\n",
      "Rainy\n",
      "Studied Python\n"
     ]
    }
   ],
   "source": [
    "fourth_October.document()"
   ]
  },
  {
   "cell_type": "code",
   "execution_count": 25,
   "metadata": {},
   "outputs": [],
   "source": [
    "class E_diary(Diary) :\n",
    "    \n",
    "    def __init__(self, when, weather, writer, done) :\n",
    "        Diary.__init__(self, when, weather, done)\n",
    "        self.writer = writer\n",
    "        self.__mood = \"Happy\"\n",
    "        \n",
    "    def who(self, writer) :\n",
    "        self.writer = writer\n",
    "\n",
    "        \n",
    "    def document(self) :\n",
    "        print(self.when, self.weather, self.writer, self.__mood, self.done, sep = \"\\n\")\n",
    "        \n",
    "    def __repr__(self) : \n",
    "        return \"날짜 : {}\\n날씨 : {}\\n글쓴이 : {}\\n기분 : {}\\n내용 : {}\"\"\".format(self.when, self.weather, self.writer, self.__mood, self.done)"
   ]
  },
  {
   "cell_type": "code",
   "execution_count": 26,
   "metadata": {},
   "outputs": [],
   "source": [
    "fifth_October = E_diary(\"5th_October\", \"Sunny\", \"Bowoo\", \"went to school\")"
   ]
  },
  {
   "cell_type": "code",
   "execution_count": 27,
   "metadata": {},
   "outputs": [
    {
     "data": {
      "text/plain": [
       "'Happy'"
      ]
     },
     "execution_count": 27,
     "metadata": {},
     "output_type": "execute_result"
    }
   ],
   "source": [
    "fifth_October._E_diary__mood"
   ]
  },
  {
   "cell_type": "code",
   "execution_count": 28,
   "metadata": {},
   "outputs": [
    {
     "name": "stdout",
     "output_type": "stream",
     "text": [
      "5th_October\n",
      "Sunny\n",
      "Bowoo\n",
      "Happy\n",
      "went to school\n"
     ]
    }
   ],
   "source": [
    "fifth_October.document()"
   ]
  },
  {
   "cell_type": "code",
   "execution_count": 29,
   "metadata": {},
   "outputs": [
    {
     "name": "stdout",
     "output_type": "stream",
     "text": [
      "날짜 : 5th_October\n",
      "날씨 : Sunny\n",
      "글쓴이 : Bowoo\n",
      "기분 : Happy\n",
      "내용 : went to school\n"
     ]
    }
   ],
   "source": [
    "print(fifth_October)"
   ]
  },
  {
   "cell_type": "code",
   "execution_count": 14,
   "metadata": {},
   "outputs": [
    {
     "name": "stdout",
     "output_type": "stream",
     "text": [
      "Help on class Diary in module __main__:\n",
      "\n",
      "class Diary(builtins.object)\n",
      " |  Diary(when, weather, done)\n",
      " |  \n",
      " |  Methods defined here:\n",
      " |  \n",
      " |  __init__(self, when, weather, done)\n",
      " |      Initialize self.  See help(type(self)) for accurate signature.\n",
      " |  \n",
      " |  document(self)\n",
      " |  \n",
      " |  done(self, done)\n",
      " |  \n",
      " |  weather(self, weather)\n",
      " |  \n",
      " |  when(self, when)\n",
      " |  \n",
      " |  ----------------------------------------------------------------------\n",
      " |  Data descriptors defined here:\n",
      " |  \n",
      " |  __dict__\n",
      " |      dictionary for instance variables (if defined)\n",
      " |  \n",
      " |  __weakref__\n",
      " |      list of weak references to the object (if defined)\n",
      "\n"
     ]
    }
   ],
   "source": [
    "help(Diary)"
   ]
  },
  {
   "cell_type": "code",
   "execution_count": 15,
   "metadata": {},
   "outputs": [],
   "source": [
    "a = 1\n",
    "b = 1"
   ]
  },
  {
   "cell_type": "code",
   "execution_count": 16,
   "metadata": {},
   "outputs": [
    {
     "data": {
      "text/plain": [
       "2"
      ]
     },
     "execution_count": 16,
     "metadata": {},
     "output_type": "execute_result"
    }
   ],
   "source": [
    "a+b"
   ]
  },
  {
   "cell_type": "code",
   "execution_count": 17,
   "metadata": {},
   "outputs": [],
   "source": [
    "c = \"Hello\""
   ]
  },
  {
   "cell_type": "code",
   "execution_count": 18,
   "metadata": {},
   "outputs": [],
   "source": [
    "d = \" World\""
   ]
  },
  {
   "cell_type": "code",
   "execution_count": 19,
   "metadata": {},
   "outputs": [
    {
     "data": {
      "text/plain": [
       "'Hello World'"
      ]
     },
     "execution_count": 19,
     "metadata": {},
     "output_type": "execute_result"
    }
   ],
   "source": [
    "c+d"
   ]
  },
  {
   "cell_type": "code",
   "execution_count": null,
   "metadata": {},
   "outputs": [],
   "source": []
  }
 ],
 "metadata": {
  "kernelspec": {
   "display_name": "Python 3",
   "language": "python",
   "name": "python3"
  },
  "language_info": {
   "codemirror_mode": {
    "name": "ipython",
    "version": 3
   },
   "file_extension": ".py",
   "mimetype": "text/x-python",
   "name": "python",
   "nbconvert_exporter": "python",
   "pygments_lexer": "ipython3",
   "version": "3.7.3"
  }
 },
 "nbformat": 4,
 "nbformat_minor": 2
}
