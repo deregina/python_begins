{
 "cells": [
  {
   "cell_type": "code",
   "execution_count": null,
   "metadata": {},
   "outputs": [],
   "source": [
    "# \n",
    "def count_average():\n",
    "    sentence = input()\n",
    "    \n",
    "    sentence.find(\" \")\n",
    "    \n",
    "    return ()\n",
    "\n",
    "# 문장 입력\n",
    "sentence\n",
    "count_average(sentence)\n",
    "print(평균, 단어 개수 )"
   ]
  },
  {
   "cell_type": "code",
   "execution_count": null,
   "metadata": {},
   "outputs": [],
   "source": [
    "sentence = input()\n",
    "i = 0    \n",
    "y = sentence.find(\" \")\n",
    "    if y == -1 :\n",
    "        length = len(sentence)\n",
    "        print(length, end=\",\")\n",
    "        print(\"-1\")\n",
    "    else :\n",
    "        length = len(sentence)\n",
    "        while i < length :\n",
    "            letter_num += "
   ]
  },
  {
   "cell_type": "code",
   "execution_count": 5,
   "metadata": {},
   "outputs": [
    {
     "name": "stdout",
     "output_type": "stream",
     "text": [
      "Help on built-in function len in module builtins:\n",
      "\n",
      "len(obj, /)\n",
      "    Return the number of items in a container.\n",
      "\n"
     ]
    }
   ],
   "source": [
    "help(len)"
   ]
  },
  {
   "cell_type": "code",
   "execution_count": null,
   "metadata": {},
   "outputs": [],
   "source": []
  }
 ],
 "metadata": {
  "kernelspec": {
   "display_name": "Python 3",
   "language": "python",
   "name": "python3"
  },
  "language_info": {
   "codemirror_mode": {
    "name": "ipython",
    "version": 3
   },
   "file_extension": ".py",
   "mimetype": "text/x-python",
   "name": "python",
   "nbconvert_exporter": "python",
   "pygments_lexer": "ipython3",
   "version": "3.7.3"
  }
 },
 "nbformat": 4,
 "nbformat_minor": 2
}
