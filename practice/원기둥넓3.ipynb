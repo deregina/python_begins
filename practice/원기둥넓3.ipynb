{
 "cells": [
  {
   "cell_type": "code",
   "execution_count": 5,
   "metadata": {},
   "outputs": [],
   "source": [
    "import math as m"
   ]
  },
  {
   "cell_type": "code",
   "execution_count": 6,
   "metadata": {},
   "outputs": [],
   "source": [
    "# 'from math import *'에서 *은 무슨 뜻인가요?"
   ]
  },
  {
   "cell_type": "code",
   "execution_count": 11,
   "metadata": {
    "scrolled": true
   },
   "outputs": [
    {
     "name": "stdout",
     "output_type": "stream",
     "text": [
      "원기둥의 높이 h와 밑면의 반지름 x를 입력하세요 : 7.8 5.33\n"
     ]
    }
   ],
   "source": [
    "h, x = map(float,input(\"원기둥의 높이 h와 밑면의 반지름 x를 입력하세요 : \" ).split())"
   ]
  },
  {
   "cell_type": "code",
   "execution_count": 12,
   "metadata": {},
   "outputs": [],
   "source": [
    "# float 함수는 항상 한 개씩만 대입할 수 있나요?\n",
    "# 왜 map을 입력안하면 x가 두 개 숫자가 들어있는 list가 될까.. map의 기능은 무엇인가..."
   ]
  },
  {
   "cell_type": "code",
   "execution_count": 13,
   "metadata": {
    "scrolled": true
   },
   "outputs": [],
   "source": [
    "result = float(2 * m.pi * x * h + 2 * m.pi * x**2)"
   ]
  },
  {
   "cell_type": "code",
   "execution_count": 14,
   "metadata": {},
   "outputs": [
    {
     "name": "stdout",
     "output_type": "stream",
     "text": [
      "높이가  7.80이고 반지름이  5.33인 원기둥의 겉넓이는 439.7155입니다.\n"
     ]
    }
   ],
   "source": [
    "print(\"높이가 %5.2f이고 반지름이 %5.2f인 원기둥의 겉넓이는 %7.4f입니다.\" % (h, x, result))"
   ]
  },
  {
   "cell_type": "code",
   "execution_count": null,
   "metadata": {},
   "outputs": [],
   "source": []
  }
 ],
 "metadata": {
  "kernelspec": {
   "display_name": "Python 3",
   "language": "python",
   "name": "python3"
  },
  "language_info": {
   "codemirror_mode": {
    "name": "ipython",
    "version": 3
   },
   "file_extension": ".py",
   "mimetype": "text/x-python",
   "name": "python",
   "nbconvert_exporter": "python",
   "pygments_lexer": "ipython3",
   "version": "3.7.3"
  }
 },
 "nbformat": 4,
 "nbformat_minor": 2
}
