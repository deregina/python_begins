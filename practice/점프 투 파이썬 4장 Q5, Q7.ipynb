{
 "cells": [
  {
   "cell_type": "code",
   "execution_count": 3,
   "metadata": {},
   "outputs": [
    {
     "name": "stdout",
     "output_type": "stream",
     "text": [
      "Life is too short\n"
     ]
    }
   ],
   "source": [
    "f1 = open(\"test.txt\", 'w')\n",
    "f1.write(\"Life is too short\")\n",
    "f1.close()\n",
    "\n",
    "f2 = open(\"test.txt\", 'r')\n",
    "print(f2.read())\n",
    "f2.close()"
   ]
  },
  {
   "cell_type": "code",
   "execution_count": 9,
   "metadata": {},
   "outputs": [],
   "source": [
    "f = open(\"test2.txt\", 'w')\n",
    "f.write(\"\"\"Life is too short\n",
    "you need java\"\"\")\n",
    "f.close()"
   ]
  },
  {
   "cell_type": "code",
   "execution_count": 19,
   "metadata": {},
   "outputs": [
    {
     "name": "stdout",
     "output_type": "stream",
     "text": [
      "Life is too short\n",
      "you need python\n"
     ]
    }
   ],
   "source": [
    "f = open(\"test2.txt\", 'r')\n",
    "sen = f.readlines()\n",
    "sen2 = sen[1].replace(\"java\",\"python\")\n",
    "\n",
    "ff = open(\"test2-1.txt\", 'w')\n",
    "ff.write(sen[0])\n",
    "ff.write(sen2)\n",
    "ff.close()\n",
    "\n",
    "with open(\"test2-1.txt\", 'r') as fff :\n",
    "    result = fff.readlines()\n",
    "    print(result[0], result[1], sep = \"\")"
   ]
  },
  {
   "cell_type": "code",
   "execution_count": null,
   "metadata": {},
   "outputs": [],
   "source": []
  }
 ],
 "metadata": {
  "kernelspec": {
   "display_name": "Python 3",
   "language": "python",
   "name": "python3"
  },
  "language_info": {
   "codemirror_mode": {
    "name": "ipython",
    "version": 3
   },
   "file_extension": ".py",
   "mimetype": "text/x-python",
   "name": "python",
   "nbconvert_exporter": "python",
   "pygments_lexer": "ipython3",
   "version": "3.7.3"
  }
 },
 "nbformat": 4,
 "nbformat_minor": 2
}
