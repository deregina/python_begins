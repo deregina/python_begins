{
 "cells": [
  {
   "cell_type": "code",
   "execution_count": 4,
   "metadata": {},
   "outputs": [],
   "source": [
    "c = [\"12345\", \"67890\"]"
   ]
  },
  {
   "cell_type": "code",
   "execution_count": 9,
   "metadata": {
    "scrolled": true
   },
   "outputs": [
    {
     "name": "stdout",
     "output_type": "stream",
     "text": [
      "input pw 4567890\n",
      "input pw 4567\n",
      "input pw 1237\n",
      "input pw tlfgdj\n",
      "input pw 67890\n",
      "login success\n"
     ]
    }
   ],
   "source": [
    "pw = input(\"input pw \")\n",
    "while True :\n",
    "    if pw in c :\n",
    "        print(\"login success\")\n",
    "        break\n",
    "    else : \n",
    "        pw = input(\"input pw \")"
   ]
  },
  {
   "cell_type": "code",
   "execution_count": null,
   "metadata": {},
   "outputs": [],
   "source": []
  },
  {
   "cell_type": "code",
   "execution_count": null,
   "metadata": {},
   "outputs": [],
   "source": [
    "if pw != c :\n",
    "    pw = input(\"input pw\")\n",
    "    continue\n",
    "if pw == c :\n",
    "    print(\"login success\")"
   ]
  },
  {
   "cell_type": "code",
   "execution_count": null,
   "metadata": {},
   "outputs": [],
   "source": []
  }
 ],
 "metadata": {
  "kernelspec": {
   "display_name": "Python 3",
   "language": "python",
   "name": "python3"
  },
  "language_info": {
   "codemirror_mode": {
    "name": "ipython",
    "version": 3
   },
   "file_extension": ".py",
   "mimetype": "text/x-python",
   "name": "python",
   "nbconvert_exporter": "python",
   "pygments_lexer": "ipython3",
   "version": "3.7.3"
  }
 },
 "nbformat": 4,
 "nbformat_minor": 2
}
