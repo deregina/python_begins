{
 "cells": [
  {
   "cell_type": "code",
   "execution_count": 7,
   "metadata": {},
   "outputs": [],
   "source": [
    "with open(\"./2675.txt\", 'w') as f:\n",
    "    f.write(\"2\\n\")\n",
    "    f.write(\"3 ABC\\n\")\n",
    "    f.write(\"5 /HTP\\n\")"
   ]
  },
  {
   "cell_type": "code",
   "execution_count": 24,
   "metadata": {},
   "outputs": [
    {
     "name": "stdout",
     "output_type": "stream",
     "text": [
      "AAABBBCCC\n",
      "/////HHHHHTTTTTPPPPP\n"
     ]
    }
   ],
   "source": [
    "with open(\"./2675.txt\", 'r') as f:\n",
    "    num = int(f.readline())\n",
    "    for i in range(num) :\n",
    "        test = f.readline()\n",
    "        test_list = test.split(sep=\" \")\n",
    "        a = int(test_list[0])\n",
    "        b = test_list[1]\n",
    "        letters = list()\n",
    "        for j in range(len(b)-1) :\n",
    "            letters.append(b[j])\n",
    "        result = \"\"\n",
    "        for k in range(len(b)-1) :\n",
    "            result += a * letters[k]\n",
    "        print(result)"
   ]
  },
  {
   "cell_type": "code",
   "execution_count": null,
   "metadata": {},
   "outputs": [],
   "source": []
  }
 ],
 "metadata": {
  "kernelspec": {
   "display_name": "Python 3",
   "language": "python",
   "name": "python3"
  },
  "language_info": {
   "codemirror_mode": {
    "name": "ipython",
    "version": 3
   },
   "file_extension": ".py",
   "mimetype": "text/x-python",
   "name": "python",
   "nbconvert_exporter": "python",
   "pygments_lexer": "ipython3",
   "version": "3.7.3"
  }
 },
 "nbformat": 4,
 "nbformat_minor": 2
}
