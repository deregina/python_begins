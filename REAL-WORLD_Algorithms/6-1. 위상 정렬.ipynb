{
 "cells": [
  {
   "cell_type": "code",
   "execution_count": 105,
   "metadata": {},
   "outputs": [],
   "source": [
    "V = [0, 1, 2, 3, 4, 5, 6, 7, 8, 9, 10]\n",
    "E = [(0, 1), (0, 3), (1, 2), (3, 4), (4, 2), (4, 5), (6, 3), (6, 7), (8, 6), (8, 9), (9, 7)]\n",
    "E.reverse()"
   ]
  },
  {
   "cell_type": "code",
   "execution_count": 106,
   "metadata": {},
   "outputs": [],
   "source": [
    "t = V[0]\n",
    "where_to_go = [t]\n",
    "visited = [t]"
   ]
  },
  {
   "cell_type": "code",
   "execution_count": 107,
   "metadata": {},
   "outputs": [],
   "source": [
    "while len(visited) < len(V):\n",
    "    if t in where_to_go:\n",
    "        where_to_go.remove(t)\n",
    "\n",
    "    i = 0\n",
    "    while i < len(E):\n",
    "        if E[i][0] == t and E[i][1] not in visited:\n",
    "            where_to_go.append(E[i][1])\n",
    "            E.pop(i)\n",
    "        else:\n",
    "            i += 1\n",
    "    \n",
    "    if len(where_to_go) > 0:\n",
    "        t = where_to_go[-1]\n",
    "        if t not in visited:\n",
    "            visited.append(t)\n",
    "    else:\n",
    "        for j in range(len(V)):\n",
    "            if V[j] not in visited:\n",
    "                t = V[j]\n",
    "                visited.append(t)\n",
    "                break"
   ]
  },
  {
   "cell_type": "code",
   "execution_count": 108,
   "metadata": {},
   "outputs": [
    {
     "name": "stdout",
     "output_type": "stream",
     "text": [
      "[0, 1, 2, 3, 4, 5, 6, 7, 8, 9, 10]\n"
     ]
    }
   ],
   "source": [
    "print(visited)"
   ]
  },
  {
   "cell_type": "code",
   "execution_count": null,
   "metadata": {},
   "outputs": [],
   "source": []
  }
 ],
 "metadata": {
  "kernelspec": {
   "display_name": "Python 3",
   "language": "python",
   "name": "python3"
  },
  "language_info": {
   "codemirror_mode": {
    "name": "ipython",
    "version": 3
   },
   "file_extension": ".py",
   "mimetype": "text/x-python",
   "name": "python",
   "nbconvert_exporter": "python",
   "pygments_lexer": "ipython3",
   "version": "3.7.3"
  }
 },
 "nbformat": 4,
 "nbformat_minor": 2
}
