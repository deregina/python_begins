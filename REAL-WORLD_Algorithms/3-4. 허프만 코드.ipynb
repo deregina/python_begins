{
 "cells": [
  {
   "cell_type": "code",
   "execution_count": 1,
   "metadata": {},
   "outputs": [],
   "source": [
    "word = \"effervescence\""
   ]
  },
  {
   "cell_type": "code",
   "execution_count": 2,
   "metadata": {},
   "outputs": [],
   "source": [
    "word_list = list(word)\n",
    "word_list.sort()"
   ]
  },
  {
   "cell_type": "code",
   "execution_count": 3,
   "metadata": {},
   "outputs": [
    {
     "name": "stdout",
     "output_type": "stream",
     "text": [
      "['c', 'c', 'e', 'e', 'e', 'e', 'e', 'f', 'f', 'n', 'r', 's', 'v']\n"
     ]
    }
   ],
   "source": [
    "print(word_list)"
   ]
  },
  {
   "cell_type": "code",
   "execution_count": 50,
   "metadata": {},
   "outputs": [
    {
     "name": "stdout",
     "output_type": "stream",
     "text": [
      "{'c': 2, 'e': 5, 'f': 2, 'n': 1, 'r': 1, 's': 1, 'v': 1}\n",
      "[('n', 1), ('r', 1), ('s', 1), ('v', 1), ('c', 2), ('f', 2), ('e', 5)]\n",
      "{'n': 1, 'r': 1, 's': 1, 'v': 1, 'c': 2, 'f': 2, 'e': 5}\n"
     ]
    },
    {
     "data": {
      "text/plain": [
       "1"
      ]
     },
     "execution_count": 50,
     "metadata": {},
     "output_type": "execute_result"
    }
   ],
   "source": [
    "pointer = 0\n",
    "frequency = {}\n",
    "\n",
    "while pointer < len(word_list):\n",
    "    num = word_list[pointer:].count(word_list[pointer])\n",
    "    frequency[word_list[pointer]] = num\n",
    "    pointer += num\n",
    "    \n",
    "print(frequency)\n",
    "    \n",
    "sorted_f = sorted(frequency.items(), key = lambda x : x[1])\n",
    "print(sorted_f)\n",
    "\n",
    "dict_f = {}\n",
    "\n",
    "for i in range(len(sorted_f)):\n",
    "    dict_f[sorted_f[i][0]] = sorted_f[i][1]\n",
    "    \n",
    "print(dict_f)\n",
    "dict_f['r']"
   ]
  },
  {
   "cell_type": "code",
   "execution_count": 39,
   "metadata": {},
   "outputs": [
    {
     "name": "stdout",
     "output_type": "stream",
     "text": [
      "('n', 1) ('r', 1)\n",
      "('s', 1) ('v', 1)\n",
      "(('s', 1), ('v', 1), 2) (('n', 1), ('r', 1), 2)\n",
      "('c', 2) ('f', 2)\n",
      "(('c', 2), ('f', 2), 4) ((('s', 1), ('v', 1), 2), (('n', 1), ('r', 1), 2), 4)\n",
      "('e', 5) ((('c', 2), ('f', 2), 4), ((('s', 1), ('v', 1), 2), (('n', 1), ('r', 1), 2), 4), 8)\n",
      "(('e', 5), ((('c', 2), ('f', 2), 4), ((('s', 1), ('v', 1), 2), (('n', 1), ('r', 1), 2), 4), 8), 13)\n"
     ]
    }
   ],
   "source": [
    "while len(sorted_f) > 1:\n",
    "    x = sorted_f.pop(0)\n",
    "    y = sorted_f.pop(0)\n",
    "    s = x[-1] + y[-1]\n",
    "    z = (x, y, s)\n",
    "    \n",
    "    if len(sorted_f) < 1:\n",
    "        print(z)\n",
    "        break\n",
    "    elif sorted_f[-1][-1] <= s:\n",
    "        sorted_f.append(z)\n",
    "    else:\n",
    "        for i in range(len(sorted_f)):\n",
    "            if sorted_f[i][-1] < s:\n",
    "                pass\n",
    "            else:\n",
    "                sorted_f.insert(i, z)\n",
    "                break\n"
   ]
  },
  {
   "cell_type": "code",
   "execution_count": 45,
   "metadata": {},
   "outputs": [],
   "source": [
    "dict?"
   ]
  },
  {
   "cell_type": "code",
   "execution_count": null,
   "metadata": {},
   "outputs": [],
   "source": []
  },
  {
   "cell_type": "code",
   "execution_count": null,
   "metadata": {},
   "outputs": [],
   "source": []
  },
  {
   "cell_type": "code",
   "execution_count": null,
   "metadata": {},
   "outputs": [],
   "source": []
  },
  {
   "cell_type": "code",
   "execution_count": null,
   "metadata": {},
   "outputs": [],
   "source": []
  },
  {
   "cell_type": "code",
   "execution_count": null,
   "metadata": {},
   "outputs": [],
   "source": []
  }
 ],
 "metadata": {
  "kernelspec": {
   "display_name": "Python 3",
   "language": "python",
   "name": "python3"
  },
  "language_info": {
   "codemirror_mode": {
    "name": "ipython",
    "version": 3
   },
   "file_extension": ".py",
   "mimetype": "text/x-python",
   "name": "python",
   "nbconvert_exporter": "python",
   "pygments_lexer": "ipython3",
   "version": "3.7.3"
  }
 },
 "nbformat": 4,
 "nbformat_minor": 2
}
