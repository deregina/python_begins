{
 "cells": [
  {
   "cell_type": "code",
   "execution_count": 1,
   "metadata": {},
   "outputs": [],
   "source": [
    "word = \"effervescence\""
   ]
  },
  {
   "cell_type": "code",
   "execution_count": 2,
   "metadata": {},
   "outputs": [],
   "source": [
    "word_list = list(word)\n",
    "word_list.sort()"
   ]
  },
  {
   "cell_type": "code",
   "execution_count": 26,
   "metadata": {},
   "outputs": [
    {
     "name": "stdout",
     "output_type": "stream",
     "text": [
      "['c', 'c', 'e', 'e', 'e', 'e', 'e', 'f', 'f', 'n', 'r', 's', 'v']\n"
     ]
    }
   ],
   "source": [
    "print(word_list)"
   ]
  },
  {
   "cell_type": "code",
   "execution_count": 71,
   "metadata": {},
   "outputs": [
    {
     "name": "stdout",
     "output_type": "stream",
     "text": [
      "{'c': 2, 'e': 5, 'f': 2, 'n': 1, 'r': 1, 's': 1, 'v': 1}\n",
      "[[1, 'n'], [1, 'r'], [1, 's'], [1, 'v'], [2, 'c'], [2, 'f'], [5, 'e']]\n"
     ]
    }
   ],
   "source": [
    "pointer = 0\n",
    "frequency = {}\n",
    "\n",
    "while pointer < len(word_list):\n",
    "    num = word_list[pointer:].count(word_list[pointer])\n",
    "    frequency[word_list[pointer]] = num\n",
    "    pointer += num\n",
    "    \n",
    "print(frequency)\n",
    "    \n",
    "sorted_f1 = sorted(frequency.items(), key = lambda x : x[1])\n",
    "sorted_f = list(map(lambda x : [x[1], x[0]], sorted_f1))\n",
    "print(sorted_f)\n",
    "\n"
   ]
  },
  {
   "cell_type": "code",
   "execution_count": 72,
   "metadata": {},
   "outputs": [
    {
     "name": "stdout",
     "output_type": "stream",
     "text": [
      "[[1, 'n'], [1, 'r'], [1, 's'], [1, 'v'], [2, 'c'], [2, 'f'], [5, 'e']]\n",
      "[[1, 's'], [1, 'v'], [2, [1, 'n'], [1, 'r']], [2, 'c'], [2, 'f'], [5, 'e']]\n",
      "[[2, [1, 's'], [1, 'v']], [2, [1, 'n'], [1, 'r']], [2, 'c'], [2, 'f'], [5, 'e']]\n",
      "[[2, 'c'], [2, 'f'], [4, [2, [1, 's'], [1, 'v']], [2, [1, 'n'], [1, 'r']]], [5, 'e']]\n",
      "[[4, [2, 'c'], [2, 'f']], [4, [2, [1, 's'], [1, 'v']], [2, [1, 'n'], [1, 'r']]], [5, 'e']]\n",
      "[[5, 'e'], [8, [4, [2, 'c'], [2, 'f']], [4, [2, [1, 's'], [1, 'v']], [2, [1, 'n'], [1, 'r']]]]]\n",
      "[13, [5, 'e'], [8, [4, [2, 'c'], [2, 'f']], [4, [2, [1, 's'], [1, 'v']], [2, [1, 'n'], [1, 'r']]]]]\n"
     ]
    }
   ],
   "source": [
    "while len(sorted_f) > 1:\n",
    "    print(sorted_f)\n",
    "    x = sorted_f.pop(0)\n",
    "    y = sorted_f.pop(0)\n",
    "    s = x[0] + y[0]\n",
    "    z = [s, x, y]\n",
    "    \n",
    "    if len(sorted_f) < 1:\n",
    "        print(z)\n",
    "        break\n",
    "    elif sorted_f[-1][0] <= s:\n",
    "        sorted_f.append(z)\n",
    "    else:\n",
    "        for i in range(len(sorted_f)):\n",
    "            if sorted_f[i][0] < s:\n",
    "                pass\n",
    "            else:\n",
    "                sorted_f.insert(i, z)\n",
    "                break\n",
    "tree = z"
   ]
  },
  {
   "cell_type": "code",
   "execution_count": 106,
   "metadata": {},
   "outputs": [],
   "source": [
    "tree[0] = \"\"\n",
    "\n",
    "def coding(tree):\n",
    "    if len(tree) == 3:\n",
    "        tree[1][0] = str(tree[0]) + \"0\"\n",
    "        tree[2][0] = str(tree[0]) + \"1\"\n",
    "        coding(tree[1])\n",
    "        coding(tree[2])"
   ]
  },
  {
   "cell_type": "code",
   "execution_count": 107,
   "metadata": {},
   "outputs": [],
   "source": [
    "coding(tree)"
   ]
  },
  {
   "cell_type": "code",
   "execution_count": 108,
   "metadata": {},
   "outputs": [
    {
     "name": "stdout",
     "output_type": "stream",
     "text": [
      "['', ['0', 'e'], ['1', ['10', ['100', 'c'], ['101', 'f']], ['11', ['110', ['1100', 's'], ['1101', 'v']], ['111', ['1110', 'n'], ['1111', 'r']]]]]\n"
     ]
    }
   ],
   "source": [
    "print(tree)"
   ]
  },
  {
   "cell_type": "code",
   "execution_count": 109,
   "metadata": {},
   "outputs": [],
   "source": [
    "def coding_dict(tree):\n",
    "    if len(tree) == 3:\n",
    "        coding_dict(tree[1])\n",
    "        coding_dict(tree[2])\n",
    "    else:\n",
    "        code[tree[1]] = tree[0]"
   ]
  },
  {
   "cell_type": "code",
   "execution_count": 110,
   "metadata": {},
   "outputs": [
    {
     "name": "stdout",
     "output_type": "stream",
     "text": [
      "{'e': '0', 'c': '100', 'f': '101', 's': '1100', 'v': '1101', 'n': '1110', 'r': '1111'}\n"
     ]
    }
   ],
   "source": [
    "code = {}\n",
    "\n",
    "coding_dict(tree)\n",
    "print(code)"
   ]
  },
  {
   "cell_type": "code",
   "execution_count": 111,
   "metadata": {},
   "outputs": [
    {
     "name": "stdout",
     "output_type": "stream",
     "text": [
      "010110101111110101100100011101000\n"
     ]
    }
   ],
   "source": [
    "huffman_word = \"\"\n",
    "\n",
    "for letter in word:\n",
    "    huffman_word += code[letter]\n",
    "    \n",
    "print(huffman_word)"
   ]
  },
  {
   "cell_type": "code",
   "execution_count": 113,
   "metadata": {},
   "outputs": [],
   "source": [
    "reverse_code = {v: k for k, v in code.items()}"
   ]
  },
  {
   "cell_type": "code",
   "execution_count": null,
   "metadata": {},
   "outputs": [],
   "source": []
  }
 ],
 "metadata": {
  "kernelspec": {
   "display_name": "Python 3",
   "language": "python",
   "name": "python3"
  },
  "language_info": {
   "codemirror_mode": {
    "name": "ipython",
    "version": 3
   },
   "file_extension": ".py",
   "mimetype": "text/x-python",
   "name": "python",
   "nbconvert_exporter": "python",
   "pygments_lexer": "ipython3",
   "version": "3.7.3"
  }
 },
 "nbformat": 4,
 "nbformat_minor": 2
}
