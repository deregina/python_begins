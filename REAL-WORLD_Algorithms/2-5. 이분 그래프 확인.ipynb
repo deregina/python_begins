{
 "cells": [
  {
   "cell_type": "code",
   "execution_count": 31,
   "metadata": {},
   "outputs": [],
   "source": [
    "def check_bipartite(graph):\n",
    "    left = []\n",
    "    right = []\n",
    "    length = len(graph)\n",
    "    for i in range(length):\n",
    "        if graph[i][0] not in right:\n",
    "            if graph[i][0] not in left:\n",
    "                left.append(graph[i][0])\n",
    "        else:\n",
    "            return False\n",
    "            \n",
    "        if graph[i][1] not in left:\n",
    "            if graph[i][1] not in right:\n",
    "                right.append(graph[i][1])\n",
    "        else:\n",
    "            return False\n",
    "    \n",
    "    return True"
   ]
  },
  {
   "cell_type": "code",
   "execution_count": 32,
   "metadata": {},
   "outputs": [],
   "source": [
    "import random"
   ]
  },
  {
   "cell_type": "code",
   "execution_count": 85,
   "metadata": {},
   "outputs": [],
   "source": [
    "def create_maze_2(x, y):\n",
    "    now = (x, y)\n",
    "    if now not in visited:\n",
    "        visited.append(now)\n",
    "    \n",
    "    while len(visited) < n**2/10:\n",
    "        can_go = [(x, y-1), (x, y+1), (x+1, y), (x-1, y)]\n",
    "\n",
    "        if x <= 0:\n",
    "            can_go.remove((x-1, y))\n",
    "        if y <= 0:\n",
    "            can_go.remove((x, y-1))\n",
    "        if x >= 9:\n",
    "            can_go.remove((x+1, y))\n",
    "        if y >= 9:\n",
    "            can_go.remove((x, y+1))\n",
    "            \n",
    "        i = 0\n",
    "        while i < len(can_go):\n",
    "            if can_go[i][0] == can_go[i][1]:\n",
    "                can_go.pop(i)\n",
    "            i += 1\n",
    "        \n",
    "        want_to_go = random.choice(can_go)\n",
    "        \n",
    "        create_maze_2(want_to_go[0], want_to_go[1])"
   ]
  },
  {
   "cell_type": "code",
   "execution_count": 92,
   "metadata": {},
   "outputs": [],
   "source": [
    "n = 10\n",
    "graph = []\n",
    "\n",
    "for j in range(10):\n",
    "    visited = []\n",
    "    rand_num = random.randint(0, 9)\n",
    "    start = []\n",
    "\n",
    "    for i in range(2):\n",
    "        while rand_num in start:\n",
    "            rand_num = random.randint(0, 9)\n",
    "        start.append(rand_num)\n",
    "\n",
    "    create_maze_2(start[0], start[1])\n",
    "    graph.append(visited)\n"
   ]
  },
  {
   "cell_type": "code",
   "execution_count": 93,
   "metadata": {},
   "outputs": [
    {
     "name": "stdout",
     "output_type": "stream",
     "text": [
      "[(4, 3), (5, 3), (5, 2), (5, 4), (6, 4), (7, 4), (8, 4), (9, 4), (6, 5), (7, 5)]\n",
      "[(9, 8), (9, 7), (8, 7), (8, 6), (9, 6), (9, 5), (9, 4), (8, 4), (8, 5), (7, 6)]\n",
      "[(1, 9), (2, 9), (3, 9), (3, 8), (2, 8), (1, 8), (4, 8), (4, 7), (5, 7), (5, 6)]\n",
      "[(4, 0), (4, 1), (4, 2), (3, 2), (5, 2), (5, 3), (6, 2), (7, 2), (8, 2), (8, 1)]\n",
      "[(6, 8), (6, 7), (5, 7), (4, 7), (4, 8), (3, 8), (2, 8), (2, 9), (1, 9), (2, 7)]\n",
      "[(3, 9), (2, 9), (2, 8), (1, 8), (1, 9), (0, 8), (0, 9), (4, 9), (4, 8), (3, 8)]\n",
      "[(6, 4), (6, 5), (7, 4), (7, 5), (8, 5), (8, 4), (9, 4), (7, 3), (8, 3), (8, 2)]\n",
      "[(3, 0), (3, 1), (4, 1), (4, 2), (4, 3), (3, 2), (5, 2), (5, 3), (5, 4), (6, 4)]\n",
      "[(0, 5), (1, 5), (1, 6), (2, 6), (3, 6), (4, 6), (4, 7), (3, 7), (4, 5), (3, 5)]\n",
      "[(9, 8), (9, 7), (8, 8), (7, 8), (6, 8), (6, 9), (7, 9), (5, 9), (8, 9), (5, 8)]\n"
     ]
    }
   ],
   "source": [
    "result = []\n",
    "\n",
    "for i in range(len(graph)):\n",
    "    result.append(check_bipartite(graph[i]))\n",
    "    print(graph[i])"
   ]
  },
  {
   "cell_type": "code",
   "execution_count": 94,
   "metadata": {},
   "outputs": [
    {
     "data": {
      "text/plain": [
       "[False, False, True, False, True, True, True, False, True, False]"
      ]
     },
     "execution_count": 94,
     "metadata": {},
     "output_type": "execute_result"
    }
   ],
   "source": [
    "result"
   ]
  },
  {
   "cell_type": "code",
   "execution_count": null,
   "metadata": {},
   "outputs": [],
   "source": []
  }
 ],
 "metadata": {
  "kernelspec": {
   "display_name": "Python 3",
   "language": "python",
   "name": "python3"
  },
  "language_info": {
   "codemirror_mode": {
    "name": "ipython",
    "version": 3
   },
   "file_extension": ".py",
   "mimetype": "text/x-python",
   "name": "python",
   "nbconvert_exporter": "python",
   "pygments_lexer": "ipython3",
   "version": "3.7.3"
  }
 },
 "nbformat": 4,
 "nbformat_minor": 2
}
