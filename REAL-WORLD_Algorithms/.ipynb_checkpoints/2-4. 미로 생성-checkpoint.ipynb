{
 "cells": [
  {
   "cell_type": "code",
   "execution_count": 3,
   "metadata": {},
   "outputs": [],
   "source": [
    "import random"
   ]
  },
  {
   "cell_type": "code",
   "execution_count": 6,
   "metadata": {},
   "outputs": [],
   "source": [
    "def create_maze(x, y):\n",
    "    now = (x, y)\n",
    "    if now not in visited:\n",
    "        visited.append(now)\n",
    "    \n",
    "    while len(visited) < n**2/10:\n",
    "        can_go = [(x, y-1), (x, y+1), (x+1, y), (x-1, y)]\n",
    "\n",
    "        if x == 0:\n",
    "            can_go.remove((x-1, y))\n",
    "        if y == 0:\n",
    "            can_go.remove((x, y-1))\n",
    "        if x == 9:\n",
    "            can_go.remove((x+1, y))\n",
    "        if y == 9:\n",
    "            can_go.remove((x, y+1))\n",
    "        \n",
    "        want_to_go = random.choice(can_go)\n",
    "        \n",
    "        create_maze(want_to_go[0], want_to_go[1])"
   ]
  },
  {
   "cell_type": "code",
   "execution_count": 7,
   "metadata": {},
   "outputs": [
    {
     "name": "stdout",
     "output_type": "stream",
     "text": [
      "[(5, 5), (4, 5), (5, 4), (5, 3), (4, 3), (4, 4), (3, 4), (3, 3), (4, 2), (3, 2)]\n"
     ]
    }
   ],
   "source": [
    "n = 10\n",
    "visited = []\n",
    "create_maze(5, 5)\n",
    "print(visited)"
   ]
  },
  {
   "cell_type": "code",
   "execution_count": null,
   "metadata": {},
   "outputs": [],
   "source": []
  },
  {
   "cell_type": "code",
   "execution_count": null,
   "metadata": {},
   "outputs": [],
   "source": []
  },
  {
   "cell_type": "code",
   "execution_count": 41,
   "metadata": {},
   "outputs": [],
   "source": [
    "def create_maze_2(x, y):\n",
    "    now = (x, y)\n",
    "    if now not in visited:\n",
    "        visited.append(now)\n",
    "    \n",
    "    while len(visited) < n**2/10:\n",
    "        can_go = [(x, y-1), (x, y+1), (x+1, y), (x-1, y)]\n",
    "\n",
    "        if x <= 0:\n",
    "            can_go.remove((x-1, y))\n",
    "        if y <= 0:\n",
    "            can_go.remove((x, y-1))\n",
    "        if x >= 9:\n",
    "            can_go.remove((x+1, y))\n",
    "        if y >= 9:\n",
    "            can_go.remove((x, y+1))\n",
    "            \n",
    "        i = 0\n",
    "        while i < len(can_go):\n",
    "            if can_go[i][0] == can_go[i][1]:\n",
    "                can_go.pop(i)\n",
    "            i += 1\n",
    "        \n",
    "        want_to_go = random.choice(can_go)\n",
    "        \n",
    "        create_maze_2(want_to_go[0], want_to_go[1])"
   ]
  },
  {
   "cell_type": "code",
   "execution_count": 42,
   "metadata": {},
   "outputs": [
    {
     "name": "stdout",
     "output_type": "stream",
     "text": [
      "[5, 9]\n",
      "[(5, 9), (6, 9), (6, 8), (6, 7), (5, 7), (4, 7), (3, 7), (4, 6), (4, 8), (5, 8)]\n"
     ]
    }
   ],
   "source": [
    "n = 10\n",
    "visited = []\n",
    "\n",
    "rand_num = random.randint(0, 10)\n",
    "start = []\n",
    "\n",
    "for i in range(2):\n",
    "    while rand_num in start:\n",
    "        rand_num = random.randint(0, 10)\n",
    "    start.append(rand_num)\n",
    "\n",
    "print(start)\n",
    "\n",
    "\n",
    "create_maze_2(start[0], start[1])\n",
    "print(visited)"
   ]
  },
  {
   "cell_type": "code",
   "execution_count": null,
   "metadata": {},
   "outputs": [],
   "source": []
  },
  {
   "cell_type": "code",
   "execution_count": null,
   "metadata": {},
   "outputs": [],
   "source": []
  },
  {
   "cell_type": "code",
   "execution_count": 55,
   "metadata": {},
   "outputs": [],
   "source": [
    "class maze:\n",
    "    def __init__(self, n):\n",
    "        self.visited = []\n",
    "        self.n = n\n",
    "        \n",
    "    def create_maze(self, x, y):\n",
    "        self.x = x\n",
    "        self.y = y\n",
    "        now = (self.x, self.y)\n",
    "        if len(self.visited) < self.n**2/5:\n",
    "            self.visited.append(now)\n",
    "            can_go = [(x-1, y-1), (x-1, y+1), (x+1, y-1), (x+1,y+1)]\n",
    "            want_to_go = random.choice(can_go)\n",
    "            if want_to_go not in self.visited:\n",
    "                create_maze(self, want_to_go[0], want_to_go[1])\n",
    "            else:\n",
    "                create_maze(self, self.x, self.y)\n",
    "            \n",
    "            \n",
    "        \n",
    "    def show(self):\n",
    "        print(self.where_to_go,'\\n',self.visited,'\\n',self.n)\n"
   ]
  },
  {
   "cell_type": "raw",
   "metadata": {},
   "source": [
    "for i in range(4):\n",
    "                can_go = [(x-1, y-1), (x-1, y+1), (x+1, y-1), (x+1,y+1)]\n",
    "                if can_go[i] not in visited:\n",
    "                    where_to_go.insert(0, can_go[i])"
   ]
  },
  {
   "cell_type": "code",
   "execution_count": 56,
   "metadata": {},
   "outputs": [],
   "source": [
    "test = maze(10)"
   ]
  },
  {
   "cell_type": "code",
   "execution_count": 57,
   "metadata": {},
   "outputs": [
    {
     "ename": "NameError",
     "evalue": "name 'create_maze' is not defined",
     "output_type": "error",
     "traceback": [
      "\u001b[1;31m---------------------------------------------------------------------------\u001b[0m",
      "\u001b[1;31mNameError\u001b[0m                                 Traceback (most recent call last)",
      "\u001b[1;32m<ipython-input-57-0261d9af7271>\u001b[0m in \u001b[0;36m<module>\u001b[1;34m\u001b[0m\n\u001b[1;32m----> 1\u001b[1;33m \u001b[0mtest\u001b[0m\u001b[1;33m.\u001b[0m\u001b[0mcreate_maze\u001b[0m\u001b[1;33m(\u001b[0m\u001b[1;36m3\u001b[0m\u001b[1;33m,\u001b[0m \u001b[1;36m6\u001b[0m\u001b[1;33m)\u001b[0m\u001b[1;33m\u001b[0m\u001b[1;33m\u001b[0m\u001b[0m\n\u001b[0m",
      "\u001b[1;32m<ipython-input-55-1d5757c47de7>\u001b[0m in \u001b[0;36mcreate_maze\u001b[1;34m(self, x, y)\u001b[0m\n\u001b[0;32m     14\u001b[0m             \u001b[0mwant_to_go\u001b[0m \u001b[1;33m=\u001b[0m \u001b[0mrandom\u001b[0m\u001b[1;33m.\u001b[0m\u001b[0mchoice\u001b[0m\u001b[1;33m(\u001b[0m\u001b[0mcan_go\u001b[0m\u001b[1;33m)\u001b[0m\u001b[1;33m\u001b[0m\u001b[1;33m\u001b[0m\u001b[0m\n\u001b[0;32m     15\u001b[0m             \u001b[1;32mif\u001b[0m \u001b[0mwant_to_go\u001b[0m \u001b[1;32mnot\u001b[0m \u001b[1;32min\u001b[0m \u001b[0mself\u001b[0m\u001b[1;33m.\u001b[0m\u001b[0mvisited\u001b[0m\u001b[1;33m:\u001b[0m\u001b[1;33m\u001b[0m\u001b[1;33m\u001b[0m\u001b[0m\n\u001b[1;32m---> 16\u001b[1;33m                 \u001b[0mcreate_maze\u001b[0m\u001b[1;33m(\u001b[0m\u001b[0mself\u001b[0m\u001b[1;33m,\u001b[0m \u001b[0mwant_to_go\u001b[0m\u001b[1;33m[\u001b[0m\u001b[1;36m0\u001b[0m\u001b[1;33m]\u001b[0m\u001b[1;33m,\u001b[0m \u001b[0mwant_to_go\u001b[0m\u001b[1;33m[\u001b[0m\u001b[1;36m1\u001b[0m\u001b[1;33m]\u001b[0m\u001b[1;33m)\u001b[0m\u001b[1;33m\u001b[0m\u001b[1;33m\u001b[0m\u001b[0m\n\u001b[0m\u001b[0;32m     17\u001b[0m             \u001b[1;32melse\u001b[0m\u001b[1;33m:\u001b[0m\u001b[1;33m\u001b[0m\u001b[1;33m\u001b[0m\u001b[0m\n\u001b[0;32m     18\u001b[0m                 \u001b[0mcreate_maze\u001b[0m\u001b[1;33m(\u001b[0m\u001b[0mself\u001b[0m\u001b[1;33m,\u001b[0m \u001b[0mself\u001b[0m\u001b[1;33m.\u001b[0m\u001b[0mx\u001b[0m\u001b[1;33m,\u001b[0m \u001b[0mself\u001b[0m\u001b[1;33m.\u001b[0m\u001b[0my\u001b[0m\u001b[1;33m)\u001b[0m\u001b[1;33m\u001b[0m\u001b[1;33m\u001b[0m\u001b[0m\n",
      "\u001b[1;31mNameError\u001b[0m: name 'create_maze' is not defined"
     ]
    }
   ],
   "source": [
    "test.create_maze(3, 6)"
   ]
  },
  {
   "cell_type": "code",
   "execution_count": 43,
   "metadata": {},
   "outputs": [
    {
     "name": "stdout",
     "output_type": "stream",
     "text": [
      "[] \n",
      " [] \n",
      " 10\n"
     ]
    }
   ],
   "source": [
    "test.show()"
   ]
  },
  {
   "cell_type": "code",
   "execution_count": null,
   "metadata": {},
   "outputs": [],
   "source": []
  }
 ],
 "metadata": {
  "kernelspec": {
   "display_name": "Python 3",
   "language": "python",
   "name": "python3"
  },
  "language_info": {
   "codemirror_mode": {
    "name": "ipython",
    "version": 3
   },
   "file_extension": ".py",
   "mimetype": "text/x-python",
   "name": "python",
   "nbconvert_exporter": "python",
   "pygments_lexer": "ipython3",
   "version": "3.7.3"
  }
 },
 "nbformat": 4,
 "nbformat_minor": 2
}
