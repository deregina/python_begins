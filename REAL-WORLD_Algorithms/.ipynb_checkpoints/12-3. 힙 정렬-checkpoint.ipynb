{
 "cells": [
  {
   "cell_type": "code",
   "execution_count": 1,
   "metadata": {},
   "outputs": [],
   "source": [
    "import random"
   ]
  },
  {
   "cell_type": "code",
   "execution_count": 99,
   "metadata": {},
   "outputs": [],
   "source": [
    "A = []\n",
    "for i in range(16):\n",
    "    a = random.randint(0, 50)\n",
    "    A.append(a)"
   ]
  },
  {
   "cell_type": "code",
   "execution_count": 100,
   "metadata": {},
   "outputs": [
    {
     "data": {
      "text/plain": [
       "[9, 42, 44, 16, 12, 28, 21, 39, 46, 15, 25, 46, 45, 25, 27, 25]"
      ]
     },
     "execution_count": 100,
     "metadata": {},
     "output_type": "execute_result"
    }
   ],
   "source": [
    "A"
   ]
  },
  {
   "cell_type": "code",
   "execution_count": 101,
   "metadata": {},
   "outputs": [],
   "source": [
    "def heap_level(A, i, n):\n",
    "    k = i\n",
    "    j = 2*k + 1\n",
    "    if j < n:\n",
    "        if j+1 < n and A[j] < A[j+1]:\n",
    "            j = j+1\n",
    "        if A[k] < A[j]:\n",
    "            A[k], A[j] = A[j], A[k]\n",
    "            \n",
    "        heap_level(A, j, n)"
   ]
  },
  {
   "cell_type": "code",
   "execution_count": 102,
   "metadata": {},
   "outputs": [],
   "source": [
    "def heap(A):\n",
    "    n = len(A)\n",
    "    for p in range((n-1)//2 + 1):\n",
    "        q = (n-1)//2 - p\n",
    "        heap_level(A, q, n)"
   ]
  },
  {
   "cell_type": "code",
   "execution_count": 103,
   "metadata": {},
   "outputs": [],
   "source": [
    "heap(A)"
   ]
  },
  {
   "cell_type": "code",
   "execution_count": 104,
   "metadata": {},
   "outputs": [
    {
     "data": {
      "text/plain": [
       "[46, 42, 46, 39, 25, 45, 27, 25, 16, 15, 12, 28, 44, 25, 21, 9]"
      ]
     },
     "execution_count": 104,
     "metadata": {},
     "output_type": "execute_result"
    }
   ],
   "source": [
    "A"
   ]
  },
  {
   "cell_type": "code",
   "execution_count": 105,
   "metadata": {},
   "outputs": [],
   "source": [
    "n = len(A)\n",
    "while n > 0:\n",
    "    A[0], A[n-1] = A[n-1], A[0]\n",
    "    n -= 1\n",
    "    heap_level(A, 0, n)"
   ]
  },
  {
   "cell_type": "code",
   "execution_count": 106,
   "metadata": {},
   "outputs": [
    {
     "data": {
      "text/plain": [
       "[9, 12, 15, 16, 21, 25, 25, 25, 27, 28, 39, 42, 44, 45, 46, 46]"
      ]
     },
     "execution_count": 106,
     "metadata": {},
     "output_type": "execute_result"
    }
   ],
   "source": [
    "A"
   ]
  },
  {
   "cell_type": "code",
   "execution_count": null,
   "metadata": {},
   "outputs": [],
   "source": []
  }
 ],
 "metadata": {
  "kernelspec": {
   "display_name": "Python 3",
   "language": "python",
   "name": "python3"
  },
  "language_info": {
   "codemirror_mode": {
    "name": "ipython",
    "version": 3
   },
   "file_extension": ".py",
   "mimetype": "text/x-python",
   "name": "python",
   "nbconvert_exporter": "python",
   "pygments_lexer": "ipython3",
   "version": "3.7.3"
  }
 },
 "nbformat": 4,
 "nbformat_minor": 2
}
