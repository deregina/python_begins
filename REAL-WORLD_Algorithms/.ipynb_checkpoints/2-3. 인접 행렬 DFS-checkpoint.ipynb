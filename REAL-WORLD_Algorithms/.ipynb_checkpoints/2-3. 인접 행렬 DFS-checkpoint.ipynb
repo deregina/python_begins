{
 "cells": [
  {
   "cell_type": "markdown",
   "metadata": {},
   "source": [
    "# 1번"
   ]
  },
  {
   "cell_type": "code",
   "execution_count": 2,
   "metadata": {},
   "outputs": [],
   "source": [
    "V = [0, 1, 2, 3, 4, 5, 6, 7]"
   ]
  },
  {
   "cell_type": "code",
   "execution_count": 87,
   "metadata": {},
   "outputs": [],
   "source": [
    "E = [(0, 1), (0, 2), (0, 3), (1, 0), (1, 4), (2, 0), (3, 0), (3, 5), \n",
    "     (4, 1), (4, 5), (5, 3), (5, 4), (5, 6), (5, 7), (6, 5), (7, 5)]"
   ]
  },
  {
   "cell_type": "code",
   "execution_count": 88,
   "metadata": {},
   "outputs": [
    {
     "name": "stdout",
     "output_type": "stream",
     "text": [
      "[(7, 5), (6, 5), (5, 7), (5, 6), (5, 4), (5, 3), (4, 5), (4, 1), (3, 5), (3, 0), (2, 0), (1, 4), (1, 0), (0, 3), (0, 2), (0, 1)]\n"
     ]
    }
   ],
   "source": [
    "E.reverse()\n",
    "print(E)"
   ]
  },
  {
   "cell_type": "code",
   "execution_count": 89,
   "metadata": {},
   "outputs": [],
   "source": [
    "where_to_go = [0]\n",
    "visited = []"
   ]
  },
  {
   "cell_type": "code",
   "execution_count": 90,
   "metadata": {},
   "outputs": [],
   "source": [
    "def visit(v):\n",
    "    gone  = where_to_go.pop(0)\n",
    "    visited.append(gone)\n",
    "    print(gone)\n",
    "    for i in range(len(E)):\n",
    "        if E[i][0] == v and E[i][1] not in visited and E[i][1] not in where_to_go:\n",
    "            where_to_go.insert(0, E[i][1])\n"
   ]
  },
  {
   "cell_type": "code",
   "execution_count": 91,
   "metadata": {
    "scrolled": true
   },
   "outputs": [
    {
     "name": "stdout",
     "output_type": "stream",
     "text": [
      "0\n",
      "[1, 2, 3]\n",
      "1\n",
      "[4, 2, 3]\n",
      "4\n",
      "[5, 2, 3]\n",
      "5\n",
      "[6, 7, 2, 3]\n",
      "6\n",
      "[7, 2, 3]\n",
      "7\n",
      "[2, 3]\n",
      "2\n",
      "[3]\n",
      "3\n",
      "[]\n",
      "[0, 1, 4, 5, 6, 7, 2, 3]\n"
     ]
    }
   ],
   "source": [
    "while where_to_go != []:\n",
    "    visit(where_to_go[0])\n",
    "    print(where_to_go)\n",
    "    \n",
    "print(visited)"
   ]
  },
  {
   "cell_type": "code",
   "execution_count": null,
   "metadata": {},
   "outputs": [],
   "source": []
  },
  {
   "cell_type": "markdown",
   "metadata": {},
   "source": [
    "# 2번"
   ]
  },
  {
   "cell_type": "code",
   "execution_count": 96,
   "metadata": {},
   "outputs": [],
   "source": [
    "E = [(0, 1), (0, 2), (0, 3), (1, 0), (1, 4), (2, 0), (3, 0), (3, 5), \n",
    "     (4, 1), (4, 5), (5, 3), (5, 4), (5, 6), (5, 7), (6, 5), (7, 5)]"
   ]
  },
  {
   "cell_type": "code",
   "execution_count": 97,
   "metadata": {
    "scrolled": true
   },
   "outputs": [
    {
     "name": "stdout",
     "output_type": "stream",
     "text": [
      "[(7, 5), (6, 5), (5, 7), (5, 6), (5, 4), (5, 3), (4, 5), (4, 1), (3, 5), (3, 0), (2, 0), (1, 4), (1, 0), (0, 3), (0, 2), (0, 1)]\n"
     ]
    }
   ],
   "source": [
    "E.reverse()\n",
    "print(E)"
   ]
  },
  {
   "cell_type": "code",
   "execution_count": 102,
   "metadata": {},
   "outputs": [],
   "source": [
    "where_to_go = [0]\n",
    "visited = []"
   ]
  },
  {
   "cell_type": "code",
   "execution_count": 103,
   "metadata": {},
   "outputs": [],
   "source": [
    "def visit2(v):\n",
    "    gone  = where_to_go.pop(0)\n",
    "    while gone in where_to_go:\n",
    "        where_to_go.remove(gone)\n",
    "    visited.append(gone)\n",
    "    print(gone)\n",
    "    for i in range(len(E)):\n",
    "        if E[i][0] == v and E[i][1] not in visited:\n",
    "            where_to_go.insert(0, E[i][1])"
   ]
  },
  {
   "cell_type": "code",
   "execution_count": 104,
   "metadata": {},
   "outputs": [
    {
     "name": "stdout",
     "output_type": "stream",
     "text": [
      "0\n",
      "[1, 2, 3]\n",
      "1\n",
      "[4, 2, 3]\n",
      "4\n",
      "[5, 2, 3]\n",
      "5\n",
      "[3, 6, 7, 2, 3]\n",
      "3\n",
      "[6, 7, 2]\n",
      "6\n",
      "[7, 2]\n",
      "7\n",
      "[2]\n",
      "2\n",
      "[]\n",
      "[0, 1, 4, 5, 3, 6, 7, 2]\n"
     ]
    }
   ],
   "source": [
    "while where_to_go != []:\n",
    "    visit2(where_to_go[0])\n",
    "    print(where_to_go)\n",
    "    \n",
    "print(visited)"
   ]
  },
  {
   "cell_type": "code",
   "execution_count": null,
   "metadata": {},
   "outputs": [],
   "source": []
  },
  {
   "cell_type": "markdown",
   "metadata": {},
   "source": [
    "# 3번 \n",
    "  (재귀)"
   ]
  },
  {
   "cell_type": "code",
   "execution_count": 141,
   "metadata": {},
   "outputs": [],
   "source": [
    "E = [(0, 1), (0, 2), (0, 3), (1, 0), (1, 4), (2, 0), (3, 0), (3, 5), \n",
    "     (4, 1), (4, 5), (5, 3), (5, 4), (5, 6), (5, 7), (6, 5), (7, 5)]"
   ]
  },
  {
   "cell_type": "code",
   "execution_count": 142,
   "metadata": {
    "scrolled": true
   },
   "outputs": [
    {
     "name": "stdout",
     "output_type": "stream",
     "text": [
      "[(7, 5), (6, 5), (5, 7), (5, 6), (5, 4), (5, 3), (4, 5), (4, 1), (3, 5), (3, 0), (2, 0), (1, 4), (1, 0), (0, 3), (0, 2), (0, 1)]\n"
     ]
    }
   ],
   "source": [
    "E.reverse()\n",
    "print(E)"
   ]
  },
  {
   "cell_type": "code",
   "execution_count": 143,
   "metadata": {},
   "outputs": [],
   "source": [
    "where_to_go = []\n",
    "visited = []"
   ]
  },
  {
   "cell_type": "code",
   "execution_count": 146,
   "metadata": {},
   "outputs": [],
   "source": [
    "def visit_from(v):\n",
    "    if where_to_go == []:\n",
    "        where_to_go.append(v)\n",
    "    else:\n",
    "        gone  = where_to_go.pop(0)\n",
    "        while gone in where_to_go:\n",
    "            where_to_go.remove(gone)\n",
    "        visited.append(gone)\n",
    "        for i in range(len(E)):\n",
    "            if E[i][0] == v and E[i][1] not in visited:\n",
    "                where_to_go.insert(0, E[i][1])\n",
    "                \n",
    "    if len(visited) < len(V):\n",
    "        v = where_to_go[0]\n",
    "        visit_from(v)\n",
    "    else:\n",
    "        print(visited)"
   ]
  },
  {
   "cell_type": "code",
   "execution_count": 147,
   "metadata": {},
   "outputs": [
    {
     "name": "stdout",
     "output_type": "stream",
     "text": [
      "[0, 1, 4, 5, 3, 6, 7, 2]\n"
     ]
    }
   ],
   "source": [
    "visit_from(0)"
   ]
  },
  {
   "cell_type": "code",
   "execution_count": null,
   "metadata": {},
   "outputs": [],
   "source": []
  },
  {
   "cell_type": "code",
   "execution_count": null,
   "metadata": {},
   "outputs": [],
   "source": []
  }
 ],
 "metadata": {
  "kernelspec": {
   "display_name": "Python 3",
   "language": "python",
   "name": "python3"
  },
  "language_info": {
   "codemirror_mode": {
    "name": "ipython",
    "version": 3
   },
   "file_extension": ".py",
   "mimetype": "text/x-python",
   "name": "python",
   "nbconvert_exporter": "python",
   "pygments_lexer": "ipython3",
   "version": "3.7.3"
  }
 },
 "nbformat": 4,
 "nbformat_minor": 2
}
