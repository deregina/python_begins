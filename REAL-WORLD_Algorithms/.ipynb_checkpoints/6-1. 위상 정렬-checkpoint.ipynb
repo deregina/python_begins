{
 "cells": [
  {
   "cell_type": "code",
   "execution_count": 1,
   "metadata": {},
   "outputs": [],
   "source": [
    "V = ['a', 'b', 'c', 'd', 'e', 'f', 'g', 'h', 'i', 'j', 'k']"
   ]
  },
  {
   "cell_type": "code",
   "execution_count": 2,
   "metadata": {},
   "outputs": [
    {
     "name": "stdout",
     "output_type": "stream",
     "text": [
      "{'a': False, 'b': False, 'c': False, 'd': False, 'e': False, 'f': False, 'g': False, 'h': False, 'i': False, 'j': False, 'k': False}\n"
     ]
    }
   ],
   "source": [
    "visited = {}\n",
    "for node in V:\n",
    "    visited[node] = False\n",
    "    \n",
    "print(visited)"
   ]
  },
  {
   "cell_type": "code",
   "execution_count": 3,
   "metadata": {},
   "outputs": [],
   "source": [
    "D = {'a':['b', 'd'], 'b':['c'], 'd':['e'], 'e':['c', 'f'], 'g':['d', 'h'], 'i':['g', 'j'], 'j':['h']}"
   ]
  },
  {
   "cell_type": "code",
   "execution_count": 4,
   "metadata": {},
   "outputs": [],
   "source": [
    "sorted = []"
   ]
  },
  {
   "cell_type": "code",
   "execution_count": 5,
   "metadata": {},
   "outputs": [],
   "source": [
    "def DFS_sort_working_sequence(V, D, visited, node):\n",
    "    visited[node] = True\n",
    "    if node in D:\n",
    "        for linked_node in D[node]:\n",
    "            if visited[linked_node] == False:\n",
    "                visited[linked_node] = True\n",
    "                DFS_sort_working_sequence(V, D, visited, linked_node)\n",
    "    sorted.append(node)"
   ]
  },
  {
   "cell_type": "code",
   "execution_count": 6,
   "metadata": {},
   "outputs": [
    {
     "name": "stdout",
     "output_type": "stream",
     "text": [
      "['c', 'b', 'f', 'e', 'd', 'a', 'h', 'g', 'j', 'i', 'k']\n"
     ]
    }
   ],
   "source": [
    "for vertex in V:\n",
    "    if visited[vertex] == False:\n",
    "        DFS_sort_working_sequence(V, D, visited, vertex)\n",
    "\n",
    "print(sorted)"
   ]
  },
  {
   "cell_type": "code",
   "execution_count": null,
   "metadata": {},
   "outputs": [],
   "source": [
    "sorted"
   ]
  },
  {
   "cell_type": "code",
   "execution_count": null,
   "metadata": {},
   "outputs": [],
   "source": [
    "D[node]"
   ]
  },
  {
   "cell_type": "code",
   "execution_count": null,
   "metadata": {},
   "outputs": [],
   "source": [
    "visited['b']"
   ]
  },
  {
   "cell_type": "code",
   "execution_count": null,
   "metadata": {},
   "outputs": [],
   "source": [
    "'b' in D"
   ]
  },
  {
   "cell_type": "code",
   "execution_count": null,
   "metadata": {},
   "outputs": [],
   "source": []
  }
 ],
 "metadata": {
  "kernelspec": {
   "display_name": "Python 3",
   "language": "python",
   "name": "python3"
  },
  "language_info": {
   "codemirror_mode": {
    "name": "ipython",
    "version": 3
   },
   "file_extension": ".py",
   "mimetype": "text/x-python",
   "name": "python",
   "nbconvert_exporter": "python",
   "pygments_lexer": "ipython3",
   "version": "3.7.3"
  }
 },
 "nbformat": 4,
 "nbformat_minor": 2
}
