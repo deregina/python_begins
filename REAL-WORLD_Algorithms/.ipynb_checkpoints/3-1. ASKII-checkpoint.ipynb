{
 "cells": [
  {
   "cell_type": "code",
   "execution_count": 52,
   "metadata": {},
   "outputs": [],
   "source": [
    "def askii(word):\n",
    "    word_list = list(word)\n",
    "    code_list = []\n",
    "    for letter in word_list:\n",
    "        askii_code = ord(letter)\n",
    "        first_angle = (askii_code // 16) * 20\n",
    "        code_list.append(first_angle)        \n",
    "        second_angle = (askii_code % 16) * 20\n",
    "        code_list.append(second_angle)\n",
    "        \n",
    "    return code_list"
   ]
  },
  {
   "cell_type": "code",
   "execution_count": 78,
   "metadata": {},
   "outputs": [
    {
     "name": "stdout",
     "output_type": "stream",
     "text": [
      "[80, 180, 40, 0, 120, 20, 120, 260, 40, 0, 140, 60, 120, 100, 120, 20, 140, 80, 120, 100, 120, 80, 40, 0, 120, 180, 120, 280, 40, 0, 120, 20, 120, 280, 40, 0, 120, 300, 120, 120, 120, 120, 120, 180, 120, 60, 120, 100]\n"
     ]
    }
   ],
   "source": [
    "code = askii(\"I am seated in an office\")\n",
    "print(code)"
   ]
  },
  {
   "cell_type": "code",
   "execution_count": null,
   "metadata": {},
   "outputs": [],
   "source": []
  },
  {
   "cell_type": "code",
   "execution_count": 79,
   "metadata": {},
   "outputs": [],
   "source": [
    "def solve(code):\n",
    "    for i in range(int(len(code)/2)):\n",
    "        askii_code = int(code[i*2] / 20 * 16 + code[i*2+1] / 20)\n",
    "        alphabet = chr(askii_code)\n",
    "        print(alphabet, end = \"\")"
   ]
  },
  {
   "cell_type": "code",
   "execution_count": 80,
   "metadata": {},
   "outputs": [
    {
     "name": "stdout",
     "output_type": "stream",
     "text": [
      "I am seated in an office"
     ]
    }
   ],
   "source": [
    "solve(code)"
   ]
  },
  {
   "cell_type": "code",
   "execution_count": null,
   "metadata": {},
   "outputs": [],
   "source": []
  }
 ],
 "metadata": {
  "kernelspec": {
   "display_name": "Python 3",
   "language": "python",
   "name": "python3"
  },
  "language_info": {
   "codemirror_mode": {
    "name": "ipython",
    "version": 3
   },
   "file_extension": ".py",
   "mimetype": "text/x-python",
   "name": "python",
   "nbconvert_exporter": "python",
   "pygments_lexer": "ipython3",
   "version": "3.7.3"
  }
 },
 "nbformat": 4,
 "nbformat_minor": 2
}
