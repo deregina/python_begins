{
 "cells": [
  {
   "cell_type": "code",
   "execution_count": 31,
   "metadata": {},
   "outputs": [
    {
     "name": "stdout",
     "output_type": "stream",
     "text": [
      "[(([][]]))]}\n"
     ]
    }
   ],
   "source": [
    "test = input()\n",
    "stack = []\n",
    "parenthesis = ['(', '[', '{', ')', ']', '}']"
   ]
  },
  {
   "cell_type": "code",
   "execution_count": 33,
   "metadata": {},
   "outputs": [
    {
     "name": "stdout",
     "output_type": "stream",
     "text": [
      "False\n"
     ]
    }
   ],
   "source": [
    "for i in range(len(test)):\n",
    "    if test[i] not in parenthesis:\n",
    "        continue\n",
    "    elif test[i] in parenthesis[:3]:\n",
    "        stack.append(test[i])\n",
    "    else:\n",
    "        if test[i] == ')':\n",
    "            if stack[-1] == '(':\n",
    "                stack.pop()\n",
    "            else:\n",
    "                break\n",
    "        elif test[i] == ']':\n",
    "            if stack[-1] == '[':\n",
    "                stack.pop()\n",
    "            else:\n",
    "                break\n",
    "        elif test[i] == '}':\n",
    "            if stack[-1] == '{':\n",
    "                stack.pop()\n",
    "            else:\n",
    "                break\n",
    "\n",
    "                \n",
    "if stack == []:\n",
    "    print(\"True\")\n",
    "else:\n",
    "    print(\"False\")"
   ]
  },
  {
   "cell_type": "code",
   "execution_count": null,
   "metadata": {},
   "outputs": [],
   "source": []
  },
  {
   "cell_type": "code",
   "execution_count": null,
   "metadata": {},
   "outputs": [],
   "source": []
  }
 ],
 "metadata": {
  "kernelspec": {
   "display_name": "Python 3",
   "language": "python",
   "name": "python3"
  },
  "language_info": {
   "codemirror_mode": {
    "name": "ipython",
    "version": 3
   },
   "file_extension": ".py",
   "mimetype": "text/x-python",
   "name": "python",
   "nbconvert_exporter": "python",
   "pygments_lexer": "ipython3",
   "version": "3.7.3"
  }
 },
 "nbformat": 4,
 "nbformat_minor": 2
}
