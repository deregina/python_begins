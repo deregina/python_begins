{
 "cells": [
  {
   "cell_type": "code",
   "execution_count": 57,
   "metadata": {},
   "outputs": [],
   "source": [
    "import time\n",
    "import random"
   ]
  },
  {
   "cell_type": "code",
   "execution_count": 6,
   "metadata": {},
   "outputs": [],
   "source": [
    "def SimpleStockSpan(quotes):\n",
    "    spans = []\n",
    "    for i in range(len(quotes)):\n",
    "        k = 1\n",
    "        span_end = False\n",
    "        while i-k >= 0 and span_end == False:\n",
    "            if quotes[i-k] <= quotes[i]:\n",
    "                k += 1\n",
    "            else:\n",
    "                span_end = True\n",
    "        spans.append(k)\n",
    "    return spans"
   ]
  },
  {
   "cell_type": "code",
   "execution_count": 45,
   "metadata": {},
   "outputs": [],
   "source": [
    "def StackStockSpan(quotes):\n",
    "    spans = []\n",
    "    stack = []\n",
    "    stack.append(0)\n",
    "    spans.append(1)\n",
    "    for i in range(1, len(quotes)):\n",
    "        while stack != [] and quotes[stack[-1]] <= quotes[i]:\n",
    "            stack.pop()\n",
    "        if stack == []:\n",
    "            spans.append(i+1)\n",
    "        else:\n",
    "            spans.append(i-stack[-1])\n",
    "        stack.append(i)\n",
    "    return spans"
   ]
  },
  {
   "cell_type": "code",
   "execution_count": 83,
   "metadata": {},
   "outputs": [],
   "source": [
    "quotes = []\n",
    "\n",
    "for r in range(100000):\n",
    "    r = random.randint(1, 10000)\n",
    "    quotes.append(r)"
   ]
  },
  {
   "cell_type": "code",
   "execution_count": 84,
   "metadata": {},
   "outputs": [
    {
     "name": "stdout",
     "output_type": "stream",
     "text": [
      "0.44700002670288086\n"
     ]
    }
   ],
   "source": [
    "nowtime = time.time()\n",
    "SimpleStockSpan(quotes)\n",
    "endtime = time.time()\n",
    "\n",
    "print(endtime - nowtime)"
   ]
  },
  {
   "cell_type": "code",
   "execution_count": 85,
   "metadata": {},
   "outputs": [
    {
     "name": "stdout",
     "output_type": "stream",
     "text": [
      "0.08099985122680664\n"
     ]
    }
   ],
   "source": [
    "nowtime = time.time()\n",
    "StackStockSpan(quotes)\n",
    "endtime = time.time()\n",
    "\n",
    "print(endtime - nowtime)"
   ]
  },
  {
   "cell_type": "code",
   "execution_count": null,
   "metadata": {},
   "outputs": [],
   "source": []
  },
  {
   "cell_type": "code",
   "execution_count": null,
   "metadata": {},
   "outputs": [],
   "source": []
  },
  {
   "cell_type": "code",
   "execution_count": null,
   "metadata": {},
   "outputs": [],
   "source": []
  }
 ],
 "metadata": {
  "kernelspec": {
   "display_name": "Python 3",
   "language": "python",
   "name": "python3"
  },
  "language_info": {
   "codemirror_mode": {
    "name": "ipython",
    "version": 3
   },
   "file_extension": ".py",
   "mimetype": "text/x-python",
   "name": "python",
   "nbconvert_exporter": "python",
   "pygments_lexer": "ipython3",
   "version": "3.7.3"
  }
 },
 "nbformat": 4,
 "nbformat_minor": 2
}
