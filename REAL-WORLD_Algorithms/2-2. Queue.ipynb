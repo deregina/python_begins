{
 "cells": [
  {
   "cell_type": "code",
   "execution_count": 52,
   "metadata": {},
   "outputs": [],
   "source": [
    "class Queue:\n",
    "    def __init__(self):\n",
    "        self.q = {}\n",
    "        self.i = 0\n",
    "        \n",
    "    def enqueue(self, elem):\n",
    "        self.q[self.i] = elem\n",
    "        if self.i < 9:\n",
    "            self.i += 1\n",
    "        else:\n",
    "            self.i = 0\n",
    "            \n",
    "    def dequeue(self):\n",
    "        key = list(self.q.keys())\n",
    "        del self.q[key[0]]\n",
    "        \n",
    "    def show(self):\n",
    "        return self.q"
   ]
  },
  {
   "cell_type": "code",
   "execution_count": 58,
   "metadata": {},
   "outputs": [],
   "source": [
    "test = Queue()"
   ]
  },
  {
   "cell_type": "code",
   "execution_count": 54,
   "metadata": {},
   "outputs": [],
   "source": [
    "numbers = [5, 8, 4, 9, 7, 3, 2, 6, 10, 8, 0, 1, 2]"
   ]
  },
  {
   "cell_type": "code",
   "execution_count": 59,
   "metadata": {},
   "outputs": [
    {
     "name": "stdout",
     "output_type": "stream",
     "text": [
      "{0: 0}\n",
      "{0: 0, 1: 1}\n",
      "{0: 0, 1: 1, 2: 2}\n",
      "{0: 0, 1: 1, 2: 2, 3: 3}\n",
      "{0: 0, 1: 1, 2: 2, 3: 3, 4: 4}\n",
      "{1: 1, 2: 2, 3: 3, 4: 4}\n",
      "{2: 2, 3: 3, 4: 4}\n",
      "{3: 3, 4: 4}\n",
      "{3: 3, 4: 4, 5: 5}\n",
      "{3: 3, 4: 4, 5: 5, 6: 6}\n",
      "{3: 3, 4: 4, 5: 5, 6: 6, 7: 7}\n"
     ]
    }
   ],
   "source": [
    "for n in range(5):\n",
    "    test.enqueue(n)\n",
    "    print(test.show())\n",
    "    \n",
    "for n in range(3):\n",
    "    test.dequeue()\n",
    "    print(test.show())\n",
    "    \n",
    "for n in range(3):\n",
    "    test.enqueue(n+5)\n",
    "    print(test.show())"
   ]
  },
  {
   "cell_type": "code",
   "execution_count": null,
   "metadata": {},
   "outputs": [],
   "source": []
  }
 ],
 "metadata": {
  "kernelspec": {
   "display_name": "Python 3",
   "language": "python",
   "name": "python3"
  },
  "language_info": {
   "codemirror_mode": {
    "name": "ipython",
    "version": 3
   },
   "file_extension": ".py",
   "mimetype": "text/x-python",
   "name": "python",
   "nbconvert_exporter": "python",
   "pygments_lexer": "ipython3",
   "version": "3.7.3"
  }
 },
 "nbformat": 4,
 "nbformat_minor": 2
}
