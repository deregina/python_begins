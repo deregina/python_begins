{
 "cells": [
  {
   "cell_type": "code",
   "execution_count": 223,
   "metadata": {},
   "outputs": [],
   "source": [
    "visited = []\n",
    "stack = []"
   ]
  },
  {
   "cell_type": "code",
   "execution_count": 224,
   "metadata": {},
   "outputs": [],
   "source": [
    "V = [0, 1, 2, 3, 4, 5, 6, 7, 8, 9, 10]\n",
    "E = [(0, 1), (0, 3), (1, 2), (3, 4), (4, 2), (4, 5), (6, 3), (6, 7), (8, 6), (8, 9), (9, 9), (9, 7)]"
   ]
  },
  {
   "cell_type": "code",
   "execution_count": 225,
   "metadata": {},
   "outputs": [],
   "source": [
    "E_dict = {}\n",
    "\n",
    "for i in range(len(V)):\n",
    "    E_dict[i] = []"
   ]
  },
  {
   "cell_type": "code",
   "execution_count": 226,
   "metadata": {},
   "outputs": [],
   "source": [
    "for j in range(len(E)):\n",
    "    a = E[j][0]\n",
    "    b = E[j][1]\n",
    "    E_dict[a].append(b)"
   ]
  },
  {
   "cell_type": "code",
   "execution_count": 227,
   "metadata": {},
   "outputs": [
    {
     "data": {
      "text/plain": [
       "{0: [1, 3],\n",
       " 1: [2],\n",
       " 2: [],\n",
       " 3: [4],\n",
       " 4: [2, 5],\n",
       " 5: [],\n",
       " 6: [3, 7],\n",
       " 7: [],\n",
       " 8: [6, 9],\n",
       " 9: [9, 7],\n",
       " 10: []}"
      ]
     },
     "execution_count": 227,
     "metadata": {},
     "output_type": "execute_result"
    }
   ],
   "source": [
    "E_dict"
   ]
  },
  {
   "cell_type": "code",
   "execution_count": 228,
   "metadata": {},
   "outputs": [],
   "source": [
    "sort = []"
   ]
  },
  {
   "cell_type": "code",
   "execution_count": 229,
   "metadata": {},
   "outputs": [],
   "source": [
    "def DFSTopologicalSort_CircleCheck(E_dict, node):\n",
    "    stack.append(node)\n",
    "    visited.append(node)\n",
    "    for k in E_dict[node]:\n",
    "        if k in stack:\n",
    "            print(\"Circle Graph\")\n",
    "        elif k not in visited:\n",
    "            DFSTopologicalSort_CircleCheck(E_dict, k)\n",
    "    sort.insert(0, node)\n",
    "    stack.pop(-1)\n",
    "    "
   ]
  },
  {
   "cell_type": "code",
   "execution_count": 230,
   "metadata": {},
   "outputs": [
    {
     "name": "stdout",
     "output_type": "stream",
     "text": [
      "Circle Graph\n"
     ]
    }
   ],
   "source": [
    "for l in V:\n",
    "    if l not in visited:\n",
    "        DFSTopologicalSort_CircleCheck(E_dict, l)"
   ]
  },
  {
   "cell_type": "code",
   "execution_count": 231,
   "metadata": {},
   "outputs": [
    {
     "data": {
      "text/plain": [
       "[]"
      ]
     },
     "execution_count": 231,
     "metadata": {},
     "output_type": "execute_result"
    }
   ],
   "source": [
    "stack"
   ]
  },
  {
   "cell_type": "code",
   "execution_count": 232,
   "metadata": {},
   "outputs": [
    {
     "data": {
      "text/plain": [
       "[10, 8, 9, 6, 7, 0, 3, 4, 5, 1, 2]"
      ]
     },
     "execution_count": 232,
     "metadata": {},
     "output_type": "execute_result"
    }
   ],
   "source": [
    "sort"
   ]
  },
  {
   "cell_type": "code",
   "execution_count": 239,
   "metadata": {},
   "outputs": [],
   "source": [
    "def DFSTopologicalSort(E_dict, node):\n",
    "    visited.append(node)\n",
    "    for k in E_dict[node]:\n",
    "        if k not in visited:\n",
    "            DFSTopologicalSort(E_dict, k)\n",
    "    sort.insert(0, node)\n"
   ]
  },
  {
   "cell_type": "code",
   "execution_count": 240,
   "metadata": {},
   "outputs": [],
   "source": [
    "for l in V:\n",
    "    if l not in visited:\n",
    "        DFSTopologicalSort(E_dict, l)"
   ]
  },
  {
   "cell_type": "code",
   "execution_count": 241,
   "metadata": {},
   "outputs": [
    {
     "data": {
      "text/plain": [
       "[10, 8, 9, 6, 7, 0, 3, 4, 5, 1, 2]"
      ]
     },
     "execution_count": 241,
     "metadata": {},
     "output_type": "execute_result"
    }
   ],
   "source": [
    "sort"
   ]
  },
  {
   "cell_type": "code",
   "execution_count": 237,
   "metadata": {},
   "outputs": [],
   "source": []
  },
  {
   "cell_type": "code",
   "execution_count": null,
   "metadata": {},
   "outputs": [],
   "source": []
  }
 ],
 "metadata": {
  "kernelspec": {
   "display_name": "Python 3",
   "language": "python",
   "name": "python3"
  },
  "language_info": {
   "codemirror_mode": {
    "name": "ipython",
    "version": 3
   },
   "file_extension": ".py",
   "mimetype": "text/x-python",
   "name": "python",
   "nbconvert_exporter": "python",
   "pygments_lexer": "ipython3",
   "version": "3.7.3"
  }
 },
 "nbformat": 4,
 "nbformat_minor": 2
}
