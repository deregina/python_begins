{
 "cells": [
  {
   "cell_type": "code",
   "execution_count": null,
   "metadata": {},
   "outputs": [],
   "source": [
    "# 위 두 원판을 A > B\n",
    "1 3\n",
    "1 2\n",
    "3 2\n",
    "=> 1 3\n",
    "\n",
    "# A > C\n",
    "1 2\n",
    "1 3\n",
    "2 3\n",
    "=> 1 2\n",
    "\n",
    "# B > C\n",
    "2 1\n",
    "2 3\n",
    "1 3\n",
    "=> 2 1"
   ]
  },
  {
   "cell_type": "code",
   "execution_count": null,
   "metadata": {},
   "outputs": [],
   "source": [
    "def Hanoi(n) :\n",
    "    if n < 1 :\n",
    "        return\n",
    "    \n",
    "    return Hanoi(n-1)"
   ]
  }
 ],
 "metadata": {
  "kernelspec": {
   "display_name": "Python 3",
   "language": "python",
   "name": "python3"
  },
  "language_info": {
   "codemirror_mode": {
    "name": "ipython",
    "version": 3
   },
   "file_extension": ".py",
   "mimetype": "text/x-python",
   "name": "python",
   "nbconvert_exporter": "python",
   "pygments_lexer": "ipython3",
   "version": "3.7.3"
  }
 },
 "nbformat": 4,
 "nbformat_minor": 2
}
