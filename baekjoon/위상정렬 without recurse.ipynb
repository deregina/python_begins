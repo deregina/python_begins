{
 "cells": [
  {
   "cell_type": "code",
   "execution_count": null,
   "metadata": {},
   "outputs": [],
   "source": [
    "import sys\n",
    "\n",
    "check = []\n",
    "\n",
    "for line in sys.stdin:\n",
    "    check.append(tuple(map(int, line.strip().split())))\n",
    "    \n",
    "(vertex, line) = check[0]\n",
    "check = check[1:]\n",
    "\n",
    "visited = []\n",
    "sorted = []\n",
    "\n",
    "def DFS(check, student):\n",
    "    visited.append(student)\n",
    "    i = 0\n",
    "    for i in range(line):\n",
    "        if check[i][0] == student:\n",
    "            if check[i][1] not in visited:\n",
    "                DFS(check, check[i][1])\n",
    "                break\n",
    "\n",
    "    sorted.insert(0, student)\n",
    "    \n",
    "for j in range(1, vertex+1):\n",
    "    if j not in visited:\n",
    "        DFS(check, j)\n",
    "        \n",
    "for k in range(len(sorted)):\n",
    "    print(sorted[k], end = \" \")"
   ]
  },
  {
   "cell_type": "code",
   "execution_count": null,
   "metadata": {},
   "outputs": [],
   "source": []
  },
  {
   "cell_type": "code",
   "execution_count": 265,
   "metadata": {},
   "outputs": [],
   "source": [
    "vertex = 11"
   ]
  },
  {
   "cell_type": "code",
   "execution_count": 266,
   "metadata": {},
   "outputs": [],
   "source": [
    "line = 12"
   ]
  },
  {
   "cell_type": "code",
   "execution_count": 267,
   "metadata": {},
   "outputs": [],
   "source": [
    "check = [(1, 2), (2, 3), (3, 4), (3, 8), (5, 6), (5, 9), (6, 7), (7, 3), (7, 8), (7, 11), (9, 10), (10, 11)]"
   ]
  },
  {
   "cell_type": "code",
   "execution_count": 268,
   "metadata": {},
   "outputs": [],
   "source": [
    "check_dict = {}"
   ]
  },
  {
   "cell_type": "code",
   "execution_count": 269,
   "metadata": {},
   "outputs": [],
   "source": [
    "for i in range(1, vertex+1):\n",
    "    linked = []\n",
    "    for j in range(len(check)):\n",
    "        if check[j][0] == i:\n",
    "            linked.append(check[j][1])\n",
    "    check_dict[i] = linked"
   ]
  },
  {
   "cell_type": "code",
   "execution_count": 270,
   "metadata": {},
   "outputs": [
    {
     "data": {
      "text/plain": [
       "{1: [2],\n",
       " 2: [3],\n",
       " 3: [4, 8],\n",
       " 4: [],\n",
       " 5: [6, 9],\n",
       " 6: [7],\n",
       " 7: [3, 8, 11],\n",
       " 8: [],\n",
       " 9: [10],\n",
       " 10: [11],\n",
       " 11: []}"
      ]
     },
     "execution_count": 270,
     "metadata": {},
     "output_type": "execute_result"
    }
   ],
   "source": [
    "check_dict"
   ]
  },
  {
   "cell_type": "code",
   "execution_count": 261,
   "metadata": {},
   "outputs": [],
   "source": [
    "stack = [1]\n",
    "sorted = []\n",
    "visited = []"
   ]
  },
  {
   "cell_type": "code",
   "execution_count": 262,
   "metadata": {},
   "outputs": [],
   "source": [
    "while len(sorted) < vertex:\n",
    "    if len(stack) > 0:\n",
    "        student = stack[-1]\n",
    "        visited.append(student)\n",
    "                \n",
    "    else:\n",
    "        for l in range(1, vertex+1):\n",
    "            if l not in visited:\n",
    "                stack.append(l)\n",
    "                break\n",
    "                \n",
    "        student = stack[-1]\n",
    "        visited.append(student)\n",
    "\n",
    "    if len(check_dict[student]) != 0:\n",
    "        for k in range(len(check_dict[student])):\n",
    "            item = check_dict[student].pop(-1)\n",
    "            if item not in visited:\n",
    "                stack.append(item)\n",
    "\n",
    "    else:\n",
    "        stack.remove(student)\n",
    "        sorted.insert(0, student)"
   ]
  },
  {
   "cell_type": "code",
   "execution_count": 263,
   "metadata": {},
   "outputs": [
    {
     "data": {
      "text/plain": [
       "[5, 9, 10, 6, 7, 11, 1, 2, 3, 8, 4]"
      ]
     },
     "execution_count": 263,
     "metadata": {},
     "output_type": "execute_result"
    }
   ],
   "source": [
    "sorted"
   ]
  },
  {
   "cell_type": "code",
   "execution_count": 258,
   "metadata": {},
   "outputs": [
    {
     "name": "stdout",
     "output_type": "stream",
     "text": [
      "5 9 10 6 7 11 1 2 3 8 4 "
     ]
    }
   ],
   "source": [
    "for k in range(len(sorted)):\n",
    "    print(sorted[k], end = \" \")"
   ]
  },
  {
   "cell_type": "code",
   "execution_count": 252,
   "metadata": {},
   "outputs": [
    {
     "data": {
      "text/plain": [
       "{1: [], 2: [], 3: [], 4: [], 5: [], 6: [], 7: [], 8: [], 9: [], 10: [], 11: []}"
      ]
     },
     "execution_count": 252,
     "metadata": {},
     "output_type": "execute_result"
    }
   ],
   "source": [
    "check_dict"
   ]
  },
  {
   "cell_type": "code",
   "execution_count": null,
   "metadata": {},
   "outputs": [],
   "source": []
  },
  {
   "cell_type": "code",
   "execution_count": null,
   "metadata": {},
   "outputs": [],
   "source": []
  }
 ],
 "metadata": {
  "kernelspec": {
   "display_name": "Python 3",
   "language": "python",
   "name": "python3"
  },
  "language_info": {
   "codemirror_mode": {
    "name": "ipython",
    "version": 3
   },
   "file_extension": ".py",
   "mimetype": "text/x-python",
   "name": "python",
   "nbconvert_exporter": "python",
   "pygments_lexer": "ipython3",
   "version": "3.7.3"
  }
 },
 "nbformat": 4,
 "nbformat_minor": 2
}
