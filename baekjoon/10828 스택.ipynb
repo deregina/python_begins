{
 "cells": [
  {
   "cell_type": "markdown",
   "metadata": {},
   "source": [
    "•push X: 정수 X를 스택에 넣는 연산이다.  \n",
    "•pop: 스택에서 가장 위에 있는 정수를 빼고, 그 수를 출력한다. 만약 스택에 들어있는 정수가 없는 경우에는 -1을 출력한다.  \n",
    "•size: 스택에 들어있는 정수의 개수를 출력한다.  \n",
    "•empty: 스택이 비어있으면 1, 아니면 0을 출력한다.  \n",
    "•top: 스택의 가장 위에 있는 정수를 출력한다. 만약 스택에 들어있는 정수가 없는 경우에는 -1을 출력한다."
   ]
  },
  {
   "cell_type": "markdown",
   "metadata": {},
   "source": [
    "## input 1\n",
    "14  \n",
    "push 1  \n",
    "push 2  \n",
    "top  \n",
    "size  \n",
    "empty  \n",
    "pop  \n",
    "pop  \n",
    "pop  \n",
    "size  \n",
    "empty  \n",
    "pop  \n",
    "push 3  \n",
    "empty  \n",
    "top  "
   ]
  },
  {
   "cell_type": "markdown",
   "metadata": {},
   "source": [
    "# 런타임 에러"
   ]
  },
  {
   "cell_type": "markdown",
   "metadata": {},
   "source": [
    "order = input().split(sep='\\n')"
   ]
  },
  {
   "cell_type": "code",
   "execution_count": 80,
   "metadata": {},
   "outputs": [],
   "source": [
    "order = ['14', 'push 1', 'push 2', 'top', 'size', 'empty', 'pop', 'pop', 'pop', 'size', 'empty', 'pop',\n",
    "         'push 3', 'empty', 'top']"
   ]
  },
  {
   "cell_type": "code",
   "execution_count": 81,
   "metadata": {},
   "outputs": [],
   "source": [
    "class Stack:\n",
    "    Stack_list = []\n",
    "    def __init__(self):\n",
    "        Stack_list = self.Stack_list\n",
    "    \n",
    "    def push(self, integer):\n",
    "        self.Stack_list.append(integer)\n",
    "        return None\n",
    "    \n",
    "    def pop(self):\n",
    "        if len(self.Stack_list) == 0:\n",
    "            print('-1')\n",
    "        else:\n",
    "            print(self.Stack_list.pop())\n",
    "        \n",
    "    def size(self):\n",
    "        print(len(self.Stack_list))\n",
    "    \n",
    "    def view(self):\n",
    "        print(self.Stack_list)\n",
    "        \n",
    "    def empty(self):\n",
    "        if len(self.Stack_list) == 0:\n",
    "            print('1')\n",
    "        else:\n",
    "            print('0')\n",
    "            \n",
    "    def top(self):\n",
    "        if len(self.Stack_list) == 0:\n",
    "            print('-1')\n",
    "        else:\n",
    "            print(self.Stack_list[-1])\n",
    "        \n",
    "    def __del__(self):\n",
    "        pass\n",
    "    "
   ]
  },
  {
   "cell_type": "code",
   "execution_count": 82,
   "metadata": {},
   "outputs": [],
   "source": [
    "new_stack = Stack()"
   ]
  },
  {
   "cell_type": "code",
   "execution_count": 83,
   "metadata": {},
   "outputs": [
    {
     "name": "stdout",
     "output_type": "stream",
     "text": [
      "2\n",
      "2\n",
      "0\n",
      "2\n",
      "1\n",
      "-1\n",
      "0\n",
      "1\n",
      "-1\n",
      "0\n",
      "3\n"
     ]
    }
   ],
   "source": [
    "for i in range(int(order[0])):\n",
    "    temp_list = order[i+1].split()\n",
    "    if len(temp_list) == 1:\n",
    "        order_str = 'new_stack.' + temp_list[0] + '()'\n",
    "    else:\n",
    "        order_str = 'new_stack.' + temp_list[0] + '(' + temp_list[1] + ')'\n",
    "    eval(order_str)"
   ]
  },
  {
   "cell_type": "code",
   "execution_count": null,
   "metadata": {},
   "outputs": [],
   "source": []
  }
 ],
 "metadata": {
  "kernelspec": {
   "display_name": "Python 3",
   "language": "python",
   "name": "python3"
  },
  "language_info": {
   "codemirror_mode": {
    "name": "ipython",
    "version": 3
   },
   "file_extension": ".py",
   "mimetype": "text/x-python",
   "name": "python",
   "nbconvert_exporter": "python",
   "pygments_lexer": "ipython3",
   "version": "3.7.3"
  }
 },
 "nbformat": 4,
 "nbformat_minor": 2
}
