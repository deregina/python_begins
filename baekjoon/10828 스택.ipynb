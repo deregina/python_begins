{
 "cells": [
  {
   "cell_type": "markdown",
   "metadata": {},
   "source": [
    "•push X: 정수 X를 스택에 넣는 연산이다.  \n",
    "•pop: 스택에서 가장 위에 있는 정수를 빼고, 그 수를 출력한다. 만약 스택에 들어있는 정수가 없는 경우에는 -1을 출력한다.  \n",
    "•size: 스택에 들어있는 정수의 개수를 출력한다.  \n",
    "•empty: 스택이 비어있으면 1, 아니면 0을 출력한다.  \n",
    "•top: 스택의 가장 위에 있는 정수를 출력한다. 만약 스택에 들어있는 정수가 없는 경우에는 -1을 출력한다."
   ]
  },
  {
   "cell_type": "markdown",
   "metadata": {},
   "source": [
    "## input 1\n",
    "14  \n",
    "push 1  \n",
    "push 2  \n",
    "top  \n",
    "size  \n",
    "empty  \n",
    "pop  \n",
    "pop  \n",
    "pop  \n",
    "size  \n",
    "empty  \n",
    "pop  \n",
    "push 3  \n",
    "empty  \n",
    "top  "
   ]
  },
  {
   "cell_type": "markdown",
   "metadata": {},
   "source": [
    "# 런타임 에러"
   ]
  },
  {
   "cell_type": "markdown",
   "metadata": {},
   "source": [
    "order = input().split(sep='\\n')"
   ]
  },
  {
   "cell_type": "code",
   "execution_count": 10,
   "metadata": {},
   "outputs": [
    {
     "name": "stdout",
     "output_type": "stream",
     "text": [
      "7\n"
     ]
    }
   ],
   "source": [
    "order_num = int(input())"
   ]
  },
  {
   "cell_type": "code",
   "execution_count": 11,
   "metadata": {},
   "outputs": [
    {
     "name": "stdout",
     "output_type": "stream",
     "text": [
      "pop\n",
      "top\n",
      "push 123\n",
      "top\n",
      "pop\n",
      "top\n",
      "pop\n"
     ]
    }
   ],
   "source": [
    "order_list = []\n",
    "for i in range(order_num):\n",
    "    order_list.append(input())"
   ]
  },
  {
   "cell_type": "markdown",
   "metadata": {},
   "source": [
    "order = ['14', 'push 1', 'push 2', 'top', 'size', 'empty', 'pop', 'pop', 'pop', 'size', 'empty', 'pop',\n",
    "         'push 3', 'empty', 'top']"
   ]
  },
  {
   "cell_type": "code",
   "execution_count": 22,
   "metadata": {},
   "outputs": [],
   "source": [
    "class Stack:\n",
    "    def __init__(self):\n",
    "        self.Stack_list = []\n",
    "    \n",
    "    def push(self, integer):\n",
    "        self.Stack_list.append(integer)\n",
    "        return None\n",
    "    \n",
    "    def pop(self):\n",
    "        if len(self.Stack_list) == 0:\n",
    "            print('-1')\n",
    "        else:\n",
    "            print(self.Stack_list.pop())\n",
    "        \n",
    "    def size(self):\n",
    "        print(len(self.Stack_list))\n",
    "    \n",
    "    def view(self):\n",
    "        print(self.Stack_list)\n",
    "        \n",
    "    def empty(self):\n",
    "        if len(self.Stack_list) == 0:\n",
    "            print('1')\n",
    "        else:\n",
    "            print('0')\n",
    "            \n",
    "    def top(self):\n",
    "        if len(self.Stack_list) == 0:\n",
    "            print('-1')\n",
    "        else:\n",
    "            print(self.Stack_list[-1])\n",
    "        \n",
    "    def __del__(self):\n",
    "        pass\n",
    "    "
   ]
  },
  {
   "cell_type": "code",
   "execution_count": 23,
   "metadata": {},
   "outputs": [],
   "source": [
    "new_stack = Stack()"
   ]
  },
  {
   "cell_type": "code",
   "execution_count": 26,
   "metadata": {},
   "outputs": [],
   "source": [
    "del new_stack"
   ]
  },
  {
   "cell_type": "code",
   "execution_count": 24,
   "metadata": {},
   "outputs": [
    {
     "name": "stdout",
     "output_type": "stream",
     "text": [
      "-1\n",
      "-1\n",
      "123\n",
      "123\n",
      "-1\n",
      "-1\n"
     ]
    }
   ],
   "source": [
    "for i in range(order_num):\n",
    "    temp_list = order_list[i].split()\n",
    "    if len(temp_list) == 1:\n",
    "        order_str = 'new_stack.' + temp_list[0] + '()'\n",
    "    else:\n",
    "        order_str = 'new_stack.' + temp_list[0] + '(' + temp_list[1] + ')'\n",
    "    eval(order_str)"
   ]
  },
  {
   "cell_type": "code",
   "execution_count": null,
   "metadata": {},
   "outputs": [],
   "source": []
  }
 ],
 "metadata": {
  "kernelspec": {
   "display_name": "Python 3",
   "language": "python",
   "name": "python3"
  },
  "language_info": {
   "codemirror_mode": {
    "name": "ipython",
    "version": 3
   },
   "file_extension": ".py",
   "mimetype": "text/x-python",
   "name": "python",
   "nbconvert_exporter": "python",
   "pygments_lexer": "ipython3",
   "version": "3.7.3"
  }
 },
 "nbformat": 4,
 "nbformat_minor": 2
}
