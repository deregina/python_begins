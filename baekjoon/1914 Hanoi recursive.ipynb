{
 "cells": [
  {
   "cell_type": "code",
   "execution_count": 22,
   "metadata": {},
   "outputs": [
    {
     "name": "stdout",
     "output_type": "stream",
     "text": [
      "3\n"
     ]
    }
   ],
   "source": [
    "num = int(input())"
   ]
  },
  {
   "cell_type": "code",
   "execution_count": 9,
   "metadata": {},
   "outputs": [],
   "source": [
    "def hanoi(num):\n",
    "    if num == 0:\n",
    "        return 0\n",
    "    elif num == 1:\n",
    "        return 1\n",
    "    elif num >= 2 :\n",
    "        \n",
    "        return hanoi(num-1)*2 + 1"
   ]
  },
  {
   "cell_type": "code",
   "execution_count": 13,
   "metadata": {},
   "outputs": [
    {
     "name": "stdout",
     "output_type": "stream",
     "text": [
      "hanoi(0) = 0\n",
      "hanoi(1) = 1\n",
      "hanoi(2) = 3\n",
      "hanoi(3) = 7\n",
      "hanoi(4) = 15\n",
      "hanoi(5) = 31\n",
      "hanoi(6) = 63\n",
      "hanoi(7) = 127\n",
      "hanoi(8) = 255\n",
      "hanoi(9) = 511\n",
      "hanoi(10) = 1023\n"
     ]
    }
   ],
   "source": [
    "for i in range(11):\n",
    "    print(\"hanoi({}) = {}\".format(i, hanoi(i)))"
   ]
  },
  {
   "cell_type": "code",
   "execution_count": 23,
   "metadata": {},
   "outputs": [
    {
     "name": "stdout",
     "output_type": "stream",
     "text": [
      "7\n"
     ]
    }
   ],
   "source": [
    "print(2**num - 1)"
   ]
  },
  {
   "cell_type": "code",
   "execution_count": 29,
   "metadata": {},
   "outputs": [],
   "source": [
    "def hanoi2(num, start, end, temp):\n",
    "    if num == 1:\n",
    "        print(start, end)\n",
    "    elif num >= 2 :\n",
    "        a = start\n",
    "        b = end\n",
    "        c = temp\n",
    "        hanoi2(num-1, start=a, end=c, temp=b)\n",
    "        hanoi2(1, start=a, end=b, temp=c)\n",
    "        hanoi2(num-1, start=c, end=b, temp=a)"
   ]
  },
  {
   "cell_type": "code",
   "execution_count": 30,
   "metadata": {},
   "outputs": [
    {
     "name": "stdout",
     "output_type": "stream",
     "text": [
      "1 3\n",
      "1 2\n",
      "3 2\n",
      "1 3\n",
      "2 1\n",
      "2 3\n",
      "1 3\n"
     ]
    }
   ],
   "source": [
    "if num <= 20:\n",
    "    hanoi2(num, start=1, end=3, temp=2)"
   ]
  },
  {
   "cell_type": "code",
   "execution_count": null,
   "metadata": {},
   "outputs": [],
   "source": []
  }
 ],
 "metadata": {
  "kernelspec": {
   "display_name": "Python 3",
   "language": "python",
   "name": "python3"
  },
  "language_info": {
   "codemirror_mode": {
    "name": "ipython",
    "version": 3
   },
   "file_extension": ".py",
   "mimetype": "text/x-python",
   "name": "python",
   "nbconvert_exporter": "python",
   "pygments_lexer": "ipython3",
   "version": "3.7.3"
  }
 },
 "nbformat": 4,
 "nbformat_minor": 2
}
