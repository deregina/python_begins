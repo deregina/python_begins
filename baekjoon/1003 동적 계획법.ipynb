{
 "cells": [
  {
   "cell_type": "code",
   "execution_count": 5,
   "metadata": {},
   "outputs": [],
   "source": [
    "fibo_list = []"
   ]
  },
  {
   "cell_type": "code",
   "execution_count": 6,
   "metadata": {},
   "outputs": [],
   "source": [
    "fibo_list.append(0)\n",
    "fibo_list.append(1)"
   ]
  },
  {
   "cell_type": "code",
   "execution_count": 8,
   "metadata": {},
   "outputs": [
    {
     "data": {
      "text/plain": [
       "[0, 1]"
      ]
     },
     "execution_count": 8,
     "metadata": {},
     "output_type": "execute_result"
    }
   ],
   "source": [
    "fibo_list"
   ]
  },
  {
   "cell_type": "code",
   "execution_count": 52,
   "metadata": {},
   "outputs": [
    {
     "name": "stdout",
     "output_type": "stream",
     "text": [
      "5\n"
     ]
    }
   ],
   "source": [
    "num = int(input())"
   ]
  },
  {
   "cell_type": "code",
   "execution_count": 62,
   "metadata": {},
   "outputs": [],
   "source": [
    "def fibonacci(num):\n",
    "    fibo_list = [0, 1]\n",
    "    fibo0 = 0\n",
    "    fibo1 = 1\n",
    "    if num == 0:\n",
    "        fibo0 += 1\n",
    "        return fibo_list[0]\n",
    "    elif num == 1:\n",
    "        fibo1 += 1\n",
    "        return fibo_list[1]\n",
    "    else:\n",
    "        if num < len(fibo_list):\n",
    "            return fibo_list[num]\n",
    "        elif num == len(fibo_list):\n",
    "            result_num = fibo_list[num-1] + fibo_list[num-2]\n",
    "            fibo_list.append(result_num)\n",
    "            return fibo_list[num]\n",
    "        else:\n",
    "            return fibonacci(num-1) + fibonacci(num-2)"
   ]
  },
  {
   "cell_type": "code",
   "execution_count": 63,
   "metadata": {},
   "outputs": [
    {
     "name": "stdout",
     "output_type": "stream",
     "text": [
      "0 1\n",
      "0 1\n",
      "0 1\n",
      "0 1\n",
      "0 1\n",
      "0 1\n",
      "0 1\n",
      "0 1\n",
      "0 1\n",
      "0 1\n",
      "0 1\n",
      "0 1\n",
      "0 1\n",
      "0 1\n",
      "0 1\n",
      "0 1\n",
      "0 1\n",
      "0 1\n",
      "0 1\n",
      "0 1\n",
      "0 1\n",
      "0 1\n",
      "0 1\n",
      "0 1\n",
      "0 1\n",
      "0 1\n",
      "0 1\n",
      "0 1\n",
      "0 1\n",
      "0 1\n",
      "0 1\n",
      "0 1\n",
      "0 1\n",
      "0 1\n",
      "0 1\n",
      "0 1\n",
      "0 1\n",
      "0 1\n",
      "0 1\n",
      "0 1\n",
      "0 1\n",
      "0 1\n",
      "0 1\n",
      "0 1\n",
      "0 1\n",
      "0 1\n",
      "0 1\n",
      "0 1\n",
      "0 1\n",
      "0 1\n",
      "0 1\n",
      "0 1\n",
      "0 1\n",
      "0 1\n"
     ]
    },
    {
     "data": {
      "text/plain": [
       "55"
      ]
     },
     "execution_count": 63,
     "metadata": {},
     "output_type": "execute_result"
    }
   ],
   "source": [
    "fibonacci(10)"
   ]
  },
  {
   "cell_type": "code",
   "execution_count": 57,
   "metadata": {},
   "outputs": [
    {
     "ename": "AttributeError",
     "evalue": "'function' object has no attribute 'fibo0'",
     "output_type": "error",
     "traceback": [
      "\u001b[1;31m---------------------------------------------------------------------------\u001b[0m",
      "\u001b[1;31mAttributeError\u001b[0m                            Traceback (most recent call last)",
      "\u001b[1;32m<ipython-input-57-671937456043>\u001b[0m in \u001b[0;36m<module>\u001b[1;34m\u001b[0m\n\u001b[1;32m----> 1\u001b[1;33m \u001b[0mfibonacci\u001b[0m\u001b[1;33m.\u001b[0m\u001b[0mfibo0\u001b[0m\u001b[1;33m\u001b[0m\u001b[1;33m\u001b[0m\u001b[0m\n\u001b[0m",
      "\u001b[1;31mAttributeError\u001b[0m: 'function' object has no attribute 'fibo0'"
     ]
    }
   ],
   "source": [
    "fibonacci.fibo0"
   ]
  },
  {
   "cell_type": "code",
   "execution_count": null,
   "metadata": {},
   "outputs": [],
   "source": []
  },
  {
   "cell_type": "code",
   "execution_count": 70,
   "metadata": {},
   "outputs": [],
   "source": [
    "class fibo:\n",
    "    def __init__(self):\n",
    "        self.fibo_list = [0, 1]\n",
    "        self.fibo0 = 0\n",
    "        self.fibo1 = 1\n",
    "        \n",
    "    def result(self, num):\n",
    "        if num == 0:\n",
    "            self.fibo0 += 1\n",
    "            return self.fibo_list[0]\n",
    "        elif num == 1:\n",
    "            self.fibo1 += 1\n",
    "            return self.fibo_list[1]\n",
    "        else:\n",
    "            if num <= (len(self.fibo_list)-1):\n",
    "                return self.fibo_list[num]\n",
    "            elif num == len(self.fibo_list):\n",
    "                self.result_num = self.fibo_list[num-1] + self.fibo_list[num-2]\n",
    "                self.fibo_list.append(self.result_num)\n",
    "                return self.fibo_list[num]\n",
    "            else:\n",
    "                return fibo.result(self, num-1) + fibo.result(self, num-2)\n",
    "            \n",
    "    def view_fibo0(self):\n",
    "        return self.fibo0\n",
    "    \n",
    "    def view_fibo1(self):\n",
    "        return self.fibo1\n",
    "            \n",
    "    def view(self):\n",
    "        print(self.fibo_list)"
   ]
  },
  {
   "cell_type": "code",
   "execution_count": 74,
   "metadata": {},
   "outputs": [],
   "source": [
    "fibo1 = fibo()"
   ]
  },
  {
   "cell_type": "code",
   "execution_count": 75,
   "metadata": {},
   "outputs": [
    {
     "data": {
      "text/plain": [
       "2"
      ]
     },
     "execution_count": 75,
     "metadata": {},
     "output_type": "execute_result"
    }
   ],
   "source": [
    "fibo1.result(3)"
   ]
  },
  {
   "cell_type": "code",
   "execution_count": null,
   "metadata": {},
   "outputs": [],
   "source": []
  }
 ],
 "metadata": {
  "kernelspec": {
   "display_name": "Python 3",
   "language": "python",
   "name": "python3"
  },
  "language_info": {
   "codemirror_mode": {
    "name": "ipython",
    "version": 3
   },
   "file_extension": ".py",
   "mimetype": "text/x-python",
   "name": "python",
   "nbconvert_exporter": "python",
   "pygments_lexer": "ipython3",
   "version": "3.7.3"
  }
 },
 "nbformat": 4,
 "nbformat_minor": 2
}
