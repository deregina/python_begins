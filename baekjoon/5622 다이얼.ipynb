{
 "cells": [
  {
   "cell_type": "code",
   "execution_count": 75,
   "metadata": {},
   "outputs": [
    {
     "name": "stdout",
     "output_type": "stream",
     "text": [
      "UNUCIC\n"
     ]
    }
   ],
   "source": [
    "dial = input()"
   ]
  },
  {
   "cell_type": "code",
   "execution_count": 76,
   "metadata": {},
   "outputs": [],
   "source": [
    "letter = 'ABCDEFGHIJKLMNOPQRSTUVWXYZ'"
   ]
  },
  {
   "cell_type": "code",
   "execution_count": 78,
   "metadata": {},
   "outputs": [
    {
     "name": "stdout",
     "output_type": "stream",
     "text": [
      "36\n"
     ]
    }
   ],
   "source": [
    "time = 0\n",
    "\n",
    "for i in range(len(dial)):\n",
    "    num = letter.find(dial[i])\n",
    "    \n",
    "    if num < 18 :\n",
    "        time += num//3 + 3\n",
    "        \n",
    "    elif num == 18 :\n",
    "        time += 8\n",
    "        \n",
    "    elif 19 <= num <= 21 :\n",
    "        time += 9\n",
    "    \n",
    "    else :\n",
    "        time += 10\n",
    "            \n",
    "print(time)"
   ]
  },
  {
   "cell_type": "code",
   "execution_count": 53,
   "metadata": {},
   "outputs": [
    {
     "name": "stdout",
     "output_type": "stream",
     "text": [
      "12\n"
     ]
    }
   ],
   "source": [
    "time = 0\n",
    "\n",
    "for n in range(len(dial)) :\n",
    "    for i in range(3):\n",
    "        if dial[n] == letter[i] :\n",
    "            time += 3\n",
    "        continue\n",
    "    for i in range(3):\n",
    "        if dial[n] == letter[i+3] :\n",
    "            time += 4\n",
    "        continue\n",
    "    for i in range(3):\n",
    "        if dial[n] == letter[i+6] :\n",
    "            time += 5\n",
    "        continue\n",
    "    for i in range(3):\n",
    "        if dial[n] == letter[i+9] :\n",
    "            time += 6\n",
    "        continue\n",
    "    for i in range(3):\n",
    "        if dial[n] == letter[i+12] :\n",
    "            time += 7\n",
    "        continue\n",
    "    for i in range(4):\n",
    "        if dial[n] == letter[i+15] :\n",
    "            time += 8\n",
    "        continue\n",
    "    for i in range(3):\n",
    "        if dial[n] == letter[i+19] :\n",
    "            time += 9\n",
    "        continue\n",
    "    for i in range(4):\n",
    "        if dial[n] == letter[i+22] :\n",
    "            time += 10\n",
    "        continue\n",
    "\n",
    "print(time)\n",
    "    "
   ]
  },
  {
   "cell_type": "code",
   "execution_count": null,
   "metadata": {},
   "outputs": [],
   "source": []
  }
 ],
 "metadata": {
  "kernelspec": {
   "display_name": "Python 3",
   "language": "python",
   "name": "python3"
  },
  "language_info": {
   "codemirror_mode": {
    "name": "ipython",
    "version": 3
   },
   "file_extension": ".py",
   "mimetype": "text/x-python",
   "name": "python",
   "nbconvert_exporter": "python",
   "pygments_lexer": "ipython3",
   "version": "3.7.3"
  }
 },
 "nbformat": 4,
 "nbformat_minor": 2
}
