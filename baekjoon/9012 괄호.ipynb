{
 "cells": [
  {
   "cell_type": "code",
   "execution_count": 1,
   "metadata": {},
   "outputs": [
    {
     "name": "stdout",
     "output_type": "stream",
     "text": [
      "6 ((_) () (() ((()) ((())()) ()\n"
     ]
    }
   ],
   "source": [
    "parenthesis_str = input().split()"
   ]
  },
  {
   "cell_type": "markdown",
   "metadata": {},
   "source": [
    "## Runtime Error"
   ]
  },
  {
   "cell_type": "raw",
   "metadata": {},
   "source": [
    "for i in range(int(parenthesis_str[0])):\n",
    "    temp_list = []\n",
    "    for j in range(len(parenthesis_str[i+1])):\n",
    "        if parenthesis_str[i+1] == []:\n",
    "            temp_list.append('not_str')\n",
    "        elif parenthesis_str[i+1][j] == '(':\n",
    "            temp_list.append('(')\n",
    "        elif parenthesis_str[i+1][j] == ')':\n",
    "            temp_list.pop()\n",
    "        else:\n",
    "            temp_list.append('not_str')\n",
    "    if temp_list == []:\n",
    "        print(\"YES\")\n",
    "    else:\n",
    "        print(\"NO\")\n",
    "        "
   ]
  },
  {
   "cell_type": "raw",
   "metadata": {},
   "source": [
    "for i in range(int(parenthesis_str[0])):\n",
    "    temp_list = []\n",
    "    for j in range(len(parenthesis_str[i+1])):\n",
    "        if parenthesis_str[i+1][j] == '(':\n",
    "            temp_list.append('(')\n",
    "        else:\n",
    "            temp_list.pop()\n",
    "    if temp_list == []:\n",
    "        print(\"YES\")\n",
    "    else:\n",
    "        print(\"NO\")\n"
   ]
  },
  {
   "cell_type": "code",
   "execution_count": 3,
   "metadata": {},
   "outputs": [
    {
     "name": "stdout",
     "output_type": "stream",
     "text": [
      "NO\n",
      "YES\n",
      "NO\n",
      "NO\n",
      "YES\n",
      "YES\n"
     ]
    }
   ],
   "source": [
    "for i in range(int(parenthesis_str[0])):\n",
    "    while '()' in parenthesis_str[i+1]:\n",
    "        parenthesis_str[i+1] = parenthesis_str[i+1].replace(\"()\", \"\")\n",
    "    if parenthesis_str[i+1] == \"\":\n",
    "        print(\"YES\")\n",
    "    else:\n",
    "        print(\"NO\")"
   ]
  }
 ],
 "metadata": {
  "kernelspec": {
   "display_name": "Python 3",
   "language": "python",
   "name": "python3"
  },
  "language_info": {
   "codemirror_mode": {
    "name": "ipython",
    "version": 3
   },
   "file_extension": ".py",
   "mimetype": "text/x-python",
   "name": "python",
   "nbconvert_exporter": "python",
   "pygments_lexer": "ipython3",
   "version": "3.7.3"
  }
 },
 "nbformat": 4,
 "nbformat_minor": 2
}
