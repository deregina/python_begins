{
 "cells": [
  {
   "cell_type": "code",
   "execution_count": null,
   "metadata": {},
   "outputs": [],
   "source": [
    "order_num = int(input())"
   ]
  },
  {
   "cell_type": "markdown",
   "metadata": {},
   "source": [
    "## Runtime Error"
   ]
  },
  {
   "cell_type": "raw",
   "metadata": {},
   "source": [
    "for i in range(int(parenthesis_str[0])):\n",
    "    temp_list = []\n",
    "    for j in range(len(parenthesis_str[i+1])):\n",
    "        if parenthesis_str[i+1] == []:\n",
    "            temp_list.append('not_str')\n",
    "        elif parenthesis_str[i+1][j] == '(':\n",
    "            temp_list.append('(')\n",
    "        elif parenthesis_str[i+1][j] == ')':\n",
    "            temp_list.pop()\n",
    "        else:\n",
    "            temp_list.append('not_str')\n",
    "    if temp_list == []:\n",
    "        print(\"YES\")\n",
    "    else:\n",
    "        print(\"NO\")\n",
    "        "
   ]
  },
  {
   "cell_type": "markdown",
   "metadata": {},
   "source": [
    "for i in range(order_num):\n",
    "    temp_list = []\n",
    "    parenthesis_str = input()\n",
    "    for j in range(len(parenthesis_str)):\n",
    "        if parenthesis_str[j] == '(':\n",
    "            temp_list.append('(')\n",
    "        elif parenthesis_str[j] == ')':\n",
    "            if temp_list == []:\n",
    "                temp_list.append(\"NO\")\n",
    "            else :\n",
    "                temp_list.pop()\n",
    "    if temp_list == []:\n",
    "        print(\"YES\")\n",
    "    else:\n",
    "        print(\"NO\")\n",
    "        "
   ]
  },
  {
   "cell_type": "raw",
   "metadata": {},
   "source": [
    "for i in range(int(parenthesis_str[0])):\n",
    "    temp_list = []\n",
    "    for j in range(len(parenthesis_str[i+1])):\n",
    "        if parenthesis_str[i+1][j] == '(':\n",
    "            temp_list.append('(')\n",
    "        else:\n",
    "            temp_list.pop()\n",
    "    if temp_list == []:\n",
    "        print(\"YES\")\n",
    "    else:\n",
    "        print(\"NO\")\n"
   ]
  },
  {
   "cell_type": "code",
   "execution_count": null,
   "metadata": {},
   "outputs": [],
   "source": [
    "for i in range(order_num):\n",
    "    parenthesis_str = input()\n",
    "    while '()' in parenthesis_str:\n",
    "        parenthesis_str = parenthesis_str.replace(\"()\", \"\")\n",
    "    if parenthesis_str == \"\":\n",
    "        print(\"YES\")\n",
    "    else:\n",
    "        print(\"NO\")"
   ]
  },
  {
   "cell_type": "code",
   "execution_count": null,
   "metadata": {},
   "outputs": [],
   "source": []
  },
  {
   "cell_type": "code",
   "execution_count": null,
   "metadata": {},
   "outputs": [],
   "source": []
  },
  {
   "cell_type": "code",
   "execution_count": 1,
   "metadata": {},
   "outputs": [
    {
     "name": "stdout",
     "output_type": "stream",
     "text": [
      "1\n"
     ]
    }
   ],
   "source": [
    "order_num = int(input())"
   ]
  },
  {
   "cell_type": "code",
   "execution_count": 12,
   "metadata": {},
   "outputs": [],
   "source": [
    "class Stack:\n",
    "    def __init__(self):\n",
    "        self.Stack_list = []\n",
    "    \n",
    "    def push(self, string):\n",
    "        self.Stack_list.append(string)\n",
    "    \n",
    "    def pop(self):\n",
    "        self.Stack_list.pop()\n",
    "            \n",
    "    def view(self):\n",
    "        return self.Stack_list\n",
    "        \n",
    "    def __del__(self):\n",
    "        pass"
   ]
  },
  {
   "cell_type": "code",
   "execution_count": 33,
   "metadata": {},
   "outputs": [
    {
     "name": "stdout",
     "output_type": "stream",
     "text": [
      "((())()(()))\n",
      "YES\n"
     ]
    }
   ],
   "source": [
    "for i in range(order_num):\n",
    "    result = 0\n",
    "    parenthesis_stack = Stack()\n",
    "    parenthesis_str = input()\n",
    "    for j in range(len(parenthesis_str)):\n",
    "        if parenthesis_str[j] == '(':\n",
    "            parenthesis_stack.push('(')\n",
    "        else:\n",
    "            if parenthesis_stack.view() == []:\n",
    "                result = -1\n",
    "            else:\n",
    "                parenthesis_stack.pop()\n",
    "                \n",
    "    if result == -1 or parenthesis_stack.view() != []:\n",
    "        print(\"NO\") \n",
    "    else:\n",
    "        print(\"YES\")\n",
    "        \n",
    "    del parenthesis_stack\n",
    "            \n",
    "            \n"
   ]
  },
  {
   "cell_type": "code",
   "execution_count": null,
   "metadata": {},
   "outputs": [],
   "source": []
  }
 ],
 "metadata": {
  "kernelspec": {
   "display_name": "Python 3",
   "language": "python",
   "name": "python3"
  },
  "language_info": {
   "codemirror_mode": {
    "name": "ipython",
    "version": 3
   },
   "file_extension": ".py",
   "mimetype": "text/x-python",
   "name": "python",
   "nbconvert_exporter": "python",
   "pygments_lexer": "ipython3",
   "version": "3.7.3"
  }
 },
 "nbformat": 4,
 "nbformat_minor": 2
}
