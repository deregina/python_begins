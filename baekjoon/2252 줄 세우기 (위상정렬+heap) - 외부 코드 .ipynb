{
 "cells": [
  {
   "cell_type": "code",
   "execution_count": 7,
   "metadata": {},
   "outputs": [],
   "source": [
    "import sys\n",
    "import heapq"
   ]
  },
  {
   "cell_type": "code",
   "execution_count": 12,
   "metadata": {},
   "outputs": [
    {
     "name": "stdout",
     "output_type": "stream",
     "text": [
      "6 7\n"
     ]
    }
   ],
   "source": [
    "num_problem, num_compare = map(int, input().split())\n",
    "problem_list = [[] for i in range(num_problem + 1)]\n",
    "indegree = [0 for i in range(num_problem + 1)]\n",
    "heap = []\n",
    "result = []"
   ]
  },
  {
   "cell_type": "code",
   "execution_count": 13,
   "metadata": {},
   "outputs": [
    {
     "name": "stdout",
     "output_type": "stream",
     "text": [
      "1 3\n",
      "1 4\n",
      "2 4\n",
      "2 5\n",
      "3 4\n",
      "4 6\n",
      "5 6\n"
     ]
    }
   ],
   "source": [
    "#Graph Information\n",
    "for i in range(num_compare):\n",
    "    A, B = map(int, input().split())\n",
    "    problem_list[A].append(B)\n",
    "    indegree[B] += 1"
   ]
  },
  {
   "cell_type": "code",
   "execution_count": 14,
   "metadata": {},
   "outputs": [],
   "source": [
    "#Make First heap\n",
    "for i in range(1, num_problem + 1):\n",
    "    if indegree[i] == 0:\n",
    "        heapq.heappush(heap, i)"
   ]
  },
  {
   "cell_type": "code",
   "execution_count": 15,
   "metadata": {},
   "outputs": [],
   "source": [
    "#Make Topological Sort Loop\n",
    "while heap:\n",
    "    temp = heapq.heappop(heap)\n",
    "    result.append(temp)\n",
    "    for j in problem_list[temp]:\n",
    "        indegree[j] -= 1\n",
    "        if indegree[j] == 0:\n",
    "            heapq.heappush(heap, j)"
   ]
  },
  {
   "cell_type": "code",
   "execution_count": 16,
   "metadata": {},
   "outputs": [
    {
     "name": "stdout",
     "output_type": "stream",
     "text": [
      "1 2 3 4 5 6 "
     ]
    }
   ],
   "source": [
    "for i in result:\n",
    "    print(i, end=' ')"
   ]
  },
  {
   "cell_type": "code",
   "execution_count": null,
   "metadata": {},
   "outputs": [],
   "source": []
  }
 ],
 "metadata": {
  "kernelspec": {
   "display_name": "Python 3",
   "language": "python",
   "name": "python3"
  },
  "language_info": {
   "codemirror_mode": {
    "name": "ipython",
    "version": 3
   },
   "file_extension": ".py",
   "mimetype": "text/x-python",
   "name": "python",
   "nbconvert_exporter": "python",
   "pygments_lexer": "ipython3",
   "version": "3.7.3"
  }
 },
 "nbformat": 4,
 "nbformat_minor": 2
}
