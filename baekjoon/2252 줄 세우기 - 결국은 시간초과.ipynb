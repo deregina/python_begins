{
 "cells": [
  {
   "cell_type": "code",
   "execution_count": null,
   "metadata": {},
   "outputs": [],
   "source": [
    "import sys"
   ]
  },
  {
   "cell_type": "code",
   "execution_count": null,
   "metadata": {},
   "outputs": [],
   "source": [
    "conditions = ['5 3', '4 2', '3 5', '4 3']"
   ]
  },
  {
   "cell_type": "code",
   "execution_count": null,
   "metadata": {},
   "outputs": [],
   "source": [
    "check = []"
   ]
  },
  {
   "cell_type": "code",
   "execution_count": null,
   "metadata": {},
   "outputs": [],
   "source": [
    "vertex, line = map(int, conditions[0].split())\n",
    "conditions.pop(0)"
   ]
  },
  {
   "cell_type": "code",
   "execution_count": null,
   "metadata": {},
   "outputs": [],
   "source": [
    "for l in conditions:\n",
    "    check.append(tuple(map(int, l.strip().split())))"
   ]
  },
  {
   "cell_type": "code",
   "execution_count": null,
   "metadata": {},
   "outputs": [],
   "source": [
    "visited = []\n",
    "sorted = []"
   ]
  },
  {
   "cell_type": "code",
   "execution_count": null,
   "metadata": {},
   "outputs": [],
   "source": [
    "def DFS(check, student):\n",
    "    visited.append(student)\n",
    "    i = 0\n",
    "    for i in range(line):\n",
    "        if check[i][0] == student:\n",
    "            if check[i][1] not in visited:\n",
    "                DFS(check, check[i][1])\n",
    "                break\n",
    "\n",
    "    sorted.insert(0, student)"
   ]
  },
  {
   "cell_type": "code",
   "execution_count": null,
   "metadata": {},
   "outputs": [],
   "source": [
    "for j in range(1, vertex+1):\n",
    "    if j not in visited:\n",
    "        DFS(check, j)"
   ]
  },
  {
   "cell_type": "code",
   "execution_count": null,
   "metadata": {},
   "outputs": [],
   "source": []
  },
  {
   "cell_type": "code",
   "execution_count": null,
   "metadata": {},
   "outputs": [],
   "source": []
  },
  {
   "cell_type": "code",
   "execution_count": null,
   "metadata": {},
   "outputs": [],
   "source": [
    "import sys\n",
    "\n",
    "check = []\n",
    "\n",
    "for line in sys.stdin:\n",
    "    check.append(tuple(map(int, line.strip().split())))\n",
    "    \n",
    "(vertex, line) = check[0]\n",
    "check = check[1:]\n",
    "\n",
    "visited = []\n",
    "sorted = []\n",
    "\n",
    "def DFS(check, student):\n",
    "    visited.append(student)\n",
    "    i = 0\n",
    "    for i in range(line):\n",
    "        if check[i][0] == student:\n",
    "            if check[i][1] not in visited:\n",
    "                DFS(check, check[i][1])\n",
    "                break\n",
    "\n",
    "    sorted.insert(0, student)\n",
    "    \n",
    "for j in range(1, vertex+1):\n",
    "    if j not in visited:\n",
    "        DFS(check, j)\n",
    "        \n",
    "for k in range(len(sorted)):\n",
    "    print(sorted[k], end = \" \")"
   ]
  },
  {
   "cell_type": "code",
   "execution_count": null,
   "metadata": {},
   "outputs": [],
   "source": []
  },
  {
   "cell_type": "code",
   "execution_count": null,
   "metadata": {},
   "outputs": [],
   "source": []
  },
  {
   "cell_type": "code",
   "execution_count": null,
   "metadata": {},
   "outputs": [],
   "source": [
    "import sys\n",
    "\n",
    "check = []\n",
    "\n",
    "for line in sys.stdin:\n",
    "    check.append(tuple(map(int, line.strip().split())))\n",
    "    \n",
    "(vertex, line) = check.pop(0)\n",
    "\n",
    "visited = []\n",
    "sorted = []\n",
    "\n",
    "def DFS(check, student):\n",
    "    visited.append(student)\n",
    "    i = 0\n",
    "    for i in range(line):\n",
    "        if check[i][0] == student:\n",
    "            if check[i][1] not in visited:\n",
    "                DFS(check, check[i][1])\n",
    "                break\n",
    "\n",
    "    sorted.insert(0, student)\n",
    "    \n",
    "for j in range(1, vertex+1):\n",
    "    if j not in visited:\n",
    "        DFS(check, j)\n",
    "        \n",
    "for k in range(len(sorted)):\n",
    "    print(sorted[k], end = \" \")"
   ]
  },
  {
   "cell_type": "code",
   "execution_count": null,
   "metadata": {},
   "outputs": [],
   "source": []
  },
  {
   "cell_type": "code",
   "execution_count": null,
   "metadata": {},
   "outputs": [],
   "source": []
  },
  {
   "cell_type": "code",
   "execution_count": 55,
   "metadata": {},
   "outputs": [],
   "source": [
    "lines1 = ['5 3', '4 2', '3 5', '4 3']"
   ]
  },
  {
   "cell_type": "code",
   "execution_count": 65,
   "metadata": {},
   "outputs": [],
   "source": [
    "lines2 = ['10 10', '1 2', '1 4', '2 3', '4 5', '5 3', '5 6', '7 4', '7 8', '9 7', '10 9']"
   ]
  },
  {
   "cell_type": "code",
   "execution_count": 81,
   "metadata": {},
   "outputs": [],
   "source": [
    "lines = ['6 7', '1 3', '1 4', '2 4', '2 5', '3 4', '4 6', '5 6']"
   ]
  },
  {
   "cell_type": "code",
   "execution_count": 82,
   "metadata": {},
   "outputs": [],
   "source": [
    "lines1 = ['3 2', '1 3', '2 3']"
   ]
  },
  {
   "cell_type": "code",
   "execution_count": 83,
   "metadata": {},
   "outputs": [],
   "source": [
    "lines2 = ['5 6', '1 2', '1 4', '2 3', '4 5', '5 3', '5 2']"
   ]
  },
  {
   "cell_type": "code",
   "execution_count": 133,
   "metadata": {},
   "outputs": [],
   "source": [
    "[vertex, line] = list(map(int, lines[0].split()))\n",
    "\n",
    "check_dict = {}\n",
    "for j in range(1, vertex+1):\n",
    "    check_dict[j] = []\n",
    "\n",
    "for i in range(1, line+1):\n",
    "    [a, b] = list(map(int, lines[i].split()))\n",
    "    check_dict[a].append(b)"
   ]
  },
  {
   "cell_type": "code",
   "execution_count": 134,
   "metadata": {},
   "outputs": [
    {
     "name": "stdout",
     "output_type": "stream",
     "text": [
      "{1: [3, 4], 2: [4, 5], 3: [4], 4: [6], 5: [6], 6: []}\n",
      "6\n",
      "7\n"
     ]
    }
   ],
   "source": [
    "print(check_dict, vertex, line, sep = '\\n')"
   ]
  },
  {
   "cell_type": "code",
   "execution_count": 135,
   "metadata": {},
   "outputs": [
    {
     "data": {
      "text/plain": [
       "[3, 4]"
      ]
     },
     "execution_count": 135,
     "metadata": {},
     "output_type": "execute_result"
    }
   ],
   "source": [
    "check_dict[1]"
   ]
  },
  {
   "cell_type": "code",
   "execution_count": 137,
   "metadata": {
    "scrolled": false
   },
   "outputs": [
    {
     "name": "stdout",
     "output_type": "stream",
     "text": [
      "stack: [1]\n",
      "student: 1\n",
      "visited: []\n",
      "add_in_stack: 2\n",
      "stack: [1, 4, 3]\n",
      "sort: []\n",
      "---------------------\n",
      "stack: [1, 4, 3]\n",
      "student: 3\n",
      "visited: [1]\n",
      "add_in_stack: 1\n",
      "stack: [1, 3, 4]\n",
      "sort: []\n",
      "---------------------\n",
      "stack: [1, 3, 4]\n",
      "student: 4\n",
      "visited: [1, 3]\n",
      "add_in_stack: 1\n",
      "stack: [1, 3, 4, 6]\n",
      "sort: []\n",
      "---------------------\n",
      "stack: [1, 3, 4, 6]\n",
      "student: 6\n",
      "visited: [1, 3, 4]\n",
      "nothing to add in stack\n",
      "stack: [1, 3, 4]\n",
      "sort: [6]\n",
      "---------------------\n",
      "stack: [1, 3, 4]\n",
      "student: 4\n",
      "visited: [1, 3, 4, 6]\n",
      "nothing to add in stack\n",
      "stack: [1, 3]\n",
      "sort: [4, 6]\n",
      "---------------------\n",
      "stack: [1, 3]\n",
      "student: 3\n",
      "visited: [1, 3, 4, 6, 4]\n",
      "nothing to add in stack\n",
      "stack: [1]\n",
      "sort: [3, 4, 6]\n",
      "---------------------\n",
      "stack: [1]\n",
      "student: 1\n",
      "visited: [1, 3, 4, 6, 4, 3]\n",
      "nothing to add in stack\n",
      "stack: []\n",
      "sort: [1, 3, 4, 6]\n",
      "---------------------\n",
      "stack: [2]\n",
      "student: 2\n",
      "visited: [1, 3, 4, 6, 4, 3, 1]\n",
      "add_in_stack: 1\n",
      "stack: [2, 5]\n",
      "sort: [1, 3, 4, 6]\n",
      "---------------------\n",
      "stack: [2, 5]\n",
      "student: 5\n",
      "visited: [1, 3, 4, 6, 4, 3, 1, 2]\n",
      "add_in_stack: 0\n",
      "stack: [2]\n",
      "sort: [5, 1, 3, 4, 6]\n",
      "---------------------\n",
      "stack: [2]\n",
      "student: 2\n",
      "visited: [1, 3, 4, 6, 4, 3, 1, 2, 5]\n",
      "nothing to add in stack\n",
      "stack: []\n",
      "sort: [2, 5, 1, 3, 4, 6]\n",
      "---------------------\n",
      "2 5 1 3 4 6\n"
     ]
    }
   ],
   "source": [
    "stack = []\n",
    "sort = []\n",
    "visited = []\n",
    "\n",
    "while len(sort) < vertex:\n",
    "    if len(stack) == 0:\n",
    "        for l in range(1, vertex+1):\n",
    "            if l not in visited:\n",
    "                stack.append(l)\n",
    "                break       \n",
    "\n",
    "    student = stack[-1]\n",
    "    print(\"stack:\", stack)\n",
    "    print(\"student:\", student)\n",
    "    print(\"visited:\", visited)\n",
    "    visited.append(student)\n",
    "\n",
    "    if len(check_dict[student]) != 0:\n",
    "        add_in_stack = 0\n",
    "        for k in range(len(check_dict[student])):\n",
    "            item = check_dict[student].pop(-1)\n",
    "            if item not in visited:\n",
    "                if item not in stack:\n",
    "                    stack.append(item)\n",
    "                else:\n",
    "                    stack.remove(item)\n",
    "                    stack.append(item)\n",
    "                add_in_stack += 1\n",
    "        print(\"add_in_stack:\", add_in_stack)\n",
    "        if add_in_stack == 0:\n",
    "            stack.remove(student)\n",
    "            sort.insert(0, student)\n",
    "\n",
    "    else:\n",
    "        print(\"nothing to add in stack\")\n",
    "        stack.remove(student)\n",
    "        sort.insert(0, student)\n",
    "    print(\"stack:\", stack)\n",
    "    print(\"sort:\", sort)\n",
    "    print(\"---------------------\")\n",
    "\n",
    "for k in range(len(sort)-1):\n",
    "    print(sort[k], end = \" \")\n",
    "print(sort[-1])\n"
   ]
  },
  {
   "cell_type": "code",
   "execution_count": 98,
   "metadata": {},
   "outputs": [
    {
     "name": "stdout",
     "output_type": "stream",
     "text": [
      "2 5 1 3 4 6\n"
     ]
    }
   ],
   "source": [
    "stack = []\n",
    "sort = []\n",
    "visited = []\n",
    "\n",
    "while len(sort) < vertex:\n",
    "    if len(stack) == 0:\n",
    "        for l in range(1, vertex+1):\n",
    "            if l not in visited:\n",
    "                stack.append(l)\n",
    "                break       \n",
    "\n",
    "    student = stack[-1]\n",
    "    visited.append(student)\n",
    "\n",
    "    if len(check_dict[student]) != 0:\n",
    "        add_in_stack = 0\n",
    "        for k in range(len(check_dict[student])):\n",
    "            item = check_dict[student].pop(-1)\n",
    "            if item not in visited:\n",
    "                stack.append(item)\n",
    "                add_in_stack += 1\n",
    "        if add_in_stack == 0:\n",
    "            while student in stack:\n",
    "                stack.remove(student)\n",
    "            sort.insert(0, student)\n",
    "\n",
    "    else:\n",
    "        while student in stack:\n",
    "            stack.remove(student)\n",
    "        sort.insert(0, student)\n",
    "\n",
    "for k in range(len(sort)-1):\n",
    "    print(sort[k], end = \" \")\n",
    "print(sort[-1])\n"
   ]
  },
  {
   "cell_type": "code",
   "execution_count": 108,
   "metadata": {},
   "outputs": [
    {
     "name": "stdout",
     "output_type": "stream",
     "text": [
      "2 5 1 3 4 6\n"
     ]
    }
   ],
   "source": [
    "stack = []\n",
    "sort = []\n",
    "visited = []\n",
    "\n",
    "while len(sort) < vertex:\n",
    "    if len(stack) == 0:\n",
    "        for l in range(1, vertex+1):\n",
    "            if l not in visited:\n",
    "                stack.append(l)\n",
    "                break       \n",
    "\n",
    "    student = stack[-1]\n",
    "    visited.append(student)\n",
    "\n",
    "    if len(check_dict[student]) != 0:\n",
    "        add_in_stack = 0\n",
    "        for k in range(len(check_dict[student])):\n",
    "            item = check_dict[student].pop(-1)\n",
    "            if item not in visited:\n",
    "                if item not in stack:\n",
    "                    stack.append(item)\n",
    "                else:\n",
    "                    stack.remove(item)\n",
    "                    stack.append(item)\n",
    "                add_in_stack += 1\n",
    "        if add_in_stack == 0:\n",
    "            stack.remove(student)\n",
    "            sort.insert(0, student)\n",
    "\n",
    "    else:\n",
    "        stack.remove(student)\n",
    "        sort.insert(0, student)\n",
    "\n",
    "for k in range(len(sort)-1):\n",
    "    print(sort[k], end = \" \")\n",
    "print(sort[-1])\n"
   ]
  },
  {
   "cell_type": "code",
   "execution_count": 297,
   "metadata": {},
   "outputs": [
    {
     "data": {
      "text/plain": [
       "[1, 3, 6, 3, 4, 1, 2, 5, 2]"
      ]
     },
     "execution_count": 297,
     "metadata": {},
     "output_type": "execute_result"
    }
   ],
   "source": [
    "visited"
   ]
  },
  {
   "cell_type": "code",
   "execution_count": 120,
   "metadata": {},
   "outputs": [],
   "source": [
    "p = []\n",
    "q = []"
   ]
  },
  {
   "cell_type": "code",
   "execution_count": 127,
   "metadata": {},
   "outputs": [
    {
     "name": "stdout",
     "output_type": "stream",
     "text": [
      "Wall time: 2 ms\n"
     ]
    }
   ],
   "source": [
    "%%time\n",
    "for z in range(10000):\n",
    "    p.insert(-1, z)"
   ]
  },
  {
   "cell_type": "code",
   "execution_count": 128,
   "metadata": {},
   "outputs": [
    {
     "name": "stdout",
     "output_type": "stream",
     "text": [
      "Wall time: 2 ms\n"
     ]
    }
   ],
   "source": [
    "%%time\n",
    "for x in range(10000):\n",
    "    q.append(z)"
   ]
  },
  {
   "cell_type": "code",
   "execution_count": 129,
   "metadata": {},
   "outputs": [
    {
     "name": "stdout",
     "output_type": "stream",
     "text": [
      "Wall time: 19 ms\n"
     ]
    }
   ],
   "source": [
    "%%time\n",
    "for z in range(10000):\n",
    "    p.remove(z)"
   ]
  },
  {
   "cell_type": "code",
   "execution_count": 130,
   "metadata": {},
   "outputs": [
    {
     "name": "stdout",
     "output_type": "stream",
     "text": [
      "Wall time: 3 ms\n"
     ]
    }
   ],
   "source": [
    "%%time\n",
    "for z in range(10000):\n",
    "    q.pop()"
   ]
  },
  {
   "cell_type": "code",
   "execution_count": 132,
   "metadata": {},
   "outputs": [],
   "source": [
    "c = [9, 8, 4, 3, 3, 6]"
   ]
  },
  {
   "cell_type": "code",
   "execution_count": null,
   "metadata": {},
   "outputs": [],
   "source": [
    "c[2]"
   ]
  }
 ],
 "metadata": {
  "kernelspec": {
   "display_name": "Python 3",
   "language": "python",
   "name": "python3"
  },
  "language_info": {
   "codemirror_mode": {
    "name": "ipython",
    "version": 3
   },
   "file_extension": ".py",
   "mimetype": "text/x-python",
   "name": "python",
   "nbconvert_exporter": "python",
   "pygments_lexer": "ipython3",
   "version": "3.7.3"
  }
 },
 "nbformat": 4,
 "nbformat_minor": 2
}
