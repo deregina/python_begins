{
 "cells": [
  {
   "cell_type": "code",
   "execution_count": null,
   "metadata": {},
   "outputs": [],
   "source": [
    "import sys\n",
    "\n",
    "check = []\n",
    "\n",
    "for line in sys.stdin:\n",
    "    check.append(tuple(map(int, line.strip().split())))\n",
    "    \n",
    "(vertex, line) = check[0]\n",
    "check = check[1:]\n",
    "\n",
    "visited = []\n",
    "sorted = []\n",
    "\n",
    "def DFS(check, student):\n",
    "    visited.append(student)\n",
    "    i = 0\n",
    "    for i in range(line):\n",
    "        if check[i][0] == student:\n",
    "            if check[i][1] not in visited:\n",
    "                DFS(check, check[i][1])\n",
    "                break\n",
    "\n",
    "    sorted.insert(0, student)\n",
    "    \n",
    "for j in range(1, vertex+1):\n",
    "    if j not in visited:\n",
    "        DFS(check, j)\n",
    "        \n",
    "for k in range(len(sorted)):\n",
    "    print(sorted[k], end = \" \")"
   ]
  },
  {
   "cell_type": "code",
   "execution_count": null,
   "metadata": {},
   "outputs": [],
   "source": []
  },
  {
   "cell_type": "code",
   "execution_count": 10,
   "metadata": {},
   "outputs": [],
   "source": [
    "vertex = 11"
   ]
  },
  {
   "cell_type": "code",
   "execution_count": 11,
   "metadata": {},
   "outputs": [],
   "source": [
    "line = 12"
   ]
  },
  {
   "cell_type": "code",
   "execution_count": 203,
   "metadata": {},
   "outputs": [],
   "source": [
    "check = [(1, 2), (2, 3), (3, 4), (3, 8), (5, 6), (5, 9), (6, 7), (7, 3), (7, 8), (7, 11), (9, 10), (10, 11)]"
   ]
  },
  {
   "cell_type": "code",
   "execution_count": 204,
   "metadata": {},
   "outputs": [],
   "source": [
    "check_dict = {}"
   ]
  },
  {
   "cell_type": "code",
   "execution_count": 213,
   "metadata": {},
   "outputs": [],
   "source": [
    "for i in range(1, vertex+1):\n",
    "    linked = []\n",
    "    for j in range(len(check)):\n",
    "        if check[j][0] == i:\n",
    "            linked.append(check[j][1])\n",
    "    check_dict[i] = linked"
   ]
  },
  {
   "cell_type": "code",
   "execution_count": 214,
   "metadata": {},
   "outputs": [
    {
     "data": {
      "text/plain": [
       "{1: [2],\n",
       " 2: [3],\n",
       " 3: [4, 8],\n",
       " 4: [],\n",
       " 5: [6, 9],\n",
       " 6: [7],\n",
       " 7: [3, 8, 11],\n",
       " 8: [],\n",
       " 9: [10],\n",
       " 10: [11],\n",
       " 11: []}"
      ]
     },
     "execution_count": 214,
     "metadata": {},
     "output_type": "execute_result"
    }
   ],
   "source": [
    "check_dict"
   ]
  },
  {
   "cell_type": "code",
   "execution_count": 215,
   "metadata": {},
   "outputs": [],
   "source": [
    "stack = [1]\n",
    "sorted = []\n",
    "visited = []"
   ]
  },
  {
   "cell_type": "code",
   "execution_count": 216,
   "metadata": {},
   "outputs": [
    {
     "name": "stdout",
     "output_type": "stream",
     "text": [
      "now student : 1\n",
      "F\n",
      "stack : [1, 2]\n",
      "sorted : []\n",
      "visited : [1]\n",
      "\n",
      "now student : 2\n",
      "F\n",
      "stack : [1, 2, 3]\n",
      "sorted : []\n",
      "visited : [1, 2]\n",
      "\n",
      "now student : 3\n",
      "F\n",
      "stack : [1, 2, 3, 8]\n",
      "sorted : []\n",
      "visited : [1, 2, 3]\n",
      "\n",
      "stack : [1, 2, 3, 8, 4]\n",
      "sorted : []\n",
      "visited : [1, 2, 3]\n",
      "\n",
      "now student : 4\n",
      "T\n",
      "stack : [1, 2, 3, 8]\n",
      "sorted : [4]\n",
      "visited : [1, 2, 3, 4]\n",
      "\n",
      "now student : 8\n",
      "T\n",
      "stack : [1, 2, 3]\n",
      "sorted : [8, 4]\n",
      "visited : [1, 2, 3, 4, 8]\n",
      "\n",
      "now student : 3\n",
      "T\n",
      "stack : [1, 2]\n",
      "sorted : [3, 8, 4]\n",
      "visited : [1, 2, 3, 4, 8, 3]\n",
      "\n",
      "now student : 2\n",
      "T\n",
      "stack : [1]\n",
      "sorted : [2, 3, 8, 4]\n",
      "visited : [1, 2, 3, 4, 8, 3, 2]\n",
      "\n",
      "now student : 1\n",
      "T\n",
      "stack : []\n",
      "sorted : [1, 2, 3, 8, 4]\n",
      "visited : [1, 2, 3, 4, 8, 3, 2, 1]\n",
      "\n",
      "now stack [5]\n",
      "5\n",
      "F\n",
      "stack : [5, 9]\n",
      "sorted : [1, 2, 3, 8, 4]\n",
      "visited : [1, 2, 3, 4, 8, 3, 2, 1, 5]\n",
      "\n",
      "stack : [5, 9, 6]\n",
      "sorted : [1, 2, 3, 8, 4]\n",
      "visited : [1, 2, 3, 4, 8, 3, 2, 1, 5]\n",
      "\n",
      "now student : 6\n",
      "F\n",
      "stack : [5, 9, 6, 7]\n",
      "sorted : [1, 2, 3, 8, 4]\n",
      "visited : [1, 2, 3, 4, 8, 3, 2, 1, 5, 6]\n",
      "\n",
      "now student : 7\n",
      "F\n",
      "stack : [5, 9, 6, 7, 11]\n",
      "sorted : [1, 2, 3, 8, 4]\n",
      "visited : [1, 2, 3, 4, 8, 3, 2, 1, 5, 6, 7]\n",
      "\n",
      "now student : 11\n",
      "T\n",
      "stack : [5, 9, 6, 7]\n",
      "sorted : [11, 1, 2, 3, 8, 4]\n",
      "visited : [1, 2, 3, 4, 8, 3, 2, 1, 5, 6, 7, 11]\n",
      "\n",
      "now student : 7\n",
      "T\n",
      "stack : [5, 9, 6]\n",
      "sorted : [7, 11, 1, 2, 3, 8, 4]\n",
      "visited : [1, 2, 3, 4, 8, 3, 2, 1, 5, 6, 7, 11, 7]\n",
      "\n",
      "now student : 6\n",
      "T\n",
      "stack : [5, 9]\n",
      "sorted : [6, 7, 11, 1, 2, 3, 8, 4]\n",
      "visited : [1, 2, 3, 4, 8, 3, 2, 1, 5, 6, 7, 11, 7, 6]\n",
      "\n",
      "now student : 9\n",
      "F\n",
      "stack : [5, 9, 10]\n",
      "sorted : [6, 7, 11, 1, 2, 3, 8, 4]\n",
      "visited : [1, 2, 3, 4, 8, 3, 2, 1, 5, 6, 7, 11, 7, 6, 9]\n",
      "\n",
      "now student : 10\n",
      "F\n",
      "now student : 10\n",
      "T\n",
      "stack : [5, 9]\n",
      "sorted : [10, 6, 7, 11, 1, 2, 3, 8, 4]\n",
      "visited : [1, 2, 3, 4, 8, 3, 2, 1, 5, 6, 7, 11, 7, 6, 9, 10, 10]\n",
      "\n",
      "now student : 9\n",
      "T\n",
      "stack : [5]\n",
      "sorted : [9, 10, 6, 7, 11, 1, 2, 3, 8, 4]\n",
      "visited : [1, 2, 3, 4, 8, 3, 2, 1, 5, 6, 7, 11, 7, 6, 9, 10, 10, 9]\n",
      "\n",
      "now student : 5\n",
      "T\n",
      "stack : []\n",
      "sorted : [5, 9, 10, 6, 7, 11, 1, 2, 3, 8, 4]\n",
      "visited : [1, 2, 3, 4, 8, 3, 2, 1, 5, 6, 7, 11, 7, 6, 9, 10, 10, 9, 5]\n",
      "\n"
     ]
    }
   ],
   "source": [
    "while len(sorted) < vertex:\n",
    "    if len(stack) > 0:\n",
    "        student = stack[-1]\n",
    "        student_p = f\"now student : {student}\"\n",
    "        print(student_p)\n",
    "        visited.append(student)\n",
    "\n",
    "        if len(check_dict[student]) == 0:\n",
    "            print(\"T\")\n",
    "            stack.remove(student)\n",
    "            sorted.insert(0, student)\n",
    "            stack_sorted_p = f\"stack : {stack}\\nsorted : {sorted}\\nvisited : {visited}\\n\"\n",
    "            print(stack_sorted_p)\n",
    "\n",
    "        else:\n",
    "            print(\"F\")\n",
    "            for k in range(len(check_dict[student])):\n",
    "                if check_dict[student][-1] not in visited:\n",
    "                    stack.append(check_dict[student][-1])\n",
    "                    check_dict[student].pop(-1)\n",
    "                    stack_sorted_p = f\"stack : {stack}\\nsorted : {sorted}\\nvisited : {visited}\\n\"\n",
    "                    print(stack_sorted_p)\n",
    "                else:\n",
    "                    check_dict[student].pop(-1)\n",
    "                \n",
    "    else:\n",
    "        for l in range(1, vertex+1):\n",
    "            if l not in visited:\n",
    "                stack.append(l)\n",
    "                print(\"now stack\", stack)\n",
    "                break\n",
    "                \n",
    "        student = stack[-1]\n",
    "        print(student)\n",
    "        visited.append(student)\n",
    "\n",
    "        if len(check_dict[student]) == 0:\n",
    "            print(\"T\")\n",
    "            stack.remove(student)\n",
    "            sorted.insert(0, student)\n",
    "            stack_sorted_p = f\"stack : {stack}\\nsorted : {sorted}\\nvisited : {visited}\\n\"\n",
    "            print(stack_sorted_p)\n",
    "        else:\n",
    "            print(\"F\")\n",
    "            for k in range(len(check_dict[student])):\n",
    "                if check_dict[student][-1] not in visited:\n",
    "                    stack.append(check_dict[student][-1])\n",
    "                    check_dict[student].pop(-1)\n",
    "                    stack_sorted_p = f\"stack : {stack}\\nsorted : {sorted}\\nvisited : {visited}\\n\"\n",
    "                    print(stack_sorted_p)\n",
    "                else:\n",
    "                    check_dict[student].pop(-1)"
   ]
  },
  {
   "cell_type": "code",
   "execution_count": 202,
   "metadata": {},
   "outputs": [
    {
     "data": {
      "text/plain": [
       "[3, 8]"
      ]
     },
     "execution_count": 202,
     "metadata": {},
     "output_type": "execute_result"
    }
   ],
   "source": [
    "check_dict[7]"
   ]
  },
  {
   "cell_type": "code",
   "execution_count": 122,
   "metadata": {},
   "outputs": [
    {
     "data": {
      "text/plain": [
       "{1: [],\n",
       " 2: [],\n",
       " 3: [],\n",
       " 4: [],\n",
       " 5: [6, 9],\n",
       " 6: [7],\n",
       " 7: [3, 8, 11],\n",
       " 8: [],\n",
       " 9: [10],\n",
       " 10: [11],\n",
       " 11: []}"
      ]
     },
     "execution_count": 122,
     "metadata": {},
     "output_type": "execute_result"
    }
   ],
   "source": [
    "check_dict"
   ]
  },
  {
   "cell_type": "code",
   "execution_count": 123,
   "metadata": {},
   "outputs": [
    {
     "data": {
      "text/plain": [
       "[1, 2, 3, 8, 4, 3, 2, 1]"
      ]
     },
     "execution_count": 123,
     "metadata": {},
     "output_type": "execute_result"
    }
   ],
   "source": [
    "visited"
   ]
  },
  {
   "cell_type": "code",
   "execution_count": null,
   "metadata": {},
   "outputs": [],
   "source": []
  },
  {
   "cell_type": "code",
   "execution_count": null,
   "metadata": {},
   "outputs": [],
   "source": [
    "while len(sorted) < vertex:\n",
    "    if len(stack) > 0:\n",
    "        student = stack[-1]\n",
    "        student_p = f\"now student : {student}\"\n",
    "        print(student_p)\n",
    "        visited.append(student)\n",
    "\n",
    "        if len(check_dict[student]) == 0:\n",
    "            print(\"T\")\n",
    "            stack.remove(student)\n",
    "            sorted.insert(0, student)\n",
    "            stack_sorted_p = f\"stack : {stack}\\nsorted : {sorted}\\n\"\n",
    "            print(stack_sorted_p)\n",
    "\n",
    "        else:\n",
    "            print(\"F\")\n",
    "            for k in range(len(check_dict[student])):\n",
    "                stack.append(check_dict[student][-1])\n",
    "                check_dict[student].pop(-1)\n",
    "                stack_sorted_p = f\"stack : {stack}\\nsorted : {sorted}\\n\"\n",
    "                print(stack_sorted_p)\n",
    "                \n",
    "    else:\n",
    "        for l in range(1, vertex+1):\n",
    "            if l not in visited:\n",
    "                stack.append(l)\n",
    "                print(\"now stack\", stack)\n",
    "                break\n",
    "                \n",
    "        student = stack[-1]\n",
    "        print(student)\n",
    "        visited.append(student)\n",
    "\n",
    "        if len(check_dict[student]) == 0:\n",
    "            print(\"T\")\n",
    "            stack.remove(student)\n",
    "            sorted.insert(0, student)\n",
    "            stack_sorted_p = f\"stack : {stack}\\nsorted : {sorted}\\n\"\n",
    "            print(stack_sorted_p)\n",
    "        else:\n",
    "            print(\"F\")\n",
    "            for k in range(len(check_dict[student])):\n",
    "                stack.append(check_dict[student][-1])\n",
    "                check_dict[student].pop(-1)\n",
    "                stack_sorted_p = f\"stack : {stack}\\nsorted : {sorted}\\n\"\n",
    "                print(stack_sorted_p)"
   ]
  }
 ],
 "metadata": {
  "kernelspec": {
   "display_name": "Python 3",
   "language": "python",
   "name": "python3"
  },
  "language_info": {
   "codemirror_mode": {
    "name": "ipython",
    "version": 3
   },
   "file_extension": ".py",
   "mimetype": "text/x-python",
   "name": "python",
   "nbconvert_exporter": "python",
   "pygments_lexer": "ipython3",
   "version": "3.7.3"
  }
 },
 "nbformat": 4,
 "nbformat_minor": 2
}
