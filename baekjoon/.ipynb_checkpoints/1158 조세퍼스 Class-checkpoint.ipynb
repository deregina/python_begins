{
 "cells": [
  {
   "cell_type": "code",
   "execution_count": 458,
   "metadata": {},
   "outputs": [
    {
     "name": "stdout",
     "output_type": "stream",
     "text": [
      "10 3\n"
     ]
    }
   ],
   "source": [
    "cons1, cons2 = map(int, input().split())"
   ]
  },
  {
   "cell_type": "code",
   "execution_count": 459,
   "metadata": {},
   "outputs": [],
   "source": [
    "class Josephus:\n",
    "    def __init__(self):\n",
    "        self.people = []\n",
    "        self.person = 0\n",
    "        self.rslt = []\n",
    "        for self.person in range(1, cons1+1):\n",
    "            self.people.append(self.person)     \n",
    "\n",
    "    def pick_up_the_one(self):\n",
    "        if cons2 > len(self.people):\n",
    "            self.pop_num = (cons2-1) % len(self.people)\n",
    "            self.person = self.people.pop(self.pop_num)\n",
    "            self.people = self.people[self.pop_num:] + self.people[:self.pop_num]\n",
    "        else:\n",
    "            self.person = self.people.pop(cons2-1)\n",
    "            self.people = self.people[cons2-1:] + self.people[:cons2-1]\n",
    "        self.rslt.append(self.person)\n",
    "            \n",
    "    def view(self):\n",
    "        print(self.people)\n",
    "        \n",
    "    def result(self):\n",
    "        rslt_str = str(self.rslt)\n",
    "        rslt_str = rslt_str.replace('[', '<')\n",
    "        rslt_str = rslt_str.replace(']', '>')\n",
    "        print(rslt_str)"
   ]
  },
  {
   "cell_type": "code",
   "execution_count": 460,
   "metadata": {},
   "outputs": [],
   "source": [
    "group1 = Josephus()"
   ]
  },
  {
   "cell_type": "code",
   "execution_count": 461,
   "metadata": {},
   "outputs": [
    {
     "name": "stdout",
     "output_type": "stream",
     "text": [
      "<3, 6, 9, 2, 7, 1, 8, 5, 10, 4>\n"
     ]
    }
   ],
   "source": [
    "for i in range(cons1):\n",
    "    group1.pick_up_the_one()\n",
    "group1.result()"
   ]
  },
  {
   "cell_type": "code",
   "execution_count": null,
   "metadata": {},
   "outputs": [],
   "source": []
  }
 ],
 "metadata": {
  "kernelspec": {
   "display_name": "Python 3",
   "language": "python",
   "name": "python3"
  },
  "language_info": {
   "codemirror_mode": {
    "name": "ipython",
    "version": 3
   },
   "file_extension": ".py",
   "mimetype": "text/x-python",
   "name": "python",
   "nbconvert_exporter": "python",
   "pygments_lexer": "ipython3",
   "version": "3.7.3"
  }
 },
 "nbformat": 4,
 "nbformat_minor": 2
}
