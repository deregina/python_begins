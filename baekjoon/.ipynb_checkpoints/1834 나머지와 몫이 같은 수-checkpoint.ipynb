{
 "cells": [
  {
   "cell_type": "code",
   "execution_count": 15,
   "metadata": {},
   "outputs": [],
   "source": [
    "# 시간초과"
   ]
  },
  {
   "cell_type": "markdown",
   "metadata": {},
   "source": [
    "def devide(num, num_by) :\n",
    "    return [num//num_by, num%num_by]    "
   ]
  },
  {
   "cell_type": "raw",
   "metadata": {},
   "source": [
    "num_by = int(input())"
   ]
  },
  {
   "cell_type": "raw",
   "metadata": {},
   "source": [
    "num = 0\n",
    "result_list = []\n",
    "\n",
    "while num <= num_by**2 :\n",
    "    try_list = devide(num, num_by)\n",
    "    if try_list[0] == try_list[1] :\n",
    "        result_list.append(num)\n",
    "    num += 1"
   ]
  },
  {
   "cell_type": "raw",
   "metadata": {},
   "source": [
    "result = 0\n",
    "\n",
    "for i in range(len(result_list)) :\n",
    "    result += result_list[i]\n",
    "    \n",
    "print(result)"
   ]
  },
  {
   "cell_type": "code",
   "execution_count": 9,
   "metadata": {},
   "outputs": [
    {
     "name": "stdout",
     "output_type": "stream",
     "text": [
      "3\n"
     ]
    }
   ],
   "source": [
    "num = int(input())"
   ]
  },
  {
   "cell_type": "code",
   "execution_count": 14,
   "metadata": {},
   "outputs": [
    {
     "name": "stdout",
     "output_type": "stream",
     "text": [
      "12\n"
     ]
    }
   ],
   "source": [
    "result = 0\n",
    "\n",
    "for q in range(num - 1) :\n",
    "    quotient = q + 1\n",
    "    result += num * quotient + quotient\n",
    "    \n",
    "print(result)"
   ]
  },
  {
   "cell_type": "code",
   "execution_count": null,
   "metadata": {},
   "outputs": [],
   "source": []
  }
 ],
 "metadata": {
  "kernelspec": {
   "display_name": "Python 3",
   "language": "python",
   "name": "python3"
  },
  "language_info": {
   "codemirror_mode": {
    "name": "ipython",
    "version": 3
   },
   "file_extension": ".py",
   "mimetype": "text/x-python",
   "name": "python",
   "nbconvert_exporter": "python",
   "pygments_lexer": "ipython3",
   "version": "3.7.3"
  }
 },
 "nbformat": 4,
 "nbformat_minor": 2
}
