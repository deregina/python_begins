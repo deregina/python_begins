{
 "cells": [
  {
   "cell_type": "code",
   "execution_count": null,
   "metadata": {},
   "outputs": [],
   "source": [
    "# 위 두 원판을 A > B\n",
    "1 3\n",
    "1 2\n",
    "3 2\n",
    "=> 1 3\n",
    "\n",
    "# A > C\n",
    "1 2\n",
    "1 3\n",
    "2 3\n",
    "=> 1 2\n",
    "\n",
    "# B > C\n",
    "2 1\n",
    "2 3\n",
    "1 3\n",
    "=> 2 1"
   ]
  },
  {
   "cell_type": "code",
   "execution_count": 1,
   "metadata": {},
   "outputs": [
    {
     "name": "stdout",
     "output_type": "stream",
     "text": [
      "3\n",
      "7\n",
      "1 3\n",
      "1 2\n",
      "3 2\n",
      "1 3\n",
      "2 1\n",
      "2 3\n",
      "1 3\n"
     ]
    }
   ],
   "source": [
    "num = int(input())\n",
    "print(2**num - 1)\n",
    "\n",
    "def hanoi2(num, start, end, temp):\n",
    "    if num == 1:\n",
    "        print(start, end)\n",
    "    elif num >= 2 :\n",
    "        a = start\n",
    "        b = end\n",
    "        c = temp\n",
    "        hanoi2(num-1, start=a, end=c, temp=b)\n",
    "        hanoi2(1, start=a, end=b, temp=c)\n",
    "        hanoi2(num-1, start=c, end=b, temp=a)\n",
    "        \n",
    "if num <= 20:\n",
    "    hanoi2(num, start=1, end=3, temp=2)"
   ]
  },
  {
   "cell_type": "code",
   "execution_count": null,
   "metadata": {},
   "outputs": [],
   "source": []
  }
 ],
 "metadata": {
  "kernelspec": {
   "display_name": "Python 3",
   "language": "python",
   "name": "python3"
  },
  "language_info": {
   "codemirror_mode": {
    "name": "ipython",
    "version": 3
   },
   "file_extension": ".py",
   "mimetype": "text/x-python",
   "name": "python",
   "nbconvert_exporter": "python",
   "pygments_lexer": "ipython3",
   "version": "3.7.3"
  }
 },
 "nbformat": 4,
 "nbformat_minor": 2
}
