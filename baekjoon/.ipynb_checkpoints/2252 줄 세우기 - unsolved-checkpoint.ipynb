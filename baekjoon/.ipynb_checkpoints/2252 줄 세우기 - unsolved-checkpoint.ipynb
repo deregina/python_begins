{
 "cells": [
  {
   "cell_type": "markdown",
   "metadata": {},
   "source": [
    "import sys"
   ]
  },
  {
   "cell_type": "markdown",
   "metadata": {},
   "source": [
    "conditions = sys.stdin.readlines()"
   ]
  },
  {
   "cell_type": "markdown",
   "metadata": {},
   "source": [
    "sorted = []"
   ]
  },
  {
   "cell_type": "markdown",
   "metadata": {},
   "source": [
    "for j in range(len(conditions)):\n",
    "    check = list(map(int, conditions[j].split()))\n",
    "    \n",
    "    if sorted == []:\n",
    "        for i in range(2):\n",
    "            sorted.append(check[i])\n",
    "\n",
    "    else:\n",
    "        if check[0] in sorted and check[1] in sorted:\n",
    "            pass\n",
    "        elif check [0] in sorted and check[1] not in sorted:\n",
    "            index = sorted.index(check[0])\n",
    "            sorted.insert(index+1, check[1])\n",
    "        elif check [0] not in sorted and check[1] in sorted:\n",
    "            index = sorted.index(check[1])\n",
    "            sorted.insert(index, check[0])        "
   ]
  },
  {
   "cell_type": "markdown",
   "metadata": {},
   "source": [
    "print(sorted)"
   ]
  },
  {
   "cell_type": "code",
   "execution_count": null,
   "metadata": {},
   "outputs": [],
   "source": [
    "import sys"
   ]
  },
  {
   "cell_type": "code",
   "execution_count": null,
   "metadata": {},
   "outputs": [],
   "source": []
  },
  {
   "cell_type": "code",
   "execution_count": 264,
   "metadata": {},
   "outputs": [],
   "source": [
    "conditions = ['5 3', '4 2', '3 5', '4 3']"
   ]
  },
  {
   "cell_type": "code",
   "execution_count": 265,
   "metadata": {},
   "outputs": [],
   "source": [
    "check = []"
   ]
  },
  {
   "cell_type": "code",
   "execution_count": 266,
   "metadata": {
    "scrolled": true
   },
   "outputs": [
    {
     "data": {
      "text/plain": [
       "'5 3'"
      ]
     },
     "execution_count": 266,
     "metadata": {},
     "output_type": "execute_result"
    }
   ],
   "source": [
    "vertex, line = map(int, conditions[0].split())\n",
    "conditions.pop(0)"
   ]
  },
  {
   "cell_type": "code",
   "execution_count": 267,
   "metadata": {},
   "outputs": [],
   "source": [
    "for l in conditions:\n",
    "    check.append(tuple(map(int, l.strip().split())))"
   ]
  },
  {
   "cell_type": "code",
   "execution_count": 268,
   "metadata": {},
   "outputs": [],
   "source": [
    "visited = []\n",
    "sorted = []"
   ]
  },
  {
   "cell_type": "code",
   "execution_count": 269,
   "metadata": {},
   "outputs": [],
   "source": [
    "def DFS(check, student):\n",
    "    visited.append(student)\n",
    "    i = 0\n",
    "    for i in range(line):\n",
    "        if check[i][0] == student:\n",
    "            if check[i][1] not in visited:\n",
    "                DFS(check, check[i][1])\n",
    "                break\n",
    "\n",
    "    sorted.insert(0, student)"
   ]
  },
  {
   "cell_type": "code",
   "execution_count": 270,
   "metadata": {},
   "outputs": [],
   "source": [
    "for j in range(1, vertex+1):\n",
    "    if j not in visited:\n",
    "        DFS(check, j)"
   ]
  },
  {
   "cell_type": "code",
   "execution_count": 271,
   "metadata": {},
   "outputs": [
    {
     "data": {
      "text/plain": [
       "[4, 3, 5, 2, 1]"
      ]
     },
     "execution_count": 271,
     "metadata": {},
     "output_type": "execute_result"
    }
   ],
   "source": [
    "sorted"
   ]
  },
  {
   "cell_type": "code",
   "execution_count": 272,
   "metadata": {},
   "outputs": [
    {
     "name": "stdout",
     "output_type": "stream",
     "text": [
      "4 3 5 2 1 "
     ]
    }
   ],
   "source": [
    "for k in range(len(sorted)):\n",
    "    print(sorted[k], end = \" \")"
   ]
  },
  {
   "cell_type": "code",
   "execution_count": 273,
   "metadata": {},
   "outputs": [
    {
     "data": {
      "text/plain": [
       "[(4, 2), (3, 5), (4, 3)]"
      ]
     },
     "execution_count": 273,
     "metadata": {},
     "output_type": "execute_result"
    }
   ],
   "source": [
    "check"
   ]
  },
  {
   "cell_type": "code",
   "execution_count": null,
   "metadata": {},
   "outputs": [],
   "source": []
  },
  {
   "cell_type": "code",
   "execution_count": null,
   "metadata": {},
   "outputs": [],
   "source": []
  },
  {
   "cell_type": "code",
   "execution_count": null,
   "metadata": {},
   "outputs": [],
   "source": [
    "import sys\n",
    "\n",
    "check = []\n",
    "\n",
    "for line in sys.stdin:\n",
    "    check.append(tuple(map(int, line.strip().split())))\n",
    "    \n",
    "(vertex, line) = check[0]\n",
    "check = check[1:]\n",
    "\n",
    "visited = []\n",
    "sorted = []\n",
    "\n",
    "def DFS(check, student):\n",
    "    visited.append(student)\n",
    "    i = 0\n",
    "    for i in range(line):\n",
    "        if check[i][0] == student:\n",
    "            if check[i][1] not in visited:\n",
    "                DFS(check, check[i][1])\n",
    "                break\n",
    "\n",
    "    sorted.insert(0, student)\n",
    "    \n",
    "for j in range(1, vertex+1):\n",
    "    if j not in visited:\n",
    "        DFS(check, j)\n",
    "        \n",
    "for k in range(len(sorted)):\n",
    "    print(sorted[k], end = \" \")"
   ]
  },
  {
   "cell_type": "code",
   "execution_count": null,
   "metadata": {},
   "outputs": [],
   "source": []
  },
  {
   "cell_type": "code",
   "execution_count": 275,
   "metadata": {},
   "outputs": [],
   "source": [
    "(vertex, line) = check[0]"
   ]
  },
  {
   "cell_type": "code",
   "execution_count": 276,
   "metadata": {},
   "outputs": [
    {
     "data": {
      "text/plain": [
       "4"
      ]
     },
     "execution_count": 276,
     "metadata": {},
     "output_type": "execute_result"
    }
   ],
   "source": [
    "vertex"
   ]
  },
  {
   "cell_type": "code",
   "execution_count": 277,
   "metadata": {},
   "outputs": [
    {
     "data": {
      "text/plain": [
       "[(3, 5), (4, 3)]"
      ]
     },
     "execution_count": 277,
     "metadata": {},
     "output_type": "execute_result"
    }
   ],
   "source": [
    "check[1:]"
   ]
  },
  {
   "cell_type": "code",
   "execution_count": 278,
   "metadata": {},
   "outputs": [
    {
     "data": {
      "text/plain": [
       "[(4, 2), (3, 5), (4, 3)]"
      ]
     },
     "execution_count": 278,
     "metadata": {},
     "output_type": "execute_result"
    }
   ],
   "source": [
    "check"
   ]
  },
  {
   "cell_type": "code",
   "execution_count": null,
   "metadata": {},
   "outputs": [],
   "source": []
  },
  {
   "cell_type": "code",
   "execution_count": null,
   "metadata": {},
   "outputs": [],
   "source": [
    "import sys\n",
    "\n",
    "check = []\n",
    "\n",
    "for line in sys.stdin:\n",
    "    check.append(tuple(map(int, line.strip().split())))\n",
    "    \n",
    "(vertex, line) = check.pop(0)\n",
    "\n",
    "visited = []\n",
    "sorted = []\n",
    "\n",
    "def DFS(check, student):\n",
    "    visited.append(student)\n",
    "    i = 0\n",
    "    for i in range(line):\n",
    "        if check[i][0] == student:\n",
    "            if check[i][1] not in visited:\n",
    "                DFS(check, check[i][1])\n",
    "                break\n",
    "\n",
    "    sorted.insert(0, student)\n",
    "    \n",
    "for j in range(1, vertex+1):\n",
    "    if j not in visited:\n",
    "        DFS(check, j)\n",
    "        \n",
    "for k in range(len(sorted)):\n",
    "    print(sorted[k], end = \" \")"
   ]
  }
 ],
 "metadata": {
  "kernelspec": {
   "display_name": "Python 3",
   "language": "python",
   "name": "python3"
  },
  "language_info": {
   "codemirror_mode": {
    "name": "ipython",
    "version": 3
   },
   "file_extension": ".py",
   "mimetype": "text/x-python",
   "name": "python",
   "nbconvert_exporter": "python",
   "pygments_lexer": "ipython3",
   "version": "3.7.3"
  }
 },
 "nbformat": 4,
 "nbformat_minor": 2
}
