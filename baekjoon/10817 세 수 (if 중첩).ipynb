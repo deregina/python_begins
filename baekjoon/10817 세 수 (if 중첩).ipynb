{
 "cells": [
  {
   "cell_type": "code",
   "execution_count": 18,
   "metadata": {},
   "outputs": [
    {
     "name": "stdout",
     "output_type": "stream",
     "text": [
      "1 6 7\n"
     ]
    }
   ],
   "source": [
    "a, b, c = map(int, input().split())"
   ]
  },
  {
   "cell_type": "code",
   "execution_count": 19,
   "metadata": {},
   "outputs": [
    {
     "name": "stdout",
     "output_type": "stream",
     "text": [
      "6\n"
     ]
    }
   ],
   "source": [
    "if a <= c and a >= b :\n",
    "    print(a)\n",
    "elif a <= b and a >= c :\n",
    "    print(a)\n",
    "elif b <= a and b >= c :\n",
    "    print(b)\n",
    "elif b <= c and b >= a :\n",
    "    print(b)\n",
    "elif c <= a and c >= b :\n",
    "    print(c)\n",
    "elif c <= b and c >= a :\n",
    "    print(c)"
   ]
  },
  {
   "cell_type": "code",
   "execution_count": 20,
   "metadata": {},
   "outputs": [
    {
     "name": "stdout",
     "output_type": "stream",
     "text": [
      "6\n"
     ]
    }
   ],
   "source": [
    "if a >= b :\n",
    "    if a <= c :\n",
    "        print(a)\n",
    "    elif b >= c :\n",
    "        print(b)\n",
    "    else : print(c)\n",
    "elif b >= c :\n",
    "    if b <= a :\n",
    "        print(b)\n",
    "    elif a >= c :\n",
    "        print(a)\n",
    "    else : print(c)\n",
    "elif c >= b :\n",
    "    if c <= a :\n",
    "        print(c)\n",
    "    elif a >= b :\n",
    "        print(a)\n",
    "    else : print(b)"
   ]
  },
  {
   "cell_type": "code",
   "execution_count": null,
   "metadata": {},
   "outputs": [],
   "source": [
    "d, e, f = map(int, input().split())"
   ]
  },
  {
   "cell_type": "code",
   "execution_count": null,
   "metadata": {},
   "outputs": [],
   "source": [
    "number = [d, e, f]"
   ]
  },
  {
   "cell_type": "code",
   "execution_count": null,
   "metadata": {},
   "outputs": [],
   "source": [
    "print(number)"
   ]
  },
  {
   "cell_type": "code",
   "execution_count": null,
   "metadata": {},
   "outputs": [],
   "source": [
    "number.pop(number.index(max(number)))"
   ]
  },
  {
   "cell_type": "code",
   "execution_count": null,
   "metadata": {},
   "outputs": [],
   "source": [
    "if number[0] > number[1] :\n",
    "    print(number[0])\n",
    "else :\n",
    "    print(number[1])"
   ]
  },
  {
   "cell_type": "code",
   "execution_count": null,
   "metadata": {},
   "outputs": [],
   "source": []
  }
 ],
 "metadata": {
  "kernelspec": {
   "display_name": "Python 3",
   "language": "python",
   "name": "python3"
  },
  "language_info": {
   "codemirror_mode": {
    "name": "ipython",
    "version": 3
   },
   "file_extension": ".py",
   "mimetype": "text/x-python",
   "name": "python",
   "nbconvert_exporter": "python",
   "pygments_lexer": "ipython3",
   "version": "3.7.3"
  }
 },
 "nbformat": 4,
 "nbformat_minor": 2
}
