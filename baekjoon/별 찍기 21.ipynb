{
 "cells": [
  {
   "cell_type": "code",
   "execution_count": 25,
   "metadata": {},
   "outputs": [
    {
     "name": "stdout",
     "output_type": "stream",
     "text": [
      "6\n"
     ]
    }
   ],
   "source": [
    "n = int(input())"
   ]
  },
  {
   "cell_type": "code",
   "execution_count": 26,
   "metadata": {},
   "outputs": [
    {
     "name": "stdout",
     "output_type": "stream",
     "text": [
      "* * *\n",
      " * * *\n",
      "* * *\n",
      " * * *\n",
      "* * *\n",
      " * * *\n",
      "* * *\n",
      " * * *\n",
      "* * *\n",
      " * * *\n",
      "* * *\n",
      " * * *\n"
     ]
    }
   ],
   "source": [
    "if n <= 1 :\n",
    "    print('*')\n",
    "else :\n",
    "    for i in range(2 * n) :\n",
    "        o = i % 2\n",
    "        if o == 1 :\n",
    "            print(' ' * o + '*' + ' *' * (n // 2 - 1))\n",
    "        else :\n",
    "            print(' ' * o + '*' + ' *' * (n // 2 - 1 + n % 2))            "
   ]
  }
 ],
 "metadata": {
  "kernelspec": {
   "display_name": "Python 3",
   "language": "python",
   "name": "python3"
  },
  "language_info": {
   "codemirror_mode": {
    "name": "ipython",
    "version": 3
   },
   "file_extension": ".py",
   "mimetype": "text/x-python",
   "name": "python",
   "nbconvert_exporter": "python",
   "pygments_lexer": "ipython3",
   "version": "3.7.3"
  }
 },
 "nbformat": 4,
 "nbformat_minor": 2
}
