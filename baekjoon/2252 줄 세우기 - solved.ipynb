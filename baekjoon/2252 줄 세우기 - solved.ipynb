{
 "cells": [
  {
   "cell_type": "code",
   "execution_count": null,
   "metadata": {},
   "outputs": [],
   "source": [
    "import sys\n",
    "\n",
    "lines = sys.stdin.readlines()"
   ]
  },
  {
   "cell_type": "code",
   "execution_count": 35,
   "metadata": {},
   "outputs": [],
   "source": [
    "lines = ['10 10', '1 2', '1 4', '2 3', '4 5', '5 3', '5 6', '7 4', '7 8', '9 7', '10 9']"
   ]
  },
  {
   "cell_type": "code",
   "execution_count": 59,
   "metadata": {},
   "outputs": [],
   "source": [
    "indegree = []\n",
    "\n",
    "[vertex, line] = list(map(int, lines[0].split()))\n",
    "\n",
    "check_dict = {}\n",
    "for j in range(1, vertex+1):\n",
    "    check_dict[j] = []\n",
    "\n",
    "for k in range(vertex+1):\n",
    "    indegree.append(0)\n",
    "\n",
    "for i in range(1, line+1):\n",
    "    [a, b] = list(map(int, lines[i].split()))\n",
    "    check_dict[a].append(b)\n",
    "    indegree[b] += 1"
   ]
  },
  {
   "cell_type": "code",
   "execution_count": 60,
   "metadata": {},
   "outputs": [
    {
     "name": "stdout",
     "output_type": "stream",
     "text": [
      "[]\n",
      "[0, 0, 1, 2, 2, 1, 1, 1, 1, 1, 0]\n",
      "{1: [2, 4], 2: [3], 3: [], 4: [5], 5: [3, 6], 6: [], 7: [4, 8], 8: [], 9: [7], 10: [9]}\n"
     ]
    }
   ],
   "source": [
    "print(check, indegree, check_dict, sep = '\\n')"
   ]
  },
  {
   "cell_type": "code",
   "execution_count": 61,
   "metadata": {},
   "outputs": [],
   "source": [
    "where_to_go = []\n",
    "\n",
    "for i in range(1, vertex+1):\n",
    "    if indegree[i] == 0:\n",
    "        where_to_go.append(i)\n"
   ]
  },
  {
   "cell_type": "code",
   "execution_count": 62,
   "metadata": {},
   "outputs": [
    {
     "data": {
      "text/plain": [
       "[1, 10]"
      ]
     },
     "execution_count": 62,
     "metadata": {},
     "output_type": "execute_result"
    }
   ],
   "source": [
    "where_to_go"
   ]
  },
  {
   "cell_type": "code",
   "execution_count": 63,
   "metadata": {},
   "outputs": [
    {
     "name": "stdout",
     "output_type": "stream",
     "text": [
      "1 10 2 9 7 4 8 5 3 6 "
     ]
    }
   ],
   "source": [
    "for l in range(vertex):\n",
    "    node = where_to_go.pop(0)\n",
    "    print(node, end = ' ')\n",
    "\n",
    "    for linked in check_dict[node]:\n",
    "        indegree[linked] -= 1\n",
    "        if indegree[linked] == 0:\n",
    "            where_to_go.append(linked)"
   ]
  },
  {
   "cell_type": "code",
   "execution_count": null,
   "metadata": {},
   "outputs": [],
   "source": []
  }
 ],
 "metadata": {
  "kernelspec": {
   "display_name": "Python 3",
   "language": "python",
   "name": "python3"
  },
  "language_info": {
   "codemirror_mode": {
    "name": "ipython",
    "version": 3
   },
   "file_extension": ".py",
   "mimetype": "text/x-python",
   "name": "python",
   "nbconvert_exporter": "python",
   "pygments_lexer": "ipython3",
   "version": "3.7.3"
  }
 },
 "nbformat": 4,
 "nbformat_minor": 2
}
