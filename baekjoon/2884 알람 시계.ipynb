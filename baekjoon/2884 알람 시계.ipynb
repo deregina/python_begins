{
 "cells": [
  {
   "cell_type": "code",
   "execution_count": 4,
   "metadata": {},
   "outputs": [
    {
     "name": "stdout",
     "output_type": "stream",
     "text": [
      "0 15\n"
     ]
    }
   ],
   "source": [
    "a, b = map(int, input().split())"
   ]
  },
  {
   "cell_type": "code",
   "execution_count": 5,
   "metadata": {},
   "outputs": [],
   "source": [
    "a = int(a)\n",
    "b = int(b)"
   ]
  },
  {
   "cell_type": "code",
   "execution_count": 6,
   "metadata": {},
   "outputs": [
    {
     "name": "stdout",
     "output_type": "stream",
     "text": [
      "23 30\n"
     ]
    }
   ],
   "source": [
    "if b >= 45 :\n",
    "    b -= 45\n",
    "else :\n",
    "    if a >= 1 :\n",
    "        a -= 1\n",
    "        b += 15\n",
    "    else :\n",
    "        a += 23\n",
    "        b += 15\n",
    "print(a, b)"
   ]
  },
  {
   "cell_type": "markdown",
   "metadata": {},
   "source": [
    "옛날 풀이"
   ]
  },
  {
   "cell_type": "code",
   "execution_count": null,
   "metadata": {},
   "outputs": [],
   "source": [
    "if b >= 45 :\n",
    "    b -= 45\n",
    "    print(a, b)\n",
    "elif a >= 1 and b < 45 :\n",
    "    a -= 1\n",
    "    b += 15\n",
    "    print(a, b)\n",
    "elif a < 1 and b < 45 :\n",
    "    a += 23\n",
    "    b += 15\n",
    "    print(a, b)"
   ]
  },
  {
   "cell_type": "code",
   "execution_count": null,
   "metadata": {},
   "outputs": [],
   "source": [
    "if b >= 45 :\n",
    "    b -= 45\n",
    "    print(a, b)\n",
    "elif a >= 1 and b < 45 :\n",
    "    a -= 1\n",
    "    b += 15\n",
    "    print(a, b)\n",
    "elif a < 1 and b < 45 :\n",
    "    a += 23\n",
    "    b += 15\n",
    "    print(a, b)"
   ]
  },
  {
   "cell_type": "code",
   "execution_count": null,
   "metadata": {},
   "outputs": [],
   "source": []
  }
 ],
 "metadata": {
  "kernelspec": {
   "display_name": "Python 3",
   "language": "python",
   "name": "python3"
  },
  "language_info": {
   "codemirror_mode": {
    "name": "ipython",
    "version": 3
   },
   "file_extension": ".py",
   "mimetype": "text/x-python",
   "name": "python",
   "nbconvert_exporter": "python",
   "pygments_lexer": "ipython3",
   "version": "3.7.3"
  }
 },
 "nbformat": 4,
 "nbformat_minor": 2
}
