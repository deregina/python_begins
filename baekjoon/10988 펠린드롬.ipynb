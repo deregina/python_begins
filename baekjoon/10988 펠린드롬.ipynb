{
 "cells": [
  {
   "cell_type": "code",
   "execution_count": null,
   "metadata": {},
   "outputs": [],
   "source": [
    "t = input()\n",
    "l = len(t)\n",
    "i = 0\n",
    "while i < (l//2) :\n",
    "    if t[i] == t[-i-1] : \n",
    "        i += 1\n",
    "        pass\n",
    "    else : \n",
    "        print(\"0\")\n",
    "        break\n",
    "\n",
    "if i == l//2 :\n",
    "    print(\"1\")"
   ]
  }
 ],
 "metadata": {
  "kernelspec": {
   "display_name": "Python 3",
   "language": "python",
   "name": "python3"
  },
  "language_info": {
   "codemirror_mode": {
    "name": "ipython",
    "version": 3
   },
   "file_extension": ".py",
   "mimetype": "text/x-python",
   "name": "python",
   "nbconvert_exporter": "python",
   "pygments_lexer": "ipython3",
   "version": "3.7.3"
  }
 },
 "nbformat": 4,
 "nbformat_minor": 2
}
