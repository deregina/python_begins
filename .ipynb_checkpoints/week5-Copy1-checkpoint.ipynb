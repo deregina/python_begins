{
 "cells": [
  {
   "cell_type": "markdown",
   "metadata": {},
   "source": [
    "**총 복습**<br>\n",
    "- 입출력 \n",
    "- 문자열\n",
    "- 리스트, 딕셔너리\n",
    "- 반복/조건문\n",
    "- 함수 : def 함수 이름 (인자argument ):\n",
    "    함수 코드 내용\n",
    "    return ()\n",
    "\n",
    "**문제**\n",
    "- [10171 고양이](https://www.acmicpc.net/problem/10171): 입출력\n",
    "- L=[11, 10, 83, 25, 28]의 원소들을 오른쪽으로 한 칸씩 쉬프트(rotate right)하여 출력하시오. : 리스트\n",
    "- [2675 문자열 반복](https://icpc.me/2675) : 문자열, 반복\n",
    "- [14405: 피카츄](https://www.acmicpc.net/problem/14405) 인덱스: 문자열, 반복조건문\n",
    "- 문장을 입력 받으면, 그 문장을 구성하는 단어들의 개수와 단어들의 평균길이를 구하시오.: 함수 만들어서 풀기"
   ]
  },
  {
   "cell_type": "code",
   "execution_count": null,
   "metadata": {},
   "outputs": [],
   "source": [
    "# L=[11, 10, 83, 25, 28]의 원소들을 오른쪽으로 한 칸씩 쉬프트(rotate right)하여 출력하시오. : 리스트 의 확장\n",
    "while True:\n",
    "    l = list(map(int, input(\"list of numbers: \").split()))\n",
    "    _len = len(l)\n",
    "    move = int(input(\"Move: \"))\n",
    "    if move > _len:\n",
    "        print(\"move should be smaller than length of the list\")\n",
    "        continue\n",
    "    \n",
    "    direction = input(\"Direction(L/R): \").lower()\n",
    "    l = l+l\n",
    "    \n",
    "    if direction == \"l\":\n",
    "        result = l[move:move+_len]\n",
    "    elif direction == \"r\":\n",
    "        result = l[(_len-move):(_len-move)+_len]\n",
    "    else:\n",
    "        print(\"direction should be either L or R\")\n",
    "\n",
    "    print(result)\n",
    "    \n",
    "    if input(\"Continue? Y/N: \").lower() == 'y':\n",
    "        break"
   ]
  },
  {
   "cell_type": "code",
   "execution_count": null,
   "metadata": {},
   "outputs": [],
   "source": [
    "# 문장을 입력 받으면, 그 문장을 구성하는 단어들의 개수와 단어들의 평균길이를 구하시오.: 함수 만들어서 풀기\n",
    "def count_average():\n",
    "    ()\n",
    "    return ()\n",
    "\n",
    "# 문장 입력\n",
    "sentence\n",
    "count_average(sentence)\n",
    "print(평균, 단어 개수 )"
   ]
  },
  {
   "cell_type": "markdown",
   "metadata": {},
   "source": [
    "# 파일 입출력\n",
    "\n",
    "연다 - 읽거나 쓴다 - 닫는다 <br>\n",
    "\"r\", \"w\", \"a\", \"r+\"\n",
    "\n",
    "1. txt 파일\n",
    "2. csv 파일"
   ]
  },
  {
   "cell_type": "code",
   "execution_count": null,
   "metadata": {},
   "outputs": [],
   "source": [
    "f = open(\"./example.txt\", 'w')\n",
    "for i in range(1, 11):\n",
    "    data = \"%d\\n\" % i\n",
    "    f.write(data)"
   ]
  },
  {
   "cell_type": "code",
   "execution_count": null,
   "metadata": {},
   "outputs": [],
   "source": [
    "line = f.read()"
   ]
  },
  {
   "cell_type": "code",
   "execution_count": null,
   "metadata": {},
   "outputs": [],
   "source": [
    "f.close()"
   ]
  },
  {
   "cell_type": "code",
   "execution_count": null,
   "metadata": {},
   "outputs": [],
   "source": [
    "f = open(\"./example.txt\", 'r')\n",
    "line1 = f.readline()\n",
    "print(\"line1\\n\", line1, sep=\"\")\n",
    "f.readline()\n",
    "line2 = f.read()\n",
    "print(\"line2\\n\", line2, sep=\"\")\n",
    "lines = f.readlines()\n",
    "print(\"lines\\n\", lines, sep=\"\")\n",
    "\n",
    "line1, line2, lines = map(type, (line1, line2, lines))\n",
    "print(line1, line2, lines)\n",
    "f.close()"
   ]
  },
  {
   "cell_type": "code",
   "execution_count": null,
   "metadata": {},
   "outputs": [],
   "source": [
    "with open(\"../python.txt\", \"w\") as f:\n",
    "    f.write(\"Life is too short, you need python\")"
   ]
  },
  {
   "cell_type": "code",
   "execution_count": null,
   "metadata": {},
   "outputs": [],
   "source": [
    "with open(\"./2675.txt\", 'w') as f:\n",
    "    f.write(\"2\\n\")\n",
    "    f.write(\"3 ABC\\n\")\n",
    "    f.write(\"5 /HTP\\n\")"
   ]
  },
  {
   "cell_type": "markdown",
   "metadata": {},
   "source": [
    "# csv파일과 pandas  "
   ]
  },
  {
   "cell_type": "code",
   "execution_count": null,
   "metadata": {},
   "outputs": [],
   "source": [
    "import pandas as pd\n",
    "# from pandas import read_csv"
   ]
  },
  {
   "cell_type": "code",
   "execution_count": null,
   "metadata": {},
   "outputs": [],
   "source": [
    "filepath = \"./example.csv\"\n",
    "df = pd.read_csv(filepath, encoding=\"cp949\") "
   ]
  },
  {
   "cell_type": "code",
   "execution_count": null,
   "metadata": {
    "scrolled": true
   },
   "outputs": [],
   "source": [
    "df"
   ]
  },
  {
   "cell_type": "code",
   "execution_count": null,
   "metadata": {},
   "outputs": [],
   "source": [
    "type(df)"
   ]
  },
  {
   "cell_type": "code",
   "execution_count": null,
   "metadata": {},
   "outputs": [],
   "source": [
    "df.index"
   ]
  },
  {
   "cell_type": "code",
   "execution_count": null,
   "metadata": {},
   "outputs": [],
   "source": [
    "df.columns"
   ]
  },
  {
   "cell_type": "code",
   "execution_count": null,
   "metadata": {},
   "outputs": [],
   "source": [
    "df.iloc[0:5, 1:5]"
   ]
  },
  {
   "cell_type": "code",
   "execution_count": null,
   "metadata": {
    "scrolled": true
   },
   "outputs": [],
   "source": [
    "df.loc[:, 0:5]"
   ]
  },
  {
   "cell_type": "code",
   "execution_count": null,
   "metadata": {
    "scrolled": true
   },
   "outputs": [],
   "source": [
    "df.loc[:,'강력범죄':'지능범죄']"
   ]
  },
  {
   "cell_type": "code",
   "execution_count": null,
   "metadata": {},
   "outputs": [],
   "source": [
    "filepath = \"./example.csv\"\n",
    "df1 = pd.read_csv(filepath, index_col=[0], header=0, encoding=\"cp949\") "
   ]
  },
  {
   "cell_type": "code",
   "execution_count": null,
   "metadata": {},
   "outputs": [],
   "source": [
    "df1"
   ]
  },
  {
   "cell_type": "code",
   "execution_count": null,
   "metadata": {},
   "outputs": [],
   "source": [
    "df1 *= 10"
   ]
  },
  {
   "cell_type": "code",
   "execution_count": null,
   "metadata": {},
   "outputs": [],
   "source": [
    "df1"
   ]
  },
  {
   "cell_type": "code",
   "execution_count": null,
   "metadata": {},
   "outputs": [],
   "source": [
    "df1.index"
   ]
  },
  {
   "cell_type": "code",
   "execution_count": null,
   "metadata": {
    "scrolled": true
   },
   "outputs": [],
   "source": [
    "df1.columns"
   ]
  },
  {
   "cell_type": "code",
   "execution_count": null,
   "metadata": {},
   "outputs": [],
   "source": [
    "df2 = pd.DataFrame(df1, columns=['강력범죄', '지능범죄'])"
   ]
  },
  {
   "cell_type": "code",
   "execution_count": null,
   "metadata": {
    "scrolled": true
   },
   "outputs": [],
   "source": [
    "df2"
   ]
  },
  {
   "cell_type": "code",
   "execution_count": null,
   "metadata": {},
   "outputs": [],
   "source": [
    "df2.to_csv(\"./example_output.csv\")"
   ]
  },
  {
   "cell_type": "markdown",
   "metadata": {},
   "source": [
    "# 클래스 --> 궁금한거 두개 이상 적어오기~\n",
    "객체이름.메소드\n",
    "\n",
    "\n",
    "1. 굳이 __init__을 써야하는 이유는 무엇인가?\n",
    "\n",
    "2. isOn 자리에는 Ture/False, 1/0을 쓰면 되는가?"
   ]
  },
  {
   "cell_type": "code",
   "execution_count": 11,
   "metadata": {},
   "outputs": [],
   "source": [
    "class TV:\n",
    "    def __init__(self, channel, volume, isOn):\n",
    "        self.channel = channel\n",
    "        self.volume = volume\n",
    "        self.isOn = isOn\n",
    "    \n",
    "    def turnOn(self):\n",
    "        self.isOn = True\n",
    "    \n",
    "    def turnOff(self):\n",
    "        self.isOn = False\n",
    "        \n",
    "    def setChannel(self, channel):\n",
    "        self.channel = channel\n",
    "        \n",
    "    def setVolume(self, volume):\n",
    "        self.volume = volume\n",
    "        \n",
    "    def status(self):\n",
    "        print(\"Channel: \", self.channel)\n",
    "        print(\"Volume: \", self.volume)\n",
    "        print(\"On/Off: \", self.isOn)"
   ]
  },
  {
   "cell_type": "code",
   "execution_count": 14,
   "metadata": {},
   "outputs": [],
   "source": [
    "tele = TV(7, 6, True)"
   ]
  },
  {
   "cell_type": "code",
   "execution_count": 16,
   "metadata": {},
   "outputs": [],
   "source": [
    "tele.turnOff()"
   ]
  },
  {
   "cell_type": "code",
   "execution_count": 17,
   "metadata": {},
   "outputs": [
    {
     "name": "stdout",
     "output_type": "stream",
     "text": [
      "Channel:  7\n",
      "Volume:  6\n",
      "On/Off:  False\n"
     ]
    }
   ],
   "source": [
    "tele.status()"
   ]
  },
  {
   "cell_type": "code",
   "execution_count": 9,
   "metadata": {},
   "outputs": [],
   "source": [
    "tele.turnOff()"
   ]
  },
  {
   "cell_type": "code",
   "execution_count": 10,
   "metadata": {},
   "outputs": [
    {
     "name": "stdout",
     "output_type": "stream",
     "text": [
      "Channel:  7\n",
      "Volume:  6\n"
     ]
    }
   ],
   "source": [
    "tele.status()"
   ]
  },
  {
   "cell_type": "code",
   "execution_count": null,
   "metadata": {},
   "outputs": [],
   "source": [
    "class TV:\n",
    "    def __init__(self, channel, volume, isOn):\n",
    "        self.channel = channel\n",
    "        self.volume = volume\n",
    "        self.isOn = isOn\n",
    "    \n",
    "    def turnOn(self):\n",
    "        self.isOn = True\n",
    "    \n",
    "    def turnOff(self):\n",
    "        self.isOn = False\n",
    "        \n",
    "    def setChannel(self, channel):\n",
    "        self.channel = channel\n",
    "        \n",
    "    def setVolume(self, volume):\n",
    "        self.volume = volume\n",
    "        \n",
    "    def status(self):\n",
    "        print(\"Channel: \", self.channel)\n",
    "        print(\"Volume: \", self.volume)\n",
    "        print(\"On/Off: \", self.isOn)"
   ]
  },
  {
   "cell_type": "code",
   "execution_count": null,
   "metadata": {},
   "outputs": [],
   "source": []
  },
  {
   "cell_type": "code",
   "execution_count": null,
   "metadata": {},
   "outputs": [],
   "source": [
    "tv = TV(5, 8, True)"
   ]
  },
  {
   "cell_type": "code",
   "execution_count": null,
   "metadata": {},
   "outputs": [],
   "source": [
    "tv"
   ]
  },
  {
   "cell_type": "code",
   "execution_count": null,
   "metadata": {},
   "outputs": [],
   "source": [
    "tv.status()"
   ]
  },
  {
   "cell_type": "code",
   "execution_count": null,
   "metadata": {},
   "outputs": [],
   "source": [
    "tv.setChannel(15)"
   ]
  },
  {
   "cell_type": "code",
   "execution_count": null,
   "metadata": {},
   "outputs": [],
   "source": [
    "tv.status()"
   ]
  },
  {
   "cell_type": "code",
   "execution_count": null,
   "metadata": {},
   "outputs": [],
   "source": []
  }
 ],
 "metadata": {
  "kernelspec": {
   "display_name": "Python 3",
   "language": "python",
   "name": "python3"
  },
  "language_info": {
   "codemirror_mode": {
    "name": "ipython",
    "version": 3
   },
   "file_extension": ".py",
   "mimetype": "text/x-python",
   "name": "python",
   "nbconvert_exporter": "python",
   "pygments_lexer": "ipython3",
   "version": "3.7.3"
  }
 },
 "nbformat": 4,
 "nbformat_minor": 2
}
