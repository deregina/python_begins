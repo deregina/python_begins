{
 "cells": [
  {
   "cell_type": "code",
   "execution_count": 2,
   "metadata": {},
   "outputs": [
    {
     "name": "stdout",
     "output_type": "stream",
     "text": [
      "26\n"
     ]
    }
   ],
   "source": [
    "first_num = int(input())"
   ]
  },
  {
   "cell_type": "raw",
   "metadata": {},
   "source": [
    "def func_plus(first_num, num) :\n",
    "    qutient = num // 10\n",
    "    remainder = num % 10\n",
    "    plus = qutient + remainder\n",
    "    remainder_2 = plus % 10\n",
    "    num = plus * 10 + remainder_2\n",
    "    if result == first_num :\n",
    "        return \"OK\"\n",
    "    else :\n",
    "        return func_plus(first_num, num)"
   ]
  },
  {
   "cell_type": "code",
   "execution_count": 13,
   "metadata": {},
   "outputs": [],
   "source": [
    "def func_plus(num) :\n",
    "    qutient = num // 10\n",
    "    remainder = num % 10\n",
    "    plus = qutient + remainder\n",
    "    remainder_2 = plus % 10\n",
    "    result = remainder * 10 + remainder_2\n",
    "    return result"
   ]
  },
  {
   "cell_type": "code",
   "execution_count": 16,
   "metadata": {},
   "outputs": [
    {
     "name": "stdout",
     "output_type": "stream",
     "text": [
      "42\n"
     ]
    }
   ],
   "source": [
    "num = 26\n",
    "i = 0\n",
    "num = func_plus(num)\n",
    "\n",
    "if first_num == func_plus(num) :\n",
    "    print(i)\n",
    "else : \n",
    "    i += 1\n",
    "    print(func_plus(func_plus(num)))"
   ]
  },
  {
   "cell_type": "code",
   "execution_count": null,
   "metadata": {},
   "outputs": [],
   "source": []
  },
  {
   "cell_type": "code",
   "execution_count": null,
   "metadata": {},
   "outputs": [],
   "source": []
  }
 ],
 "metadata": {
  "kernelspec": {
   "display_name": "Python 3",
   "language": "python",
   "name": "python3"
  },
  "language_info": {
   "codemirror_mode": {
    "name": "ipython",
    "version": 3
   },
   "file_extension": ".py",
   "mimetype": "text/x-python",
   "name": "python",
   "nbconvert_exporter": "python",
   "pygments_lexer": "ipython3",
   "version": "3.7.3"
  }
 },
 "nbformat": 4,
 "nbformat_minor": 2
}
