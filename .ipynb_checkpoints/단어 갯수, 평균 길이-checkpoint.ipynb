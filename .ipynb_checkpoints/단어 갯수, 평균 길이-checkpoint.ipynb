{
 "cells": [
  {
   "cell_type": "code",
   "execution_count": 13,
   "metadata": {},
   "outputs": [
    {
     "name": "stdout",
     "output_type": "stream",
     "text": [
      "보우야 다음 수업은 언제야?\n"
     ]
    }
   ],
   "source": [
    "sen = input()"
   ]
  },
  {
   "cell_type": "code",
   "execution_count": 14,
   "metadata": {},
   "outputs": [],
   "source": [
    "sen_list = sen.split(sep = \" \")"
   ]
  },
  {
   "cell_type": "code",
   "execution_count": 15,
   "metadata": {},
   "outputs": [],
   "source": [
    "howmany = len(sen_list)"
   ]
  },
  {
   "cell_type": "code",
   "execution_count": 16,
   "metadata": {},
   "outputs": [],
   "source": [
    "howlong = 0\n",
    "for i in range(howmany) :\n",
    "    howlong += len(sen_list[i])\n",
    "aver_long = howlong / howmany"
   ]
  },
  {
   "cell_type": "code",
   "execution_count": 17,
   "metadata": {},
   "outputs": [
    {
     "name": "stdout",
     "output_type": "stream",
     "text": [
      "4 3.0\n"
     ]
    }
   ],
   "source": [
    "print(howmany, aver_long)"
   ]
  },
  {
   "cell_type": "code",
   "execution_count": 20,
   "metadata": {},
   "outputs": [],
   "source": [
    "def sentence(sen):\n",
    "    sen_list = sen.split(sep = \" \")\n",
    "    howmany = len(sen_list)\n",
    "    howlong = 0\n",
    "    for i in range(howmany) :\n",
    "        howlong += len(sen_list[i])\n",
    "    aver_long = howlong / howmany\n",
    "    return howmany, aver_long"
   ]
  },
  {
   "cell_type": "code",
   "execution_count": null,
   "metadata": {},
   "outputs": [],
   "source": []
  }
 ],
 "metadata": {
  "kernelspec": {
   "display_name": "Python 3",
   "language": "python",
   "name": "python3"
  },
  "language_info": {
   "codemirror_mode": {
    "name": "ipython",
    "version": 3
   },
   "file_extension": ".py",
   "mimetype": "text/x-python",
   "name": "python",
   "nbconvert_exporter": "python",
   "pygments_lexer": "ipython3",
   "version": "3.7.3"
  }
 },
 "nbformat": 4,
 "nbformat_minor": 2
}
